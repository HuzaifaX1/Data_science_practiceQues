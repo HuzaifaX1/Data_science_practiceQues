{
 "cells": [
  {
   "cell_type": "code",
   "execution_count": 1,
   "id": "e477312e",
   "metadata": {},
   "outputs": [],
   "source": [
    "# functions>> print() >> print, len, type these are inbuilt function \n",
    "# ceil > Roof>> gives nearest highest whole no value\n",
    "# floor > ground>> gives nearest lowest whole no value"
   ]
  },
  {
   "cell_type": "code",
   "execution_count": 2,
   "id": "d1231573",
   "metadata": {},
   "outputs": [],
   "source": [
    "import math as m"
   ]
  },
  {
   "cell_type": "code",
   "execution_count": 5,
   "id": "427ef42f",
   "metadata": {},
   "outputs": [
    {
     "data": {
      "text/plain": [
       "6"
      ]
     },
     "execution_count": 5,
     "metadata": {},
     "output_type": "execute_result"
    }
   ],
   "source": [
    "m.ceil(5.6)"
   ]
  },
  {
   "cell_type": "code",
   "execution_count": 6,
   "id": "32aefc7e",
   "metadata": {},
   "outputs": [
    {
     "data": {
      "text/plain": [
       "4"
      ]
     },
     "execution_count": 6,
     "metadata": {},
     "output_type": "execute_result"
    }
   ],
   "source": [
    "m.floor(4.8)"
   ]
  },
  {
   "cell_type": "raw",
   "id": "0fb7ba03",
   "metadata": {},
   "source": [
    " functions are mainly two type:\n",
    " built-in function\n",
    " user-define function"
   ]
  },
  {
   "cell_type": "code",
   "execution_count": null,
   "id": "7a845d69",
   "metadata": {},
   "outputs": [],
   "source": [
    "# function is a block of code which perform some specific task/computation\n",
    "# why function? >> bcz functions are reuseable, neat, clean, well-organised, saves ur time"
   ]
  },
  {
   "cell_type": "code",
   "execution_count": 8,
   "id": "2f3435e0",
   "metadata": {},
   "outputs": [],
   "source": [
    "#                     BUILT-IN FUNCTION\n",
    "# print, type, ceil, floor\n",
    "\n",
    "# syntex of function\n",
    "# def function:\n",
    "#     do something >> body of function"
   ]
  },
  {
   "cell_type": "code",
   "execution_count": 14,
   "id": "9764a9ca",
   "metadata": {},
   "outputs": [],
   "source": [
    "def greetings():\n",
    "    print(\"Welcome to my kingdom\")"
   ]
  },
  {
   "cell_type": "code",
   "execution_count": 15,
   "id": "9b6d405b",
   "metadata": {},
   "outputs": [
    {
     "name": "stdout",
     "output_type": "stream",
     "text": [
      "Welcome to my kingdom\n"
     ]
    }
   ],
   "source": [
    "greetings()"
   ]
  },
  {
   "cell_type": "code",
   "execution_count": 21,
   "id": "3aecbfc4",
   "metadata": {},
   "outputs": [],
   "source": [
    "def greetings(name):  #passing a variable inside a function >> name is called Positional Arguement\n",
    "    print(\"Welcome to my kingdom\", name)"
   ]
  },
  {
   "cell_type": "code",
   "execution_count": 22,
   "id": "b8894f04",
   "metadata": {},
   "outputs": [
    {
     "name": "stdout",
     "output_type": "stream",
     "text": [
      "Welcome to my kingdom Huzaifa Sir\n"
     ]
    }
   ],
   "source": [
    "greetings(\"Huzaifa Sir\")"
   ]
  },
  {
   "cell_type": "code",
   "execution_count": 23,
   "id": "2e256386",
   "metadata": {},
   "outputs": [
    {
     "name": "stdout",
     "output_type": "stream",
     "text": [
      "Welcome to my kingdom huh\n"
     ]
    }
   ],
   "source": [
    "greetings(\"huh\")"
   ]
  },
  {
   "cell_type": "code",
   "execution_count": 24,
   "id": "c2cdd308",
   "metadata": {},
   "outputs": [
    {
     "ename": "TypeError",
     "evalue": "greetings() missing 1 required positional argument: 'name'",
     "output_type": "error",
     "traceback": [
      "\u001b[1;31m---------------------------------------------------------------------------\u001b[0m",
      "\u001b[1;31mTypeError\u001b[0m                                 Traceback (most recent call last)",
      "Cell \u001b[1;32mIn[24], line 1\u001b[0m\n\u001b[1;32m----> 1\u001b[0m \u001b[43mgreetings\u001b[49m\u001b[43m(\u001b[49m\u001b[43m)\u001b[49m \u001b[38;5;66;03m#this will throw an error\u001b[39;00m\n",
      "\u001b[1;31mTypeError\u001b[0m: greetings() missing 1 required positional argument: 'name'"
     ]
    }
   ],
   "source": [
    "greetings() #this will throw an error"
   ]
  },
  {
   "cell_type": "code",
   "execution_count": 28,
   "id": "d325bc3b",
   "metadata": {},
   "outputs": [],
   "source": [
    "def greet(kuchbhi):\n",
    "    print(\"Welcome to my kingdom\", kuchbhi)"
   ]
  },
  {
   "cell_type": "code",
   "execution_count": 29,
   "id": "0f2880d9",
   "metadata": {},
   "outputs": [
    {
     "name": "stdout",
     "output_type": "stream",
     "text": [
      "Welcome to my kingdom Huzaifa\n"
     ]
    }
   ],
   "source": [
    "greet(\"Huzaifa\")"
   ]
  },
  {
   "cell_type": "code",
   "execution_count": 30,
   "id": "2373770b",
   "metadata": {},
   "outputs": [],
   "source": [
    "def func():\n",
    "    print(\"This is my first function\")"
   ]
  },
  {
   "cell_type": "code",
   "execution_count": 32,
   "id": "b1d13987",
   "metadata": {},
   "outputs": [
    {
     "name": "stdout",
     "output_type": "stream",
     "text": [
      "This is my first function\n"
     ]
    },
    {
     "ename": "TypeError",
     "evalue": "unsupported operand type(s) for +: 'NoneType' and 'str'",
     "output_type": "error",
     "traceback": [
      "\u001b[1;31m---------------------------------------------------------------------------\u001b[0m",
      "\u001b[1;31mTypeError\u001b[0m                                 Traceback (most recent call last)",
      "Cell \u001b[1;32mIn[32], line 1\u001b[0m\n\u001b[1;32m----> 1\u001b[0m \u001b[43mfunc\u001b[49m\u001b[43m(\u001b[49m\u001b[43m)\u001b[49m\u001b[43m \u001b[49m\u001b[38;5;241;43m+\u001b[39;49m\u001b[43m \u001b[49m\u001b[38;5;124;43m\"\u001b[39;49m\u001b[38;5;124;43m In python\u001b[39;49m\u001b[38;5;124;43m\"\u001b[39;49m \u001b[38;5;66;03m# >>throw an error\u001b[39;00m\n",
      "\u001b[1;31mTypeError\u001b[0m: unsupported operand type(s) for +: 'NoneType' and 'str'"
     ]
    }
   ],
   "source": [
    "func() + \" In python\" # >>throw an error >>>>> +: 'NoneType' and 'str'"
   ]
  },
  {
   "cell_type": "code",
   "execution_count": 34,
   "id": "225df9fb",
   "metadata": {},
   "outputs": [
    {
     "name": "stdout",
     "output_type": "stream",
     "text": [
      "This is my first function\n",
      "<class 'NoneType'>\n"
     ]
    }
   ],
   "source": [
    "print(type(func()))"
   ]
  },
  {
   "cell_type": "code",
   "execution_count": 42,
   "id": "abcd0a11",
   "metadata": {},
   "outputs": [
    {
     "data": {
      "text/plain": [
       "'This is my first function'"
      ]
     },
     "execution_count": 42,
     "metadata": {},
     "output_type": "execute_result"
    }
   ],
   "source": [
    "# to concatenate use return instead of print\n",
    "def func():\n",
    "    return \"This is my first function\" #>> output of a function\n",
    "func()  #functionality of string is, should have single quote in output"
   ]
  },
  {
   "cell_type": "code",
   "execution_count": 43,
   "id": "2831b59d",
   "metadata": {},
   "outputs": [
    {
     "data": {
      "text/plain": [
       "'This is my first function in python'"
      ]
     },
     "execution_count": 43,
     "metadata": {},
     "output_type": "execute_result"
    }
   ],
   "source": [
    "def func():\n",
    "    return \"This is my first function\"\n",
    "func() + ' in python'"
   ]
  },
  {
   "cell_type": "code",
   "execution_count": 53,
   "id": "fb0ad72d",
   "metadata": {},
   "outputs": [],
   "source": [
    "def func():\n",
    "    return \"This is data science course\", 1, 3.4, True, 4+9j"
   ]
  },
  {
   "cell_type": "code",
   "execution_count": 54,
   "id": "24394f17",
   "metadata": {},
   "outputs": [],
   "source": [
    "a = func() # this will return in tuple"
   ]
  },
  {
   "cell_type": "code",
   "execution_count": 55,
   "id": "ea654ba5",
   "metadata": {},
   "outputs": [
    {
     "data": {
      "text/plain": [
       "tuple"
      ]
     },
     "execution_count": 55,
     "metadata": {},
     "output_type": "execute_result"
    }
   ],
   "source": [
    "type(a)"
   ]
  },
  {
   "cell_type": "code",
   "execution_count": 64,
   "id": "85b74bfa",
   "metadata": {},
   "outputs": [],
   "source": [
    "a, b, c, d, e = func()"
   ]
  },
  {
   "cell_type": "code",
   "execution_count": 65,
   "id": "ec5ff96e",
   "metadata": {},
   "outputs": [
    {
     "data": {
      "text/plain": [
       "'This is data science course'"
      ]
     },
     "execution_count": 65,
     "metadata": {},
     "output_type": "execute_result"
    }
   ],
   "source": [
    "a"
   ]
  },
  {
   "cell_type": "code",
   "execution_count": 66,
   "id": "4fbf14e9",
   "metadata": {},
   "outputs": [
    {
     "data": {
      "text/plain": [
       "1"
      ]
     },
     "execution_count": 66,
     "metadata": {},
     "output_type": "execute_result"
    }
   ],
   "source": [
    "b"
   ]
  },
  {
   "cell_type": "code",
   "execution_count": 67,
   "id": "11a1a7b9",
   "metadata": {},
   "outputs": [
    {
     "data": {
      "text/plain": [
       "3.4"
      ]
     },
     "execution_count": 67,
     "metadata": {},
     "output_type": "execute_result"
    }
   ],
   "source": [
    "c"
   ]
  },
  {
   "cell_type": "code",
   "execution_count": 68,
   "id": "e80dfd27",
   "metadata": {},
   "outputs": [
    {
     "data": {
      "text/plain": [
       "True"
      ]
     },
     "execution_count": 68,
     "metadata": {},
     "output_type": "execute_result"
    }
   ],
   "source": [
    "d"
   ]
  },
  {
   "cell_type": "code",
   "execution_count": 69,
   "id": "17e0d146",
   "metadata": {},
   "outputs": [
    {
     "data": {
      "text/plain": [
       "(4+9j)"
      ]
     },
     "execution_count": 69,
     "metadata": {},
     "output_type": "execute_result"
    }
   ],
   "source": [
    "e"
   ]
  },
  {
   "cell_type": "code",
   "execution_count": 70,
   "id": "50d76c46",
   "metadata": {},
   "outputs": [],
   "source": [
    "a = func()"
   ]
  },
  {
   "cell_type": "code",
   "execution_count": 71,
   "id": "bafbaa0a",
   "metadata": {},
   "outputs": [
    {
     "data": {
      "text/plain": [
       "('This is data science course', 1, 3.4, True, (4+9j))"
      ]
     },
     "execution_count": 71,
     "metadata": {},
     "output_type": "execute_result"
    }
   ],
   "source": [
    "a"
   ]
  },
  {
   "cell_type": "code",
   "execution_count": 72,
   "id": "287194a6",
   "metadata": {},
   "outputs": [
    {
     "data": {
      "text/plain": [
       "'This is data science course'"
      ]
     },
     "execution_count": 72,
     "metadata": {},
     "output_type": "execute_result"
    }
   ],
   "source": [
    "a[0]"
   ]
  },
  {
   "cell_type": "code",
   "execution_count": 73,
   "id": "3429d666",
   "metadata": {},
   "outputs": [
    {
     "data": {
      "text/plain": [
       "True"
      ]
     },
     "execution_count": 73,
     "metadata": {},
     "output_type": "execute_result"
    }
   ],
   "source": [
    "a[3]"
   ]
  },
  {
   "cell_type": "code",
   "execution_count": 74,
   "id": "293e01a9",
   "metadata": {},
   "outputs": [
    {
     "data": {
      "text/plain": [
       "3.4"
      ]
     },
     "execution_count": 74,
     "metadata": {},
     "output_type": "execute_result"
    }
   ],
   "source": [
    "a[2]"
   ]
  },
  {
   "cell_type": "code",
   "execution_count": 75,
   "id": "62ca19b7",
   "metadata": {},
   "outputs": [
    {
     "data": {
      "text/plain": [
       "1"
      ]
     },
     "execution_count": 75,
     "metadata": {},
     "output_type": "execute_result"
    }
   ],
   "source": [
    "a[1]"
   ]
  },
  {
   "cell_type": "code",
   "execution_count": 77,
   "id": "05c91cf0",
   "metadata": {},
   "outputs": [
    {
     "data": {
      "text/plain": [
       "(4+9j)"
      ]
     },
     "execution_count": 77,
     "metadata": {},
     "output_type": "execute_result"
    }
   ],
   "source": [
    "a[4]"
   ]
  },
  {
   "cell_type": "code",
   "execution_count": 78,
   "id": "a8981ee3",
   "metadata": {},
   "outputs": [],
   "source": [
    "def func():\n",
    "    calc = 2+3+5*6\n",
    "    return calc"
   ]
  },
  {
   "cell_type": "code",
   "execution_count": 79,
   "id": "58da350a",
   "metadata": {},
   "outputs": [
    {
     "data": {
      "text/plain": [
       "35"
      ]
     },
     "execution_count": 79,
     "metadata": {},
     "output_type": "execute_result"
    }
   ],
   "source": [
    "func()"
   ]
  },
  {
   "cell_type": "code",
   "execution_count": 80,
   "id": "b8a5a15b",
   "metadata": {},
   "outputs": [
    {
     "data": {
      "text/plain": [
       "int"
      ]
     },
     "execution_count": 80,
     "metadata": {},
     "output_type": "execute_result"
    }
   ],
   "source": [
    "type(func())"
   ]
  },
  {
   "cell_type": "code",
   "execution_count": 81,
   "id": "caebe0cc",
   "metadata": {},
   "outputs": [],
   "source": [
    "def square_no(a): #a is a arguement\n",
    "    return a*a"
   ]
  },
  {
   "cell_type": "code",
   "execution_count": 82,
   "id": "e0bd4d4e",
   "metadata": {},
   "outputs": [
    {
     "data": {
      "text/plain": [
       "16"
      ]
     },
     "execution_count": 82,
     "metadata": {},
     "output_type": "execute_result"
    }
   ],
   "source": [
    "square_no(4)"
   ]
  },
  {
   "cell_type": "code",
   "execution_count": 83,
   "id": "748f99bc",
   "metadata": {},
   "outputs": [],
   "source": [
    "def square_no(args):\n",
    "    return(args*args)"
   ]
  },
  {
   "cell_type": "code",
   "execution_count": 86,
   "id": "cb06aa80",
   "metadata": {},
   "outputs": [
    {
     "data": {
      "text/plain": [
       "11236"
      ]
     },
     "execution_count": 86,
     "metadata": {},
     "output_type": "execute_result"
    }
   ],
   "source": [
    "square_no(106)"
   ]
  },
  {
   "cell_type": "code",
   "execution_count": 88,
   "id": "c34cf073",
   "metadata": {},
   "outputs": [
    {
     "data": {
      "text/plain": [
       "10"
      ]
     },
     "execution_count": 88,
     "metadata": {},
     "output_type": "execute_result"
    }
   ],
   "source": [
    "def addition(a, b):\n",
    "    return a+b\n",
    "addition(8, 2)"
   ]
  },
  {
   "cell_type": "code",
   "execution_count": 90,
   "id": "1f4dfb13",
   "metadata": {},
   "outputs": [
    {
     "data": {
      "text/plain": [
       "'Huzaifa ansari'"
      ]
     },
     "execution_count": 90,
     "metadata": {},
     "output_type": "execute_result"
    }
   ],
   "source": [
    "addition(\"Huzaifa\", \" ansari\") #also use as concatenation"
   ]
  },
  {
   "cell_type": "code",
   "execution_count": 91,
   "id": "33ad30cb",
   "metadata": {},
   "outputs": [
    {
     "data": {
      "text/plain": [
       "[1, 2, 3, 4, 5, 6]"
      ]
     },
     "execution_count": 91,
     "metadata": {},
     "output_type": "execute_result"
    }
   ],
   "source": [
    "addition([1,2,3], [4,5,6]) #>> + will combining the list"
   ]
  },
  {
   "cell_type": "code",
   "execution_count": 92,
   "id": "2f855a66",
   "metadata": {},
   "outputs": [],
   "source": [
    "def addition(a, b): #here a and b are positional argument >> it maintains the order\n",
    "    return a+b"
   ]
  },
  {
   "cell_type": "code",
   "execution_count": 93,
   "id": "96198ad9",
   "metadata": {},
   "outputs": [
    {
     "data": {
      "text/plain": [
       "'skillpw'"
      ]
     },
     "execution_count": 93,
     "metadata": {},
     "output_type": "execute_result"
    }
   ],
   "source": [
    "addition(\"skill\", \"pw\")"
   ]
  },
  {
   "cell_type": "code",
   "execution_count": 95,
   "id": "bb1e32b4",
   "metadata": {},
   "outputs": [
    {
     "data": {
      "text/plain": [
       "'pwskills'"
      ]
     },
     "execution_count": 95,
     "metadata": {},
     "output_type": "execute_result"
    }
   ],
   "source": [
    "addition(b=\"skills\", a=\"pw\")"
   ]
  },
  {
   "cell_type": "code",
   "execution_count": 96,
   "id": "aaab34eb",
   "metadata": {},
   "outputs": [],
   "source": [
    "def sum1(a, b, c):\n",
    "    return a+b+c"
   ]
  },
  {
   "cell_type": "code",
   "execution_count": 97,
   "id": "961317b8",
   "metadata": {},
   "outputs": [
    {
     "data": {
      "text/plain": [
       "6"
      ]
     },
     "execution_count": 97,
     "metadata": {},
     "output_type": "execute_result"
    }
   ],
   "source": [
    "sum1(1,2,3)"
   ]
  },
  {
   "cell_type": "code",
   "execution_count": 102,
   "id": "7539e8bd",
   "metadata": {},
   "outputs": [],
   "source": [
    "# default argument\n",
    "def sum1(b, c, a=0): #default argument is passed to function in the last >> non-default argument follows default argument\n",
    "    return a+b+c"
   ]
  },
  {
   "cell_type": "code",
   "execution_count": 103,
   "id": "4044a52b",
   "metadata": {},
   "outputs": [
    {
     "data": {
      "text/plain": [
       "8"
      ]
     },
     "execution_count": 103,
     "metadata": {},
     "output_type": "execute_result"
    }
   ],
   "source": [
    "sum1(b=3, c=5)"
   ]
  },
  {
   "cell_type": "code",
   "execution_count": 111,
   "id": "76b74256",
   "metadata": {},
   "outputs": [],
   "source": [
    "def adds(a=0, b=5,c=0):\n",
    "    return a+b+c"
   ]
  },
  {
   "cell_type": "code",
   "execution_count": 112,
   "id": "f79e47f8",
   "metadata": {},
   "outputs": [
    {
     "data": {
      "text/plain": [
       "10"
      ]
     },
     "execution_count": 112,
     "metadata": {},
     "output_type": "execute_result"
    }
   ],
   "source": [
    "adds(5,5)"
   ]
  },
  {
   "cell_type": "code",
   "execution_count": 117,
   "id": "a794c588",
   "metadata": {},
   "outputs": [
    {
     "data": {
      "text/plain": [
       "6"
      ]
     },
     "execution_count": 117,
     "metadata": {},
     "output_type": "execute_result"
    }
   ],
   "source": [
    "adds(1)"
   ]
  },
  {
   "cell_type": "code",
   "execution_count": 118,
   "id": "3f0cfe2a",
   "metadata": {},
   "outputs": [
    {
     "data": {
      "text/plain": [
       "5"
      ]
     },
     "execution_count": 118,
     "metadata": {},
     "output_type": "execute_result"
    }
   ],
   "source": [
    "adds()"
   ]
  },
  {
   "cell_type": "code",
   "execution_count": 116,
   "id": "bdec5b08",
   "metadata": {},
   "outputs": [
    {
     "data": {
      "text/plain": [
       "1"
      ]
     },
     "execution_count": 116,
     "metadata": {},
     "output_type": "execute_result"
    }
   ],
   "source": [
    "adds(0,1)"
   ]
  },
  {
   "cell_type": "code",
   "execution_count": 115,
   "id": "07d40af2",
   "metadata": {},
   "outputs": [
    {
     "data": {
      "text/plain": [
       "6"
      ]
     },
     "execution_count": 115,
     "metadata": {},
     "output_type": "execute_result"
    }
   ],
   "source": [
    "adds(c=1)"
   ]
  },
  {
   "cell_type": "code",
   "execution_count": 119,
   "id": "949a5e4a",
   "metadata": {},
   "outputs": [
    {
     "data": {
      "text/plain": [
       "6"
      ]
     },
     "execution_count": 119,
     "metadata": {},
     "output_type": "execute_result"
    }
   ],
   "source": [
    "adds(a=1)"
   ]
  },
  {
   "cell_type": "code",
   "execution_count": 122,
   "id": "06c755a6",
   "metadata": {},
   "outputs": [],
   "source": [
    "def add_two_no():\n",
    "    a = int(input(\"Enter first no \"))\n",
    "    b = int(input(\"Enter second no \"))\n",
    "    return a+b"
   ]
  },
  {
   "cell_type": "code",
   "execution_count": 123,
   "id": "99238496",
   "metadata": {},
   "outputs": [
    {
     "name": "stdout",
     "output_type": "stream",
     "text": [
      "Enter first no 3\n",
      "Enter second no 9\n"
     ]
    },
    {
     "data": {
      "text/plain": [
       "12"
      ]
     },
     "execution_count": 123,
     "metadata": {},
     "output_type": "execute_result"
    }
   ],
   "source": [
    "add_two_no()"
   ]
  },
  {
   "cell_type": "code",
   "execution_count": 134,
   "id": "6f5724eb",
   "metadata": {},
   "outputs": [],
   "source": [
    "# Write a functions that take list as input and return all the numeric values in list\n",
    "def only_numeric(a):\n",
    "    n = []  #for all numeric value\n",
    "    for i in a:\n",
    "        if type(i) == int or type(i) == float: #or type(i) == complex:\n",
    "            n.append(i) # append just keep adding the value if condition is satisfy\n",
    "    return n"
   ]
  },
  {
   "cell_type": "code",
   "execution_count": 135,
   "id": "7fd675e5",
   "metadata": {},
   "outputs": [
    {
     "data": {
      "text/plain": [
       "[1, 2, 2.4]"
      ]
     },
     "execution_count": 135,
     "metadata": {},
     "output_type": "execute_result"
    }
   ],
   "source": [
    "only_numeric([1,2,2.4,\"Huzaifa\", True, 3+4j])"
   ]
  },
  {
   "cell_type": "code",
   "execution_count": 136,
   "id": "4e3df6e9",
   "metadata": {},
   "outputs": [
    {
     "data": {
      "text/plain": [
       "[1, 2, 2.4]"
      ]
     },
     "execution_count": 136,
     "metadata": {},
     "output_type": "execute_result"
    }
   ],
   "source": [
    "# now in input take nested list\n",
    "# only_numeric([1,2,2.4,\"Huzaifa\", True, 3+4j, [100,101,102]])"
   ]
  },
  {
   "cell_type": "code",
   "execution_count": 169,
   "id": "d94cc8b1",
   "metadata": {},
   "outputs": [],
   "source": [
    "def only_numeric(a):\n",
    "    n = []  #for all numeric value\n",
    "    for i in a:\n",
    "        if type(i) == list:\n",
    "            for j in i:\n",
    "                    if type(j) == int or type(j) == float:\n",
    "                        n.append(j)\n",
    "        else:\n",
    "            if type(i) == int or type(i) == float:  #or type(i) == complex:\n",
    "                n.append(i) # append just keep adding the value if condition is satisfy\n",
    "    return n"
   ]
  },
  {
   "cell_type": "code",
   "execution_count": 170,
   "id": "711fd78d",
   "metadata": {},
   "outputs": [
    {
     "data": {
      "text/plain": [
       "[1, 2, 2.4, 100, 101, 102]"
      ]
     },
     "execution_count": 170,
     "metadata": {},
     "output_type": "execute_result"
    }
   ],
   "source": [
    "only_numeric([1,2,2.4,\"Huzaifa\", True, 3+4j, [100,101,102,\"Huzzu\"]])"
   ]
  },
  {
   "cell_type": "code",
   "execution_count": 171,
   "id": "1e3c15a0",
   "metadata": {},
   "outputs": [],
   "source": [
    "def sums(a, b):\n",
    "    return a+b\n",
    "# but some time you have so much no to add and your arguement is n length\n",
    "# >> variable length arguement>> when you dont know the length of arguement"
   ]
  },
  {
   "cell_type": "code",
   "execution_count": 174,
   "id": "c779c81c",
   "metadata": {},
   "outputs": [],
   "source": [
    "'''when you put star it will automatically understand that this is a variable arguement it can be a \n",
    "any length'''\n",
    "'''When you put astric then function understand the length of arguement is not fixed'''\n",
    "def sums(*args):\n",
    "    return args"
   ]
  },
  {
   "cell_type": "code",
   "execution_count": 175,
   "id": "c96654c5",
   "metadata": {},
   "outputs": [
    {
     "data": {
      "text/plain": [
       "(1, 2, 2, 3, 4, 5, 5)"
      ]
     },
     "execution_count": 175,
     "metadata": {},
     "output_type": "execute_result"
    }
   ],
   "source": [
    "sums(1,2,2,3,4,5,5)"
   ]
  },
  {
   "cell_type": "code",
   "execution_count": 177,
   "id": "db5e81c8",
   "metadata": {},
   "outputs": [
    {
     "name": "stdout",
     "output_type": "stream",
     "text": [
      "1\n",
      "2\n",
      "3\n",
      "4\n",
      "5\n",
      "6\n",
      "7\n"
     ]
    }
   ],
   "source": [
    "for i in (1, 2, 3, 4, 5, 6, 7):\n",
    "    print(i)"
   ]
  },
  {
   "cell_type": "code",
   "execution_count": 187,
   "id": "3efc41cb",
   "metadata": {},
   "outputs": [],
   "source": [
    "# A function which can take any no of value and return the sum\n",
    "def func(*args):  #(5, 6, 7, 8)\n",
    "    s = 0\n",
    "    for i in args:\n",
    "        s = s+i  #0+5>> 5+6 >> 11+7 >> 18+8\n",
    "    return s   "
   ]
  },
  {
   "cell_type": "code",
   "execution_count": 188,
   "id": "dff98771",
   "metadata": {},
   "outputs": [
    {
     "data": {
      "text/plain": [
       "26"
      ]
     },
     "execution_count": 188,
     "metadata": {},
     "output_type": "execute_result"
    }
   ],
   "source": [
    "func(5, 6, 7, 8)"
   ]
  },
  {
   "cell_type": "code",
   "execution_count": 189,
   "id": "b95d327b",
   "metadata": {},
   "outputs": [
    {
     "data": {
      "text/plain": [
       "3"
      ]
     },
     "execution_count": 189,
     "metadata": {},
     "output_type": "execute_result"
    }
   ],
   "source": [
    "func(1,2)"
   ]
  },
  {
   "cell_type": "code",
   "execution_count": 190,
   "id": "8fb8b75a",
   "metadata": {},
   "outputs": [
    {
     "data": {
      "text/plain": [
       "1"
      ]
     },
     "execution_count": 190,
     "metadata": {},
     "output_type": "execute_result"
    }
   ],
   "source": [
    "func(1,) #it will not throw an error"
   ]
  },
  {
   "cell_type": "code",
   "execution_count": 191,
   "id": "aa52dc18",
   "metadata": {},
   "outputs": [],
   "source": [
    "# variable arguement with default arguement\n",
    "def func(*arge, a):\n",
    "    return arge, a"
   ]
  },
  {
   "cell_type": "code",
   "execution_count": 192,
   "id": "578ab800",
   "metadata": {},
   "outputs": [
    {
     "data": {
      "text/plain": [
       "((1, 2, 3), 100)"
      ]
     },
     "execution_count": 192,
     "metadata": {},
     "output_type": "execute_result"
    }
   ],
   "source": [
    "func(1, 2, 3, a = 100)"
   ]
  },
  {
   "cell_type": "code",
   "execution_count": 193,
   "id": "d2ff08d9",
   "metadata": {},
   "outputs": [
    {
     "ename": "TypeError",
     "evalue": "func() missing 1 required keyword-only argument: 'a'",
     "output_type": "error",
     "traceback": [
      "\u001b[1;31m---------------------------------------------------------------------------\u001b[0m",
      "\u001b[1;31mTypeError\u001b[0m                                 Traceback (most recent call last)",
      "Cell \u001b[1;32mIn[193], line 1\u001b[0m\n\u001b[1;32m----> 1\u001b[0m \u001b[43mfunc\u001b[49m\u001b[43m(\u001b[49m\u001b[38;5;241;43m1\u001b[39;49m\u001b[43m,\u001b[49m\u001b[43m \u001b[49m\u001b[38;5;241;43m2\u001b[39;49m\u001b[43m,\u001b[49m\u001b[43m \u001b[49m\u001b[38;5;241;43m3\u001b[39;49m\u001b[43m)\u001b[49m\n",
      "\u001b[1;31mTypeError\u001b[0m: func() missing 1 required keyword-only argument: 'a'"
     ]
    }
   ],
   "source": [
    "func(1, 2, 3)"
   ]
  },
  {
   "cell_type": "code",
   "execution_count": 194,
   "id": "851727c1",
   "metadata": {},
   "outputs": [],
   "source": [
    "# variable arguement >> takes any no of arguement\n",
    "#positional arguement >> fixed arguement"
   ]
  },
  {
   "cell_type": "code",
   "execution_count": 195,
   "id": "550ab271",
   "metadata": {},
   "outputs": [],
   "source": [
    "# write a function can take any no of values and returns the list amoung those value"
   ]
  },
  {
   "cell_type": "code",
   "execution_count": 196,
   "id": "034d91c9",
   "metadata": {},
   "outputs": [],
   "source": [
    "def return_list(*args):\n",
    "    l = []\n",
    "    for i in args:\n",
    "        if type(i) == list:\n",
    "            l.append(i)\n",
    "    return l"
   ]
  },
  {
   "cell_type": "code",
   "execution_count": 197,
   "id": "9a216d62",
   "metadata": {},
   "outputs": [
    {
     "data": {
      "text/plain": [
       "[[1, 2, 3, 4, 5], [9, 8, 7, [32, 34, 45]]]"
      ]
     },
     "execution_count": 197,
     "metadata": {},
     "output_type": "execute_result"
    }
   ],
   "source": [
    "return_list(1,2, 2.4, 5+7j, {2,4}, [1,2,3,4,5],(9,10,11),True, \"yoyohuzaifa\", [9,8,7,[32,34,45]])"
   ]
  },
  {
   "cell_type": "code",
   "execution_count": 204,
   "id": "2f403655",
   "metadata": {},
   "outputs": [],
   "source": [
    "# def return_dic(*args):\n",
    "#     d = ()\n",
    "#     for i in args:\n",
    "#         if type(i) == dict:\n",
    "#             d.append(i)\n",
    "#     return d"
   ]
  },
  {
   "cell_type": "code",
   "execution_count": 221,
   "id": "83fe5843",
   "metadata": {},
   "outputs": [],
   "source": [
    "def team(name, project):\n",
    "    return f\"{name} is working on {project}\""
   ]
  },
  {
   "cell_type": "code",
   "execution_count": 228,
   "id": "32b527d9",
   "metadata": {},
   "outputs": [],
   "source": [
    "def test1(*args, **args1):\n",
    "    return args, args1"
   ]
  },
  {
   "cell_type": "code",
   "execution_count": 229,
   "id": "3c45d349",
   "metadata": {},
   "outputs": [
    {
     "data": {
      "text/plain": [
       "((1, 2, 3, 4), {'a': 100, 'b': 50})"
      ]
     },
     "execution_count": 229,
     "metadata": {},
     "output_type": "execute_result"
    }
   ],
   "source": [
    "test1(1,2,3,4,a=100, b=50)"
   ]
  },
  {
   "cell_type": "code",
   "execution_count": 230,
   "id": "f50cc26e",
   "metadata": {},
   "outputs": [],
   "source": [
    "# python namespace\n",
    "\n",
    "def greet():\n",
    "    message = \"hello, welcome\" #message variable is a local variable\n",
    "    print(message)"
   ]
  },
  {
   "cell_type": "code",
   "execution_count": 231,
   "id": "6e2eb2c9",
   "metadata": {},
   "outputs": [
    {
     "name": "stdout",
     "output_type": "stream",
     "text": [
      "hello, welcome\n"
     ]
    }
   ],
   "source": [
    "greet()"
   ]
  },
  {
   "cell_type": "code",
   "execution_count": 233,
   "id": "1b59aff6",
   "metadata": {},
   "outputs": [
    {
     "ename": "NameError",
     "evalue": "name 'message' is not defined",
     "output_type": "error",
     "traceback": [
      "\u001b[1;31m---------------------------------------------------------------------------\u001b[0m",
      "\u001b[1;31mNameError\u001b[0m                                 Traceback (most recent call last)",
      "Cell \u001b[1;32mIn[233], line 1\u001b[0m\n\u001b[1;32m----> 1\u001b[0m \u001b[38;5;28mprint\u001b[39m(\u001b[43mmessage\u001b[49m)\n",
      "\u001b[1;31mNameError\u001b[0m: name 'message' is not defined"
     ]
    }
   ],
   "source": [
    "print(message)"
   ]
  },
  {
   "cell_type": "code",
   "execution_count": 236,
   "id": "46a2d09a",
   "metadata": {},
   "outputs": [],
   "source": [
    "subpart = \" to the course\"  #global variable >> can be accessed outside the function as well\n",
    "def greet():\n",
    "    message = \"Hello, welcome\" + subpart\n",
    "    print(message)"
   ]
  },
  {
   "cell_type": "code",
   "execution_count": 237,
   "id": "dced6498",
   "metadata": {},
   "outputs": [
    {
     "name": "stdout",
     "output_type": "stream",
     "text": [
      "Hello, welcome to the course\n"
     ]
    }
   ],
   "source": [
    "greet()"
   ]
  },
  {
   "cell_type": "code",
   "execution_count": 240,
   "id": "3917e6dd",
   "metadata": {},
   "outputs": [
    {
     "ename": "NameError",
     "evalue": "name 'message' is not defined",
     "output_type": "error",
     "traceback": [
      "\u001b[1;31m---------------------------------------------------------------------------\u001b[0m",
      "\u001b[1;31mNameError\u001b[0m                                 Traceback (most recent call last)",
      "Cell \u001b[1;32mIn[240], line 1\u001b[0m\n\u001b[1;32m----> 1\u001b[0m \u001b[38;5;28mprint\u001b[39m(\u001b[43mmessage\u001b[49m)\n",
      "\u001b[1;31mNameError\u001b[0m: name 'message' is not defined"
     ]
    }
   ],
   "source": [
    "print(message)"
   ]
  },
  {
   "cell_type": "code",
   "execution_count": 239,
   "id": "5b7b9f57",
   "metadata": {},
   "outputs": [],
   "source": [
    "#  namespace>> scope of variables\n",
    "# local variable >> a function define inside a function should be accessed in the function only\n",
    "# global variable >> accessed any where\n"
   ]
  },
  {
   "cell_type": "code",
   "execution_count": 246,
   "id": "e36d0033",
   "metadata": {},
   "outputs": [],
   "source": [
    "# function inside function\n",
    "\n",
    "def marks_in_subject(**kwargs):\n",
    "    def total_marks(marks_list):\n",
    "        return sum(marks_list)\n",
    "    marks_list = []\n",
    "    for sub, marks in kwargs.items():\n",
    "        marks_list.append(marks)\n",
    "    return marks_list"
   ]
  },
  {
   "cell_type": "code",
   "execution_count": 244,
   "id": "e0fdb170",
   "metadata": {},
   "outputs": [
    {
     "data": {
      "text/plain": [
       "[90, 20]"
      ]
     },
     "execution_count": 244,
     "metadata": {},
     "output_type": "execute_result"
    }
   ],
   "source": [
    "marks_in_subject(a= 90, b=20)"
   ]
  },
  {
   "cell_type": "code",
   "execution_count": 248,
   "id": "1f794f71",
   "metadata": {},
   "outputs": [
    {
     "data": {
      "text/plain": [
       "110"
      ]
     },
     "execution_count": 248,
     "metadata": {},
     "output_type": "execute_result"
    }
   ],
   "source": [
    "sum([90,20])"
   ]
  },
  {
   "cell_type": "code",
   "execution_count": 249,
   "id": "ce5a4d4d",
   "metadata": {},
   "outputs": [],
   "source": [
    "def marks_in_subject(**kwargs):\n",
    "    def total_marks(marks_list): #here it act like local function\n",
    "        return sum(marks_list)\n",
    "    marks_list = []\n",
    "    for sub, marks in kwargs.items():\n",
    "        marks_list.append(marks)\n",
    "        \n",
    "    return total_marks(marks_list)"
   ]
  },
  {
   "cell_type": "code",
   "execution_count": 253,
   "id": "1ba84c7d",
   "metadata": {},
   "outputs": [
    {
     "data": {
      "text/plain": [
       "160"
      ]
     },
     "execution_count": 253,
     "metadata": {},
     "output_type": "execute_result"
    }
   ],
   "source": [
    "marks_in_subject(a = 90, b=40, c=30)"
   ]
  },
  {
   "cell_type": "code",
   "execution_count": 254,
   "id": "eb685c14",
   "metadata": {},
   "outputs": [],
   "source": [
    "# calling function from outside\n",
    "def total_marks(marks_list): #it act like global function here\n",
    "    return sum(marks_list)\n",
    "\n",
    "def marks_in_subject(**kwargs):\n",
    "    marks_list = []\n",
    "    for sub, marks in kwargs.items():\n",
    "        marks_list.append(marks)\n",
    "        \n",
    "    return total_marks(marks_list)"
   ]
  },
  {
   "cell_type": "code",
   "execution_count": 255,
   "id": "75679260",
   "metadata": {},
   "outputs": [
    {
     "data": {
      "text/plain": [
       "260"
      ]
     },
     "execution_count": 255,
     "metadata": {},
     "output_type": "execute_result"
    }
   ],
   "source": [
    "marks_in_subject(a = 90, b = 40, c = 30, d = 100)"
   ]
  },
  {
   "cell_type": "code",
   "execution_count": 256,
   "id": "252cc046",
   "metadata": {},
   "outputs": [],
   "source": [
    "def find_power(num, power):\n",
    "    return num*power"
   ]
  },
  {
   "cell_type": "code",
   "execution_count": 257,
   "id": "c5921b47",
   "metadata": {},
   "outputs": [
    {
     "data": {
      "text/plain": [
       "10"
      ]
     },
     "execution_count": 257,
     "metadata": {},
     "output_type": "execute_result"
    }
   ],
   "source": [
    "find_power(2, 5)"
   ]
  },
  {
   "cell_type": "code",
   "execution_count": 258,
   "id": "c2242875",
   "metadata": {},
   "outputs": [
    {
     "data": {
      "text/plain": [
       "27"
      ]
     },
     "execution_count": 258,
     "metadata": {},
     "output_type": "execute_result"
    }
   ],
   "source": [
    "find_power(3,9)"
   ]
  },
  {
   "cell_type": "code",
   "execution_count": 261,
   "id": "a032bd85",
   "metadata": {},
   "outputs": [
    {
     "data": {
      "text/plain": [
       "200"
      ]
     },
     "execution_count": 261,
     "metadata": {},
     "output_type": "execute_result"
    }
   ],
   "source": [
    "find_power(4, 50)"
   ]
  },
  {
   "cell_type": "code",
   "execution_count": 262,
   "id": "43a75041",
   "metadata": {},
   "outputs": [],
   "source": [
    "def find_power(num, power):\n",
    "    '''this function returns the power of no\n",
    "    Args:\n",
    "        num(int): provide any integer as input\n",
    "        power(int): provide power as integer\n",
    "    Returns:\n",
    "            integer: power of no\n",
    "    '''\n",
    "    return num*power"
   ]
  },
  {
   "cell_type": "code",
   "execution_count": 263,
   "id": "575aad34",
   "metadata": {},
   "outputs": [
    {
     "name": "stdout",
     "output_type": "stream",
     "text": [
      "Help on function find_power in module __main__:\n",
      "\n",
      "find_power(num, power)\n",
      "    this function returns the power of no\n",
      "    Args:\n",
      "        num(int): provide any integer as input\n",
      "        power(int): provide power as integer\n",
      "    Returns:\n",
      "            integer: power of no\n",
      "\n"
     ]
    }
   ],
   "source": [
    "help(find_power)"
   ]
  },
  {
   "cell_type": "code",
   "execution_count": 265,
   "id": "22477c14",
   "metadata": {},
   "outputs": [
    {
     "name": "stdout",
     "output_type": "stream",
     "text": [
      "this function returns the power of no\n",
      "    Args:\n",
      "        num(int): provide any integer as input\n",
      "        power(int): provide power as integer\n",
      "    Returns:\n",
      "            integer: power of no\n",
      "    \n"
     ]
    }
   ],
   "source": [
    "print(find_power.__doc__)"
   ]
  },
  {
   "cell_type": "code",
   "execution_count": null,
   "id": "8054ccb8",
   "metadata": {},
   "outputs": [],
   "source": []
  }
 ],
 "metadata": {
  "kernelspec": {
   "display_name": "Python 3 (ipykernel)",
   "language": "python",
   "name": "python3"
  },
  "language_info": {
   "codemirror_mode": {
    "name": "ipython",
    "version": 3
   },
   "file_extension": ".py",
   "mimetype": "text/x-python",
   "name": "python",
   "nbconvert_exporter": "python",
   "pygments_lexer": "ipython3",
   "version": "3.11.5"
  }
 },
 "nbformat": 4,
 "nbformat_minor": 5
}
