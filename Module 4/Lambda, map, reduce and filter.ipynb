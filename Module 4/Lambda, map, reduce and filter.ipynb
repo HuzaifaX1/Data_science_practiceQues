{
 "cells": [
  {
   "cell_type": "markdown",
   "id": "b3a9b033",
   "metadata": {},
   "source": [
    "### Lambda"
   ]
  },
  {
   "cell_type": "code",
   "execution_count": 1,
   "id": "6f803978",
   "metadata": {},
   "outputs": [],
   "source": [
    "# Lambda function is also called >> anonymuos function or short hand function\n",
    "# syntex\n",
    "\n",
    "# lambda arguements: expression >> no need of return statement and def keyword as well"
   ]
  },
  {
   "cell_type": "code",
   "execution_count": 2,
   "id": "a8188618",
   "metadata": {},
   "outputs": [
    {
     "data": {
      "text/plain": [
       "16"
      ]
     },
     "execution_count": 2,
     "metadata": {},
     "output_type": "execute_result"
    }
   ],
   "source": [
    "def square(x):\n",
    "    return x**2\n",
    "square(4)"
   ]
  },
  {
   "cell_type": "code",
   "execution_count": 4,
   "id": "50ba01b1",
   "metadata": {},
   "outputs": [],
   "source": [
    "# but this code will wrote in single line by using lambda keyword\n",
    "sqr_lambda = lambda x: x**2"
   ]
  },
  {
   "cell_type": "code",
   "execution_count": 5,
   "id": "3ece2ebe",
   "metadata": {},
   "outputs": [
    {
     "data": {
      "text/plain": [
       "9"
      ]
     },
     "execution_count": 5,
     "metadata": {},
     "output_type": "execute_result"
    }
   ],
   "source": [
    "sqr_lambda(3)"
   ]
  },
  {
   "cell_type": "code",
   "execution_count": 6,
   "id": "dba1ceb1",
   "metadata": {},
   "outputs": [
    {
     "data": {
      "text/plain": [
       "4"
      ]
     },
     "execution_count": 6,
     "metadata": {},
     "output_type": "execute_result"
    }
   ],
   "source": [
    "sqr_lambda(2)"
   ]
  },
  {
   "cell_type": "code",
   "execution_count": 8,
   "id": "384f8232",
   "metadata": {},
   "outputs": [],
   "source": [
    "add = lambda a, b: a+b"
   ]
  },
  {
   "cell_type": "code",
   "execution_count": 9,
   "id": "384ab015",
   "metadata": {},
   "outputs": [
    {
     "data": {
      "text/plain": [
       "7"
      ]
     },
     "execution_count": 9,
     "metadata": {},
     "output_type": "execute_result"
    }
   ],
   "source": [
    "add(2,5)"
   ]
  },
  {
   "cell_type": "code",
   "execution_count": 10,
   "id": "e79168ae",
   "metadata": {},
   "outputs": [],
   "source": [
    "is_even = lambda a: a%2==0"
   ]
  },
  {
   "cell_type": "code",
   "execution_count": 11,
   "id": "219b67a6",
   "metadata": {},
   "outputs": [
    {
     "data": {
      "text/plain": [
       "False"
      ]
     },
     "execution_count": 11,
     "metadata": {},
     "output_type": "execute_result"
    }
   ],
   "source": [
    "is_even(5)"
   ]
  },
  {
   "cell_type": "code",
   "execution_count": 12,
   "id": "032bdb0d",
   "metadata": {},
   "outputs": [
    {
     "data": {
      "text/plain": [
       "True"
      ]
     },
     "execution_count": 12,
     "metadata": {},
     "output_type": "execute_result"
    }
   ],
   "source": [
    "is_even(8)"
   ]
  },
  {
   "cell_type": "code",
   "execution_count": 13,
   "id": "ca603bf4",
   "metadata": {},
   "outputs": [
    {
     "data": {
      "text/plain": [
       "['python', 'data science', 'huzaifa']"
      ]
     },
     "execution_count": 13,
     "metadata": {},
     "output_type": "execute_result"
    }
   ],
   "source": [
    "x = [\"python\", \"data science\", \"huzaifa\"]\n",
    "x"
   ]
  },
  {
   "cell_type": "code",
   "execution_count": 15,
   "id": "59d6965b",
   "metadata": {},
   "outputs": [
    {
     "data": {
      "text/plain": [
       "['data science', 'huzaifa', 'python']"
      ]
     },
     "execution_count": 15,
     "metadata": {},
     "output_type": "execute_result"
    }
   ],
   "source": [
    "sorted(x) #by default sorting based on alphabetical order"
   ]
  },
  {
   "cell_type": "code",
   "execution_count": 17,
   "id": "3a51fc83",
   "metadata": {},
   "outputs": [
    {
     "data": {
      "text/plain": [
       "7"
      ]
     },
     "execution_count": 17,
     "metadata": {},
     "output_type": "execute_result"
    }
   ],
   "source": [
    "# sort the list based on length of element of list\n",
    "# length ke according sort krega ascending order me, \n",
    "le = lambda x: len(x)\n",
    "le(\"huzaifa\")\n"
   ]
  },
  {
   "cell_type": "code",
   "execution_count": 18,
   "id": "2a4220ed",
   "metadata": {},
   "outputs": [
    {
     "data": {
      "text/plain": [
       "['python', 'huzaifa', 'data science']"
      ]
     },
     "execution_count": 18,
     "metadata": {},
     "output_type": "execute_result"
    }
   ],
   "source": [
    "sorted(x, key = lambda x: len(x))"
   ]
  },
  {
   "cell_type": "code",
   "execution_count": 23,
   "id": "5a162405",
   "metadata": {},
   "outputs": [
    {
     "data": {
      "text/plain": [
       "[0, 1, 1, 2, 3, 5, 8, 13, 21, 34]"
      ]
     },
     "execution_count": 23,
     "metadata": {},
     "output_type": "execute_result"
    }
   ],
   "source": [
    "# fibonacci series >> sum of last two digits\n",
    "fib = lambda n: n if n<=1 else fib (n-1) + fib(n-2)\n",
    "[fib(i) for i in range(10)]"
   ]
  },
  {
   "cell_type": "code",
   "execution_count": 24,
   "id": "bf346691",
   "metadata": {},
   "outputs": [],
   "source": [
    "# factorial of 5 >> 5*4*3*2*1 and 0! is 1"
   ]
  },
  {
   "cell_type": "code",
   "execution_count": 29,
   "id": "8ba532a5",
   "metadata": {},
   "outputs": [],
   "source": [
    "def fact_num(n):\n",
    "    if n==0:\n",
    "        return 1\n",
    "    else:\n",
    "        return n*fact_num(n-1)"
   ]
  },
  {
   "cell_type": "code",
   "execution_count": 30,
   "id": "009f6f2d",
   "metadata": {},
   "outputs": [
    {
     "data": {
      "text/plain": [
       "120"
      ]
     },
     "execution_count": 30,
     "metadata": {},
     "output_type": "execute_result"
    }
   ],
   "source": [
    "fact_num(5)"
   ]
  },
  {
   "cell_type": "code",
   "execution_count": 38,
   "id": "1d767227",
   "metadata": {},
   "outputs": [],
   "source": [
    "# write this function in lambda\n",
    "\n",
    "fctnum = lambda n: 1 if n==0 else n*fctnum (n-1)"
   ]
  },
  {
   "cell_type": "code",
   "execution_count": 39,
   "id": "c6a23a12",
   "metadata": {},
   "outputs": [
    {
     "data": {
      "text/plain": [
       "120"
      ]
     },
     "execution_count": 39,
     "metadata": {},
     "output_type": "execute_result"
    }
   ],
   "source": [
    "ftnum(5)"
   ]
  },
  {
   "cell_type": "markdown",
   "id": "0a30f673",
   "metadata": {},
   "source": [
    "### Map>> execute a specified function for each of item of an iterable \n",
    "\n",
    "syntax>> map(func, *iterables)"
   ]
  },
  {
   "cell_type": "code",
   "execution_count": 94,
   "id": "bfe05554",
   "metadata": {
    "scrolled": true
   },
   "outputs": [
    {
     "name": "stdout",
     "output_type": "stream",
     "text": [
      "Help on class map in module builtins:\n",
      "\n",
      "class map(object)\n",
      " |  map(func, *iterables) --> map object\n",
      " |  \n",
      " |  Make an iterator that computes the function using arguments from\n",
      " |  each of the iterables.  Stops when the shortest iterable is exhausted.\n",
      " |  \n",
      " |  Methods defined here:\n",
      " |  \n",
      " |  __getattribute__(self, name, /)\n",
      " |      Return getattr(self, name).\n",
      " |  \n",
      " |  __iter__(self, /)\n",
      " |      Implement iter(self).\n",
      " |  \n",
      " |  __next__(self, /)\n",
      " |      Implement next(self).\n",
      " |  \n",
      " |  __reduce__(...)\n",
      " |      Return state information for pickling.\n",
      " |  \n",
      " |  ----------------------------------------------------------------------\n",
      " |  Static methods defined here:\n",
      " |  \n",
      " |  __new__(*args, **kwargs) from builtins.type\n",
      " |      Create and return a new object.  See help(type) for accurate signature.\n",
      "\n"
     ]
    }
   ],
   "source": [
    "help(map)"
   ]
  },
  {
   "cell_type": "code",
   "execution_count": 48,
   "id": "0f185836",
   "metadata": {},
   "outputs": [],
   "source": [
    "l = [5, 6, 7, 8, 9]\n",
    "def square(l):\n",
    "    sq=[]\n",
    "    for i in l:\n",
    "        sq.append(i**2)\n",
    "    return sq"
   ]
  },
  {
   "cell_type": "code",
   "execution_count": 49,
   "id": "443cf7d3",
   "metadata": {},
   "outputs": [
    {
     "data": {
      "text/plain": [
       "[1, 4, 9, 16, 25]"
      ]
     },
     "execution_count": 49,
     "metadata": {},
     "output_type": "execute_result"
    }
   ],
   "source": [
    "square(l)"
   ]
  },
  {
   "cell_type": "code",
   "execution_count": 53,
   "id": "df255110",
   "metadata": {},
   "outputs": [],
   "source": [
    "# def sq(x):\n",
    "#     return x**2"
   ]
  },
  {
   "cell_type": "code",
   "execution_count": 59,
   "id": "0740d5d2",
   "metadata": {},
   "outputs": [
    {
     "data": {
      "text/plain": [
       "[1, 2, 3, 4, 5]"
      ]
     },
     "execution_count": 59,
     "metadata": {},
     "output_type": "execute_result"
    }
   ],
   "source": [
    "l"
   ]
  },
  {
   "cell_type": "code",
   "execution_count": 60,
   "id": "3fde31d6",
   "metadata": {},
   "outputs": [
    {
     "data": {
      "text/plain": [
       "[1, 4, 9, 16, 25]"
      ]
     },
     "execution_count": 60,
     "metadata": {},
     "output_type": "execute_result"
    }
   ],
   "source": [
    "# map(func, iterable)\n",
    "list(map(sq, l))"
   ]
  },
  {
   "cell_type": "code",
   "execution_count": 65,
   "id": "1a0bd8f2",
   "metadata": {},
   "outputs": [],
   "source": [
    "h = [1, 2, 3, 4, 5]"
   ]
  },
  {
   "cell_type": "code",
   "execution_count": 66,
   "id": "abd1e7c1",
   "metadata": {},
   "outputs": [
    {
     "data": {
      "text/plain": [
       "[11, 12, 13, 14, 15]"
      ]
     },
     "execution_count": 66,
     "metadata": {},
     "output_type": "execute_result"
    }
   ],
   "source": [
    "def add(x):\n",
    "    return x+10\n",
    "\n",
    "list(map(add, h))"
   ]
  },
  {
   "cell_type": "code",
   "execution_count": 68,
   "id": "98fa17d3",
   "metadata": {},
   "outputs": [
    {
     "data": {
      "text/plain": [
       "[1, 4, 9, 16, 25]"
      ]
     },
     "execution_count": 68,
     "metadata": {},
     "output_type": "execute_result"
    }
   ],
   "source": [
    "# using lambda with map\n",
    "list(map(lambda x: x**2, h))"
   ]
  },
  {
   "cell_type": "code",
   "execution_count": 69,
   "id": "b226b1b0",
   "metadata": {},
   "outputs": [
    {
     "data": {
      "text/plain": [
       "[11, 12, 13, 14, 15]"
      ]
     },
     "execution_count": 69,
     "metadata": {},
     "output_type": "execute_result"
    }
   ],
   "source": [
    "list(map(lambda x: x+10, h))"
   ]
  },
  {
   "cell_type": "code",
   "execution_count": 73,
   "id": "4ca88b4e",
   "metadata": {},
   "outputs": [
    {
     "data": {
      "text/plain": [
       "[1, 2, 3]"
      ]
     },
     "execution_count": 73,
     "metadata": {},
     "output_type": "execute_result"
    }
   ],
   "source": [
    "l = [\"1\", \"2\", \"3\"]\n",
    "list(map(lambda x: int(x), l))"
   ]
  },
  {
   "cell_type": "code",
   "execution_count": 75,
   "id": "ba038ad4",
   "metadata": {},
   "outputs": [
    {
     "data": {
      "text/plain": [
       "{1.0, 2.0, 3.0}"
      ]
     },
     "execution_count": 75,
     "metadata": {},
     "output_type": "execute_result"
    }
   ],
   "source": [
    "p = [\"1\", \"2\", \"3\"]\n",
    "set(map(lambda x: float(x), p))"
   ]
  },
  {
   "cell_type": "code",
   "execution_count": 80,
   "id": "c06b413c",
   "metadata": {},
   "outputs": [
    {
     "data": {
      "text/plain": [
       "(101, 202, 303, 404)"
      ]
     },
     "execution_count": 80,
     "metadata": {},
     "output_type": "execute_result"
    }
   ],
   "source": [
    "w1 = [100, 200, 300, 400]\n",
    "w2 = [1, 2, 3, 4]\n",
    "tuple(map(lambda x,y: x+y, w1,w2 ))"
   ]
  },
  {
   "cell_type": "code",
   "execution_count": 81,
   "id": "6fb6963f",
   "metadata": {},
   "outputs": [
    {
     "data": {
      "text/plain": [
       "['P', 'W', 'S', 'K', 'I', 'L', 'L', 'S']"
      ]
     },
     "execution_count": 81,
     "metadata": {},
     "output_type": "execute_result"
    }
   ],
   "source": [
    "s = \"pwskills\"\n",
    "list(map(lambda x: x.upper(), s))"
   ]
  },
  {
   "cell_type": "code",
   "execution_count": 89,
   "id": "f93359e7",
   "metadata": {},
   "outputs": [
    {
     "data": {
      "text/plain": [
       "['H', 'U', 'Z', 'A', 'I', 'F', 'A']"
      ]
     },
     "execution_count": 89,
     "metadata": {},
     "output_type": "execute_result"
    }
   ],
   "source": [
    "u = \"Huzaifa\"\n",
    "# list(map(lambda x: x.upper(),u))\n",
    "list(map(str.capitalize,u)) # both method will work  same for string"
   ]
  },
  {
   "cell_type": "code",
   "execution_count": 88,
   "id": "38928828",
   "metadata": {},
   "outputs": [
    {
     "data": {
      "text/plain": [
       "['Python', 'Huzaifa']"
      ]
     },
     "execution_count": 88,
     "metadata": {},
     "output_type": "execute_result"
    }
   ],
   "source": [
    "words =['python', 'huzaifa']\n",
    "list(map(str.capitalize, words))"
   ]
  },
  {
   "cell_type": "code",
   "execution_count": 93,
   "id": "c1681696",
   "metadata": {},
   "outputs": [
    {
     "data": {
      "text/plain": [
       "[4, 3, 2, 1]"
      ]
     },
     "execution_count": 93,
     "metadata": {},
     "output_type": "execute_result"
    }
   ],
   "source": [
    "grade = [\"A\", \"B\", \"C\", \"D\"]\n",
    "list(map(lambda grade: 4 if grade == \"A\" else (3 if grade == \"B\" else (2 if grade == \"C\" else 1 )), grade))"
   ]
  },
  {
   "cell_type": "markdown",
   "id": "3c654996",
   "metadata": {},
   "source": [
    "### Reduce"
   ]
  },
  {
   "cell_type": "code",
   "execution_count": 4,
   "id": "1cf12f99",
   "metadata": {},
   "outputs": [],
   "source": [
    "# reduce>> folding/ reduction\n",
    "# syntax>> reduce(func, iterable)\n",
    "#reduce will always take two arguement function\n",
    "from functools import reduce"
   ]
  },
  {
   "cell_type": "code",
   "execution_count": 7,
   "id": "ed5cbc9c",
   "metadata": {},
   "outputs": [
    {
     "data": {
      "text/plain": [
       "25"
      ]
     },
     "execution_count": 7,
     "metadata": {},
     "output_type": "execute_result"
    }
   ],
   "source": [
    "lst = [2, 1, 3, 4, 4, 5, 6]\n",
    "reduce(lambda x,y :x+y, lst) #reduce will always take two arguement function"
   ]
  },
  {
   "cell_type": "code",
   "execution_count": 12,
   "id": "6fba7ed0",
   "metadata": {},
   "outputs": [
    {
     "ename": "TypeError",
     "evalue": "<lambda>() missing 1 required positional argument: 'z'",
     "output_type": "error",
     "traceback": [
      "\u001b[1;31m---------------------------------------------------------------------------\u001b[0m",
      "\u001b[1;31mTypeError\u001b[0m                                 Traceback (most recent call last)",
      "Cell \u001b[1;32mIn[12], line 2\u001b[0m\n\u001b[0;32m      1\u001b[0m lst \u001b[38;5;241m=\u001b[39m [\u001b[38;5;241m2\u001b[39m, \u001b[38;5;241m1\u001b[39m, \u001b[38;5;241m3\u001b[39m, \u001b[38;5;241m4\u001b[39m, \u001b[38;5;241m4\u001b[39m, \u001b[38;5;241m5\u001b[39m, \u001b[38;5;241m6\u001b[39m]\n\u001b[1;32m----> 2\u001b[0m \u001b[43mreduce\u001b[49m\u001b[43m(\u001b[49m\u001b[38;5;28;43;01mlambda\u001b[39;49;00m\u001b[43m \u001b[49m\u001b[43mx\u001b[49m\u001b[43m,\u001b[49m\u001b[43my\u001b[49m\u001b[43m,\u001b[49m\u001b[43mz\u001b[49m\u001b[43m \u001b[49m\u001b[43m:\u001b[49m\u001b[43mx\u001b[49m\u001b[38;5;241;43m+\u001b[39;49m\u001b[43my\u001b[49m\u001b[38;5;241;43m+\u001b[39;49m\u001b[43mz\u001b[49m\u001b[43m,\u001b[49m\u001b[43m \u001b[49m\u001b[43mlst\u001b[49m\u001b[43m)\u001b[49m\n",
      "\u001b[1;31mTypeError\u001b[0m: <lambda>() missing 1 required positional argument: 'z'"
     ]
    }
   ],
   "source": [
    "lst = [2, 1, 3, 4, 4, 5, 6]\n",
    "reduce(lambda x,y,z :x+y+z, lst)#this will throw error"
   ]
  },
  {
   "cell_type": "code",
   "execution_count": 13,
   "id": "1306a530",
   "metadata": {},
   "outputs": [
    {
     "ename": "TypeError",
     "evalue": "reduce() of empty iterable with no initial value",
     "output_type": "error",
     "traceback": [
      "\u001b[1;31m---------------------------------------------------------------------------\u001b[0m",
      "\u001b[1;31mTypeError\u001b[0m                                 Traceback (most recent call last)",
      "Cell \u001b[1;32mIn[13], line 2\u001b[0m\n\u001b[0;32m      1\u001b[0m lst \u001b[38;5;241m=\u001b[39m [\u001b[38;5;241m2\u001b[39m, \u001b[38;5;241m1\u001b[39m, \u001b[38;5;241m3\u001b[39m, \u001b[38;5;241m4\u001b[39m, \u001b[38;5;241m4\u001b[39m, \u001b[38;5;241m5\u001b[39m, \u001b[38;5;241m6\u001b[39m]\n\u001b[1;32m----> 2\u001b[0m \u001b[43mreduce\u001b[49m\u001b[43m(\u001b[49m\u001b[38;5;28;43;01mlambda\u001b[39;49;00m\u001b[43m \u001b[49m\u001b[43mx\u001b[49m\u001b[43m,\u001b[49m\u001b[43my\u001b[49m\u001b[43m \u001b[49m\u001b[43m:\u001b[49m\u001b[43mx\u001b[49m\u001b[38;5;241;43m+\u001b[39;49m\u001b[43my\u001b[49m\u001b[43m,\u001b[49m\u001b[43m \u001b[49m\u001b[43m[\u001b[49m\u001b[43m]\u001b[49m\u001b[43m)\u001b[49m\n",
      "\u001b[1;31mTypeError\u001b[0m: reduce() of empty iterable with no initial value"
     ]
    }
   ],
   "source": [
    "lst = [2, 1, 3, 4, 4, 5, 6]\n",
    "reduce(lambda x,y :x+y, [])"
   ]
  },
  {
   "cell_type": "code",
   "execution_count": 14,
   "id": "f37bf386",
   "metadata": {},
   "outputs": [
    {
     "data": {
      "text/plain": [
       "2880"
      ]
     },
     "execution_count": 14,
     "metadata": {},
     "output_type": "execute_result"
    }
   ],
   "source": [
    "lst = [2, 1, 3, 4, 4, 5, 6]\n",
    "reduce(lambda x,y :x*y, lst)"
   ]
  },
  {
   "cell_type": "code",
   "execution_count": 15,
   "id": "89cea534",
   "metadata": {},
   "outputs": [
    {
     "data": {
      "text/plain": [
       "'Data science courses'"
      ]
     },
     "execution_count": 15,
     "metadata": {},
     "output_type": "execute_result"
    }
   ],
   "source": [
    "words = [\"Data\", \"science\", \"courses\"]\n",
    "reduce(lambda x, y: x+\" \"+y, words)"
   ]
  },
  {
   "cell_type": "code",
   "execution_count": 16,
   "id": "6337c33c",
   "metadata": {},
   "outputs": [
    {
     "data": {
      "text/plain": [
       "10000"
      ]
     },
     "execution_count": 16,
     "metadata": {},
     "output_type": "execute_result"
    }
   ],
   "source": [
    "# the highest values at each stage you are comparing x and y\n",
    "numbers = [1, 2, 5, 3,100,1000, 6, 10000]\n",
    "reduce(lambda x, y: x if x>y else y, numbers)"
   ]
  },
  {
   "cell_type": "code",
   "execution_count": 17,
   "id": "e5e0e823",
   "metadata": {},
   "outputs": [],
   "source": [
    "def factorial(n):\n",
    "    return reduce(lambda x,y: x*y, range(1, n+1))"
   ]
  },
  {
   "cell_type": "code",
   "execution_count": 18,
   "id": "70ca94d4",
   "metadata": {},
   "outputs": [
    {
     "data": {
      "text/plain": [
       "120"
      ]
     },
     "execution_count": 18,
     "metadata": {},
     "output_type": "execute_result"
    }
   ],
   "source": [
    "factorial(5)"
   ]
  },
  {
   "cell_type": "markdown",
   "id": "39a6c531",
   "metadata": {},
   "source": [
    "### Filter"
   ]
  },
  {
   "cell_type": "code",
   "execution_count": 19,
   "id": "a99ae972",
   "metadata": {},
   "outputs": [],
   "source": [
    "# filter function>> it is used to filter elements from an iterable based on same condition\n",
    "# syntax filter(function, iterable)"
   ]
  },
  {
   "cell_type": "code",
   "execution_count": 20,
   "id": "3b88f6cf",
   "metadata": {},
   "outputs": [],
   "source": [
    "lst = [2, 1, 3, 4, 4, 5, 6]"
   ]
  },
  {
   "cell_type": "code",
   "execution_count": 21,
   "id": "8442218c",
   "metadata": {},
   "outputs": [
    {
     "data": {
      "text/plain": [
       "[2, 1, 3, 4, 4, 5, 6]"
      ]
     },
     "execution_count": 21,
     "metadata": {},
     "output_type": "execute_result"
    }
   ],
   "source": [
    "lst"
   ]
  },
  {
   "cell_type": "code",
   "execution_count": 23,
   "id": "25df825f",
   "metadata": {},
   "outputs": [
    {
     "data": {
      "text/plain": [
       "[2, 4, 4, 6]"
      ]
     },
     "execution_count": 23,
     "metadata": {},
     "output_type": "execute_result"
    }
   ],
   "source": [
    "list(filter(lambda x: x%2==0, lst ))"
   ]
  },
  {
   "cell_type": "code",
   "execution_count": 24,
   "id": "2f8007d8",
   "metadata": {},
   "outputs": [
    {
     "data": {
      "text/plain": [
       "[1, 3, 5]"
      ]
     },
     "execution_count": 24,
     "metadata": {},
     "output_type": "execute_result"
    }
   ],
   "source": [
    "list(filter(lambda x: x%2!=0, lst ))"
   ]
  },
  {
   "cell_type": "code",
   "execution_count": 26,
   "id": "c9e9acae",
   "metadata": {},
   "outputs": [
    {
     "data": {
      "text/plain": [
       "[-1, -2]"
      ]
     },
     "execution_count": 26,
     "metadata": {},
     "output_type": "execute_result"
    }
   ],
   "source": [
    "l1 =[-1, 3, 4, -2, 5]\n",
    "list(filter(lambda x: x < 0, l1))"
   ]
  },
  {
   "cell_type": "code",
   "execution_count": 27,
   "id": "417e17f3",
   "metadata": {},
   "outputs": [
    {
     "data": {
      "text/plain": [
       "[3, 4, 5]"
      ]
     },
     "execution_count": 27,
     "metadata": {},
     "output_type": "execute_result"
    }
   ],
   "source": [
    "list(filter(lambda x: x > 0, l1))"
   ]
  },
  {
   "cell_type": "code",
   "execution_count": 28,
   "id": "2cc7345c",
   "metadata": {},
   "outputs": [
    {
     "data": {
      "text/plain": [
       "['pwskill', 'data science']"
      ]
     },
     "execution_count": 28,
     "metadata": {},
     "output_type": "execute_result"
    }
   ],
   "source": [
    "s = [\"Huzz\", \"pwskill\", \"data science\"]\n",
    "list(filter(lambda x: len(x)>4, s))"
   ]
  },
  {
   "cell_type": "code",
   "execution_count": 40,
   "id": "564e68d2",
   "metadata": {},
   "outputs": [],
   "source": [
    "def check_even(num):\n",
    "    if num%2 == 0:\n",
    "        return True"
   ]
  },
  {
   "cell_type": "code",
   "execution_count": 41,
   "id": "c3424252",
   "metadata": {},
   "outputs": [
    {
     "data": {
      "text/plain": [
       "[2, 4, 6, 8, 10]"
      ]
     },
     "execution_count": 41,
     "metadata": {},
     "output_type": "execute_result"
    }
   ],
   "source": [
    "num = [1, 2, 4, 3, 7, 6, 8, 9, 10]\n",
    "list(filter(check_even, num))"
   ]
  },
  {
   "cell_type": "code",
   "execution_count": null,
   "id": "771c4e52",
   "metadata": {},
   "outputs": [],
   "source": []
  }
 ],
 "metadata": {
  "kernelspec": {
   "display_name": "Python 3 (ipykernel)",
   "language": "python",
   "name": "python3"
  },
  "language_info": {
   "codemirror_mode": {
    "name": "ipython",
    "version": 3
   },
   "file_extension": ".py",
   "mimetype": "text/x-python",
   "name": "python",
   "nbconvert_exporter": "python",
   "pygments_lexer": "ipython3",
   "version": "3.11.5"
  }
 },
 "nbformat": 4,
 "nbformat_minor": 5
}
