{
  "nbformat": 4,
  "nbformat_minor": 0,
  "metadata": {
    "colab": {
      "provenance": []
    },
    "kernelspec": {
      "name": "python3",
      "display_name": "Python 3"
    },
    "language_info": {
      "name": "python"
    }
  },
  "cells": [
    {
      "cell_type": "markdown",
      "source": [
        "###Ques 1. What are the five key concepts of object oriented programming (OOP)?\n",
        "\n",
        "**Answer:-**\n",
        "1. Class: A class is a blueprint for creating objects. It defines a set of attributes (data) and methods (functions) that the objects created from the class will have."
      ],
      "metadata": {
        "id": "0M_GqIR7hBUh"
      }
    },
    {
      "cell_type": "code",
      "execution_count": 1,
      "metadata": {
        "id": "YKWdbbn7g5Bo"
      },
      "outputs": [],
      "source": [
        "class Car:\n",
        "    def __init__(self, brand, model):\n",
        "        self.brand = brand\n",
        "        self.model = model"
      ]
    },
    {
      "cell_type": "markdown",
      "source": [
        "2. Object: An object is an instance of a class, representing a specific realization of the blueprint. Objects are used to interact with the properties and behaviors defined by the class."
      ],
      "metadata": {
        "id": "RHHkwLi9hk7l"
      }
    },
    {
      "cell_type": "code",
      "source": [
        "my_car = Car(\"Nissan\", \"GTR\")"
      ],
      "metadata": {
        "id": "ngNR70-nhgRy"
      },
      "execution_count": 2,
      "outputs": []
    },
    {
      "cell_type": "markdown",
      "source": [
        "3. Encapsulation: Encapsulation is the process of bundling data (attributes) and methods (functions) that operate on the data into a single unit or class. It also restricts direct access to some of the object’s components, usually by making attributes private and using getter/setter methods."
      ],
      "metadata": {
        "id": "aCYT9G3Vh5S-"
      }
    },
    {
      "cell_type": "code",
      "source": [
        "class Person:\n",
        "    def __init__(self, naam, umar):\n",
        "        self.__age = umar  # Private variable\n",
        "        self.name = naam\n",
        "\n",
        "    def get_age(self):\n",
        "        return self.__age\n",
        "\n",
        "    def set_age(self, age):\n",
        "        self.__age = age"
      ],
      "metadata": {
        "id": "Ezyomb1aiD6z"
      },
      "execution_count": 3,
      "outputs": []
    },
    {
      "cell_type": "markdown",
      "source": [
        "4. Inheritance: Inheritance allows a class to inherit attributes and methods from another class. This promotes code reuse and logical hierarchy."
      ],
      "metadata": {
        "id": "PCsaVzvoiZsO"
      }
    },
    {
      "cell_type": "code",
      "source": [
        "class Vehicle:\n",
        "    def __init__(self, brand):\n",
        "        self.brand = brand\n",
        "\n",
        "class Car(Vehicle):  # Inherit karega vehicle se\n",
        "    def __init__(self, brand, model):\n",
        "        super().__init__(brand)\n",
        "        self.model = model"
      ],
      "metadata": {
        "id": "n0Csbwcsieba"
      },
      "execution_count": 4,
      "outputs": []
    },
    {
      "cell_type": "markdown",
      "source": [
        "5. Polymorphism: Polymorphism allows methods to do different things based on the object it is acting upon, even if the method shares the same name. This can be implemented via method overloading or overriding."
      ],
      "metadata": {
        "id": "PTNlBuzWivox"
      }
    },
    {
      "cell_type": "code",
      "source": [
        "class Animal:\n",
        "    def speak(self):\n",
        "        pass\n",
        "\n",
        "class Dog(Animal):\n",
        "    def speak(self):\n",
        "        return \"Bhau Bhau Bhau (woof)!\"\n",
        "\n",
        "class Cat(Animal):\n",
        "    def speak(self):\n",
        "        return \"Meow!\"\n",
        "\n",
        "def animal_sound(animal):\n",
        "    print(animal.speak())\n",
        "\n",
        "animal_sound(Dog())\n",
        "animal_sound(Cat())"
      ],
      "metadata": {
        "colab": {
          "base_uri": "https://localhost:8080/"
        },
        "id": "dEcu3G9Mi0nc",
        "outputId": "a1eec36b-8429-484c-ffbc-5cc329fc1467"
      },
      "execution_count": 5,
      "outputs": [
        {
          "output_type": "stream",
          "name": "stdout",
          "text": [
            "Bhau Bhau Bhau (woof)!\n",
            "Meow!\n"
          ]
        }
      ]
    },
    {
      "cell_type": "markdown",
      "source": [
        "### Ques2. Write a Python class for a 'Car' with attributes for 'make', 'model' and 'year'. Include a method a display the car's information.\n",
        "\n",
        "**Answer:**"
      ],
      "metadata": {
        "id": "BRdliXL3kMrN"
      }
    },
    {
      "cell_type": "code",
      "source": [
        "class Car:\n",
        "    def __init__(self, company, model, year):\n",
        "        self.make = company\n",
        "        self.model = model\n",
        "        self.year = year\n",
        "\n",
        "    def display_info(self):\n",
        "        print(f\"Car Info: {self.year} {self.make} {self.model}\")\n",
        "\n",
        "my_car = Car(\"Mahindra\", \"Scorpio😎\", 2020)\n",
        "my_car.display_info()"
      ],
      "metadata": {
        "colab": {
          "base_uri": "https://localhost:8080/"
        },
        "id": "gTJVbpz3jEdQ",
        "outputId": "12bd7e2b-eed6-4125-95a5-caa7072fa30b"
      },
      "execution_count": 7,
      "outputs": [
        {
          "output_type": "stream",
          "name": "stdout",
          "text": [
            "Car Info: 2020 Mahindra Scorpio😎\n"
          ]
        }
      ]
    },
    {
      "cell_type": "markdown",
      "source": [
        "#### Ques 3. Explain the difference between instance methods and class methods. Provide an example  of each.\n",
        "\n",
        "**Answer**: Instance methods and class methods are two types of methods that behave differently based on how they are defined and used.\n",
        "\n",
        "1. Instance Methods\n",
        "\n",
        ">>Instance methods are the most common type of method.\n",
        "\n",
        ">>They are defined within a class and can access instance-specific data (attributes).\n",
        "\n",
        ">>The first parameter of an instance method is always self, which refers to the instance of the class.\n",
        "They can modify object-specific data or access other instance methods."
      ],
      "metadata": {
        "id": "Y6bmEntAl2vp"
      }
    },
    {
      "cell_type": "code",
      "source": [
        "class Car:\n",
        "    def __init__(self, make, model, year):\n",
        "        self.make = make\n",
        "        self.model = model\n",
        "        self.year = year\n",
        "\n",
        "    def display_info(self):\n",
        "        print(f\"Car Info: {self.year} {self.make} {self.model}\")\n",
        "\n",
        "my_car = Car(\"Honda\", \"Amaze\", 2022)\n",
        "my_car.display_info()"
      ],
      "metadata": {
        "colab": {
          "base_uri": "https://localhost:8080/"
        },
        "id": "tLVcehp6lq_I",
        "outputId": "5b2e4e54-3d82-46c4-a9fb-118e5f79a61e"
      },
      "execution_count": 8,
      "outputs": [
        {
          "output_type": "stream",
          "name": "stdout",
          "text": [
            "Car Info: 2022 Honda Amaze\n"
          ]
        }
      ]
    },
    {
      "cell_type": "markdown",
      "source": [
        "2. Class Methods\n",
        "\n",
        "Class methods are methods that are bound to the class rather than the instance of the class.\n",
        "They take cls as the first parameter (instead of self), which refers to the class itself, not an instance.\n",
        "Class methods are defined using the @classmethod decorator.\n",
        "They are commonly used to create factory methods, access class-level data, or modify class-level attributes."
      ],
      "metadata": {
        "id": "GAt1SJf8rFmt"
      }
    },
    {
      "cell_type": "code",
      "source": [
        "class Car:\n",
        "    total_cars = 0  # Class attribute\n",
        "\n",
        "    def __init__(self, make, model, year):\n",
        "        self.make = make\n",
        "        self.model = model\n",
        "        self.year = year\n",
        "        Car.total_cars += 1  # Modify class-level data\n",
        "\n",
        "    @classmethod\n",
        "    def display_total_cars(cls):\n",
        "        print(f\"Total number of cars: {cls.total_cars}\")\n",
        "\n",
        "\n",
        "car1 = Car(\"Honda\", \"Amaze\", 2022)\n",
        "car2 = Car(\"Hyundai\", \"i20\", 2021)\n",
        "\n",
        "\n",
        "Car.display_total_cars()"
      ],
      "metadata": {
        "colab": {
          "base_uri": "https://localhost:8080/"
        },
        "id": "PFqgXrGorB5W",
        "outputId": "5de836cd-9bcc-4b40-c727-516090045dcb"
      },
      "execution_count": 11,
      "outputs": [
        {
          "output_type": "stream",
          "name": "stdout",
          "text": [
            "Total number of cars: 2\n"
          ]
        }
      ]
    },
    {
      "cell_type": "markdown",
      "source": [
        "#### Ques 4. How does Python implement method overloading? Give an example.\n",
        "\n",
        "**Answer:**  Python does not support method overloading in the traditional sense. This means you cannot define multiple methods with the same name within a class, even if they have different argument types or numbers.\n",
        "\n",
        "\n",
        "**1. Default Arguments:** You can define methods with default arguments. This allows you to create methods that can be called with different numbers of arguments.\n",
        "\n"
      ],
      "metadata": {
        "id": "90Jbr34GEZVA"
      }
    },
    {
      "cell_type": "code",
      "source": [
        "class MyClass:\n",
        "    def my_method(self, x, y=10):\n",
        "        print(x, y)"
      ],
      "metadata": {
        "id": "ZtUBDWwHrXp-"
      },
      "execution_count": 1,
      "outputs": []
    },
    {
      "cell_type": "markdown",
      "source": [
        "**2. Keyword Arguments:** You can use keyword arguments to specify the arguments by name, regardless of their order. This can help to avoid ambiguity when calling methods with different numbers of arguments."
      ],
      "metadata": {
        "id": "pAkWAF4rFk0S"
      }
    },
    {
      "cell_type": "code",
      "source": [
        "class MyClass:\n",
        "    def my_method(self, x, y=10, z=20):\n",
        "        print(x, y, z)"
      ],
      "metadata": {
        "id": "bxwBtHRkFfOO"
      },
      "execution_count": 2,
      "outputs": []
    },
    {
      "cell_type": "markdown",
      "source": [
        "**3. Arbitrary Arguments:** You can use *args and **kwargs to accept an arbitrary number of positional or keyword arguments, respectively. This can be useful for creating methods that can handle a variable number of inputs."
      ],
      "metadata": {
        "id": "sqLCgFMDF5yR"
      }
    },
    {
      "cell_type": "code",
      "source": [
        "class MyClass:\n",
        "    def my_method(self, *args, **kwargs):\n",
        "        print(args, kwargs)"
      ],
      "metadata": {
        "id": "f6iJ6JbbF4Pk"
      },
      "execution_count": 3,
      "outputs": []
    },
    {
      "cell_type": "markdown",
      "source": [
        "#### Ques 5. What are the three types of access modifiers in Python? How are they denoted?\n",
        "\n",
        "**Answer:** Python doesn't have explicit access modifiers like public, private, or protected. However, it follows a convention based on naming to indicate the intended level of access:\n",
        "\n",
        "**Public:** Methods and attributes that start with an underscore (e.g., _my_method) are considered \"private\" but still accessible from outside the class.\n",
        "\n",
        "**Protected:** Methods and attributes that start with two underscores (e.g.,   _ _my_method) are considered \"protected\" and are treated as private within the class and its subclasses.\n",
        "\n",
        "**Private:** Methods and attributes that start with three underscores (e.g.,   _ _ _my_method) are considered \"private\" and are not accessible from outside the class."
      ],
      "metadata": {
        "id": "KVOFWcp_GGHf"
      }
    },
    {
      "cell_type": "markdown",
      "source": [
        "#### Ques 6. Describe the five types of inheritance in Python. Provide a simple example of multiple inheritance.\n",
        "\n",
        "**Answer:**  Python supports five types of inheritance:\n",
        "\n",
        "**1. Single Inheritance:** A class inherits from only one parent class. This is the most common type of inheritance.\n",
        "\n",
        "**2. Multiple Inheritance:** A class inherits from more than one parent class. This can be useful for creating classes with features from multiple parent classes.\n",
        "\n",
        "**3. Multilevel Inheritance:** A class inherits from a class that itself inherits from another class. This creates a hierarchical relationship between the classes.\n",
        "\n",
        "**4. Hybrid Inheritance:** A combination of multiple and multilevel inheritance.\n",
        "\n",
        "**5. Hierarchical Inheritance:** Multiple classes inherit from a single parent class.\n",
        "\n",
        "**Example of Multiple Inheritance:**"
      ],
      "metadata": {
        "id": "fE2IaQ1OGwsa"
      }
    },
    {
      "cell_type": "code",
      "source": [
        "class Vehicle:\n",
        "    def __init__(self, color, max_speed):\n",
        "        self.color = color\n",
        "        self.max_speed = max_speed\n",
        "\n",
        "class Car(Vehicle):\n",
        "    def start(self):\n",
        "        print(\"Car started.\")\n",
        "\n",
        "class Motorcycle(Vehicle):\n",
        "    def wheelie(self):\n",
        "        print(\"Motorcycle doing a wheelie.\")\n",
        "\n",
        "class HybridVehicle(Car, Motorcycle):\n",
        "    def switch_mode(self):\n",
        "        print(\"Switching between electric and gasoline mode.\")\n",
        "\n",
        "\n",
        "hybrid_car = HybridVehicle(\"Blue\", 120)\n",
        "\n",
        "\n",
        "hybrid_car.start()\n",
        "hybrid_car.wheelie()\n",
        "hybrid_car.switch_mode()\n"
      ],
      "metadata": {
        "colab": {
          "base_uri": "https://localhost:8080/"
        },
        "id": "2sQId_12GC4C",
        "outputId": "c5e8ed4f-99ca-4cea-bbb6-0ac70e20c59a"
      },
      "execution_count": 4,
      "outputs": [
        {
          "output_type": "stream",
          "name": "stdout",
          "text": [
            "Car started.\n",
            "Motorcycle doing a wheelie.\n",
            "Switching between electric and gasoline mode.\n"
          ]
        }
      ]
    },
    {
      "cell_type": "markdown",
      "source": [
        "#### Ques 7. What is the Method Resolution Order (MRO) in python? How can you retrieve it programmatically?\n",
        "\n",
        "**Answer:** Method Resolution Order (MRO) is the order in which Python searches for methods or attributes when they are accessed on an object. It's particularly important in multiple inheritance, where a class can inherit from multiple parent classes.\n",
        "\n",
        "**How MRO is Determined:**\n",
        "\n",
        "Python uses a C3 linearization algorithm to determine the MRO. This algorithm ensures that:\n",
        "\n",
        ">>Parent classes appear before their subclasses.\n",
        "\n",
        ">>A class appears only once in the MRO.\n",
        "\n",
        ">>If a class appears in the MRO of multiple parent classes, the leftmost parent's MRO is preferred."
      ],
      "metadata": {
        "id": "TN073IgTIRVu"
      }
    },
    {
      "cell_type": "code",
      "source": [
        "class A:\n",
        "    pass\n",
        "\n",
        "class B(A):\n",
        "    pass\n",
        "\n",
        "class C(A):\n",
        "    pass\n",
        "\n",
        "class D(B, C):\n",
        "    pass\n",
        "\n",
        "print(D.__mro__)"
      ],
      "metadata": {
        "colab": {
          "base_uri": "https://localhost:8080/"
        },
        "id": "dt-am6FqINqS",
        "outputId": "27b0373c-99cf-443a-e9cb-30d3ce16bfb7"
      },
      "execution_count": 5,
      "outputs": [
        {
          "output_type": "stream",
          "name": "stdout",
          "text": [
            "(<class '__main__.D'>, <class '__main__.B'>, <class '__main__.C'>, <class '__main__.A'>, <class 'object'>)\n"
          ]
        }
      ]
    },
    {
      "cell_type": "markdown",
      "source": [
        "#### Ques 8. Create an abstract base class 'Shape' with an abstract method 'area()'. Then create two subclasses 'Circle' and 'Rectangle' that implement the 'area()' method.\n",
        "\n",
        "**Answer:**"
      ],
      "metadata": {
        "id": "-vHaCh2bJK4I"
      }
    },
    {
      "cell_type": "code",
      "source": [
        "from abc import ABC, abstractmethod\n",
        "\n",
        "class Shape(ABC):\n",
        "    @abstractmethod\n",
        "    def area(self):\n",
        "        pass\n",
        "\n",
        "class Circle(Shape):\n",
        "    def __init__(self, radius):\n",
        "        self.radius = radius\n",
        "\n",
        "    def area(self):\n",
        "        return 3.14159 *self.radius *self.radius\n",
        "\n",
        "class Rectangle(Shape):\n",
        "    def __init__(self, length, width):\n",
        "        self.length = length\n",
        "        self.width = width\n",
        "\n",
        "    def area(self):\n",
        "        return self.length * self.width\n",
        "\n",
        "\n",
        "# Example usage\n",
        "circle = Circle(5)\n",
        "rectangle = Rectangle(4, 3)\n",
        "\n",
        "print(\"Circle area:\", circle.area())\n",
        "print(\"Rectangle area:\", rectangle.area())"
      ],
      "metadata": {
        "colab": {
          "base_uri": "https://localhost:8080/"
        },
        "id": "cCUHa8v8JHPp",
        "outputId": "cb7011fa-424e-4d8f-ba4b-886342be693e"
      },
      "execution_count": 13,
      "outputs": [
        {
          "output_type": "stream",
          "name": "stdout",
          "text": [
            "Circle area: 78.53975\n",
            "Rectangle area: 12\n"
          ]
        }
      ]
    },
    {
      "cell_type": "markdown",
      "source": [
        "#### Ques 9. Demonstrate polymorphism by creating a function that can work with different shape objects to calculate and print their areas.\n",
        "\n",
        "**Answer:**"
      ],
      "metadata": {
        "id": "6mP3wcZxKEZo"
      }
    },
    {
      "cell_type": "code",
      "source": [
        "from abc import ABC, abstractmethod\n",
        "\n",
        "class Shape(ABC):\n",
        "    @abstractmethod\n",
        "    def area(self):\n",
        "        pass\n",
        "\n",
        "class Circle(Shape):\n",
        "    def __init__(self, radius):\n",
        "        self.radius = radius\n",
        "\n",
        "    def area(self):\n",
        "        return 3.14159 * self.radius * self.radius\n",
        "\n",
        "class Rectangle(Shape):\n",
        "    def __init__(self, length, width):\n",
        "        self.length = length\n",
        "        self.width = width\n",
        "\n",
        "    def area(self):\n",
        "        return self.length * self.width\n",
        "\n",
        "def calculate_and_print_area(shape):\n",
        "    \"\"\"Calculates and prints the area of a given shape object.\"\"\"\n",
        "    area = shape.area()\n",
        "    print(f\"The area of the shape is: {area}\")\n",
        "\n",
        "\n",
        "circle = Circle(5)\n",
        "rectangle = Rectangle(4, 3)\n",
        "\n",
        "\n",
        "calculate_and_print_area(circle)\n",
        "calculate_and_print_area(rectangle)"
      ],
      "metadata": {
        "colab": {
          "base_uri": "https://localhost:8080/"
        },
        "id": "jX5GTV27Ju67",
        "outputId": "1c2c974a-a123-4f54-ff15-42488eea2a4c"
      },
      "execution_count": 14,
      "outputs": [
        {
          "output_type": "stream",
          "name": "stdout",
          "text": [
            "The area of the shape is: 78.53975\n",
            "The area of the shape is: 12\n"
          ]
        }
      ]
    },
    {
      "cell_type": "markdown",
      "source": [
        "#### Ques 10. Implement encapsulation in a 'BankAccount' class with private attributes for 'balance' and 'account_number'. Include methods for deposit, withdrawal, and balance inquiry.\n",
        "\n",
        "**Answer:**"
      ],
      "metadata": {
        "id": "rUo4kI6fKo6z"
      }
    },
    {
      "cell_type": "code",
      "source": [
        "class BankAccount:\n",
        "    def __init__(self, account_number, initial_balance=0):\n",
        "        self.__account_number = account_number\n",
        "        self.__balance = initial_balance\n",
        "\n",
        "\n",
        "    def deposit(self, amount):\n",
        "        if amount > 0:\n",
        "            self.__balance += amount\n",
        "            print(f\"Deposited {amount}. New balance: {self.__balance}\")\n",
        "        else:\n",
        "            print(\"Deposit amount must be positive.\")\n",
        "\n",
        "\n",
        "    def withdraw(self, amount):\n",
        "        if 0 < amount <= self.__balance:\n",
        "            self.__balance -= amount\n",
        "            print(f\"Withdrew {amount}. New balance: {self.__balance}\")\n",
        "        else:\n",
        "            print(\"Insufficient balance or invalid amount.\")\n",
        "\n",
        "\n",
        "    def get_balance(self):\n",
        "        return self.__balance\n",
        "\n",
        "\n",
        "    def get_account_number(self):\n",
        "        return self.__account_number\n",
        "\n",
        "\n",
        "\n",
        "account = BankAccount(\"1234567890\", 500)\n",
        "account.deposit(200)\n",
        "account.withdraw(150)\n",
        "print(f\"Current balance: {account.get_balance()}\")"
      ],
      "metadata": {
        "colab": {
          "base_uri": "https://localhost:8080/"
        },
        "id": "udzRWGY3KnKJ",
        "outputId": "a9ab572b-8461-4472-f4c1-ec6238e5ad71"
      },
      "execution_count": 15,
      "outputs": [
        {
          "output_type": "stream",
          "name": "stdout",
          "text": [
            "Deposited 200. New balance: 700\n",
            "Withdrew 150. New balance: 550\n",
            "Current balance: 550\n"
          ]
        }
      ]
    },
    {
      "cell_type": "markdown",
      "source": [
        "#### Ques 11. Write a class that overrides the '_ _ str_ _' and '_ _add_ _' magic methods. What will these methods allow you to do?\n",
        "\n",
        "**Answer:**"
      ],
      "metadata": {
        "id": "NiqaSiZLLmnP"
      }
    },
    {
      "cell_type": "code",
      "source": [
        "class CustomNumber:\n",
        "    def __init__(self, value):\n",
        "        self.value = value\n",
        "\n",
        "\n",
        "    def __str__(self):\n",
        "        return f\"CustomNumber: {self.value}\"\n",
        "\n",
        "\n",
        "    def __add__(self, other):\n",
        "        if isinstance(other, CustomNumber):\n",
        "            return CustomNumber(self.value + other.value)\n",
        "        elif isinstance(other, (int, float)):\n",
        "            return CustomNumber(self.value + other)\n",
        "        else:\n",
        "            raise TypeError(\"Unsupported type for addition\")"
      ],
      "metadata": {
        "id": "UQDMLLo8LlGW"
      },
      "execution_count": 16,
      "outputs": []
    },
    {
      "cell_type": "markdown",
      "source": [
        "#### Ques 12. Create a decorator that measures and prints the execution time of a function.\n",
        "\n",
        "**Answer:**"
      ],
      "metadata": {
        "id": "xtv039jQML7f"
      }
    },
    {
      "cell_type": "code",
      "source": [
        "import time\n",
        "\n",
        "def execution_time(func):\n",
        "    def wrapper(*args, **kwargs):\n",
        "        start_time = time.time()\n",
        "        result = func(*args, **kwargs)\n",
        "        end_time = time.time()\n",
        "        execution_duration = end_time - start_time\n",
        "        print(f\"Execution time of {func.__name__}: {execution_duration:.6f} seconds\")\n",
        "        return result\n",
        "    return wrapper\n",
        "\n",
        "\n",
        "@execution_time\n",
        "def sample_function():\n",
        "    time.sleep(2)\n",
        "    print(\"Function execution complete.\")\n",
        "\n",
        "sample_function()"
      ],
      "metadata": {
        "colab": {
          "base_uri": "https://localhost:8080/"
        },
        "id": "GNF28HiMMKIZ",
        "outputId": "94907563-6af2-416e-858c-769cddf44e97"
      },
      "execution_count": 18,
      "outputs": [
        {
          "output_type": "stream",
          "name": "stdout",
          "text": [
            "Function execution complete.\n",
            "Execution time of sample_function: 2.003922 seconds\n"
          ]
        }
      ]
    },
    {
      "cell_type": "markdown",
      "source": [
        "#### Ques 13. Explain the concept of the Diamond Problem in multiple inheritance. How does Python resolve it?\n",
        "\n",
        "**Answer:**  The Diamond Problem occurs in multiple inheritance when a class inherits from two or more classes that have a common base class, leading to potential ambiguity in how methods and attributes from the common ancestor should be handled.\n",
        "\n",
        "**How Python Resolves the Diamond Problem:**\n",
        "\n",
        "Python uses the Method Resolution Order (MRO) and the C3 Linearization Algorithm to resolve this ambiguity. The MRO ensures a well-defined, predictable order in which base classes are searched when invoking methods. This order is determined by:\n",
        "\n",
        "Depth-first search, left-to-right through the inheritance chain.\n",
        "Ensuring that a class is not accessed more than once."
      ],
      "metadata": {
        "id": "7sTyeEzoM2Ca"
      }
    },
    {
      "cell_type": "code",
      "source": [
        "class A:\n",
        "    def speak(self):\n",
        "        print(\"Class A speaking\")\n",
        "\n",
        "class B(A):\n",
        "    def speak(self):\n",
        "        print(\"Class B speaking\")\n",
        "\n",
        "class C(A):\n",
        "    def speak(self):\n",
        "        print(\"Class C speaking\")\n",
        "\n",
        "class D(B, C):\n",
        "    pass\n",
        "\n",
        "d = D()\n",
        "d.speak()"
      ],
      "metadata": {
        "colab": {
          "base_uri": "https://localhost:8080/"
        },
        "id": "1zJswdPiMq3n",
        "outputId": "0643fa69-35ae-4724-f33a-15e7d3082e6e"
      },
      "execution_count": 19,
      "outputs": [
        {
          "output_type": "stream",
          "name": "stdout",
          "text": [
            "Class B speaking\n"
          ]
        }
      ]
    },
    {
      "cell_type": "markdown",
      "source": [
        "#### Ques 14. Write a class method that keeps track of the number of instances created from a class.\n",
        "\n",
        "**Answer:**"
      ],
      "metadata": {
        "id": "yKmy8E1pNmbw"
      }
    },
    {
      "cell_type": "code",
      "source": [
        "class InstanceCounter:\n",
        "\n",
        "    instance_count = 0\n",
        "\n",
        "    def __init__(self):\n",
        "\n",
        "        InstanceCounter.instance_count += 1\n",
        "\n",
        "    @classmethod\n",
        "    def get_instance_count(cls):\n",
        "\n",
        "        return cls.instance_count\n",
        "\n",
        "\n",
        "obj1 = InstanceCounter()\n",
        "obj2 = InstanceCounter()\n",
        "obj3 = InstanceCounter()\n",
        "\n",
        "print(InstanceCounter.get_instance_count())"
      ],
      "metadata": {
        "colab": {
          "base_uri": "https://localhost:8080/"
        },
        "id": "xQ6MwrmMNj1R",
        "outputId": "265274d0-829a-4a6a-ac7a-62618ef9357b"
      },
      "execution_count": 20,
      "outputs": [
        {
          "output_type": "stream",
          "name": "stdout",
          "text": [
            "3\n"
          ]
        }
      ]
    },
    {
      "cell_type": "markdown",
      "source": [
        "**Explanation:**\n",
        "\n",
        "Class Variable (instance_count):\n",
        "\n",
        "instance_count is a class variable, shared across all instances of the class. It starts with the value 0 and increments whenever a new object is created.\n",
        "\n",
        "Constructor (_ _ init _ _):\n",
        "\n",
        "In the _ _ init _ _ method (constructor), the class variable instance_count is incremented by 1 each time a new instance is initialized.\n",
        "\n",
        "Class Method (get_instance_count):\n",
        "\n",
        "The get_instance_count method is defined with the @classmethod decorator, allowing it to access the class variable instance_count and return the total number of instances created.\n",
        "The cls parameter refers to the class itself, not an instance, and is used to access class variables and other class methods."
      ],
      "metadata": {
        "id": "lUJk375rOK0m"
      }
    },
    {
      "cell_type": "markdown",
      "source": [
        "#### Ques 15. Implement a static method in a class that checks if a given year is a leap year.\n",
        "\n",
        "**Answer:**"
      ],
      "metadata": {
        "id": "3ANB42NgOkyM"
      }
    },
    {
      "cell_type": "code",
      "source": [
        "class Year:\n",
        "    @staticmethod\n",
        "    def is_leap_year(year):\n",
        "        if (year % 4 == 0 and year % 100 != 0) or (year % 400 == 0):\n",
        "            return True\n",
        "        return False\n",
        "\n",
        "\n",
        "print(Year.is_leap_year(2024))\n",
        "print(Year.is_leap_year(2023))\n",
        "print(Year.is_leap_year(2000))\n",
        "print(Year.is_leap_year(1900))\n",
        "\n",
        "\n",
        "''' Explanation:\n",
        "Static Method (@staticmethod):\n",
        "The @staticmethod decorator is used to define a static method.\n",
        "This method does not depend on any instance or class variables and\n",
        "is invoked directly from the class without requiring an instance.\n",
        "\n",
        "Leap Year Logic:\n",
        "A year is considered a leap year if:\n",
        "It is divisible by 4.\n",
        "However, if it is divisible by 100, it must also be divisible by 400 to\n",
        "be a leap year (to handle century years like 1900, which is not a leap year, while 2000 is). '''"
      ],
      "metadata": {
        "colab": {
          "base_uri": "https://localhost:8080/"
        },
        "id": "1gne3FZxOEsr",
        "outputId": "8a70e8c3-c855-4704-cceb-adffa946bb24"
      },
      "execution_count": 21,
      "outputs": [
        {
          "output_type": "stream",
          "name": "stdout",
          "text": [
            "True\n",
            "False\n",
            "True\n",
            "False\n"
          ]
        }
      ]
    },
    {
      "cell_type": "code",
      "source": [],
      "metadata": {
        "id": "SjA9IjyRPe5K"
      },
      "execution_count": null,
      "outputs": []
    }
  ]
}