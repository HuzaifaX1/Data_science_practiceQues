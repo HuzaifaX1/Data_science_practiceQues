{
 "cells": [
  {
   "cell_type": "code",
   "execution_count": 1,
   "metadata": {},
   "outputs": [],
   "source": [
    "#  inheritance >> refers to process of child vlass receiving the properties of parent class\n",
    "# syntax\n",
    "# class BaseClass:\n",
    "    #body of base class\n",
    "# class DerivedClass(BaseClass):\n",
    "    #body of derived class"
   ]
  },
  {
   "cell_type": "code",
   "execution_count": 2,
   "metadata": {},
   "outputs": [],
   "source": [
    "# single inheritance >> when a derived class has only one parent class"
   ]
  },
  {
   "cell_type": "code",
   "execution_count": 11,
   "metadata": {},
   "outputs": [],
   "source": [
    "#example \n",
    "class Father: #father object has no attribute of son property or 'job'\n",
    "    def father_property(self):\n",
    "        print(\"This is abbu property\")"
   ]
  },
  {
   "cell_type": "code",
   "execution_count": 12,
   "metadata": {},
   "outputs": [],
   "source": [
    "class Son(Father): \n",
    "    def job(self):\n",
    "        print(\"son has property from job\")"
   ]
  },
  {
   "cell_type": "code",
   "execution_count": 20,
   "metadata": {},
   "outputs": [],
   "source": [
    "child_obj = Son() #object/instance of son class"
   ]
  },
  {
   "cell_type": "code",
   "execution_count": 23,
   "metadata": {},
   "outputs": [
    {
     "name": "stdout",
     "output_type": "stream",
     "text": [
      "son has property from job\n"
     ]
    }
   ],
   "source": [
    "# A child can have his property and also his father property\n",
    "child_obj.job()"
   ]
  },
  {
   "cell_type": "code",
   "execution_count": 24,
   "metadata": {},
   "outputs": [
    {
     "name": "stdout",
     "output_type": "stream",
     "text": [
      "This is abbu property\n"
     ]
    }
   ],
   "source": [
    "child_obj.father_property()"
   ]
  },
  {
   "cell_type": "code",
   "execution_count": 25,
   "metadata": {},
   "outputs": [
    {
     "name": "stdout",
     "output_type": "stream",
     "text": [
      "This is abbu property\n"
     ]
    }
   ],
   "source": [
    "# A father will have only his property\n",
    "father_obj = Father()\n",
    "father_obj.father_property()"
   ]
  },
  {
   "cell_type": "code",
   "execution_count": 26,
   "metadata": {},
   "outputs": [
    {
     "ename": "AttributeError",
     "evalue": "'Father' object has no attribute 'job'",
     "output_type": "error",
     "traceback": [
      "\u001b[1;31m---------------------------------------------------------------------------\u001b[0m",
      "\u001b[1;31mAttributeError\u001b[0m                            Traceback (most recent call last)",
      "Cell \u001b[1;32mIn[26], line 1\u001b[0m\n\u001b[1;32m----> 1\u001b[0m \u001b[43mfather_obj\u001b[49m\u001b[38;5;241;43m.\u001b[39;49m\u001b[43mjob\u001b[49m()\n",
      "\u001b[1;31mAttributeError\u001b[0m: 'Father' object has no attribute 'job'"
     ]
    }
   ],
   "source": [
    "father_obj.job() #error"
   ]
  },
  {
   "cell_type": "code",
   "execution_count": 27,
   "metadata": {},
   "outputs": [],
   "source": [
    "# parent class will not have access to the property(method/attribute) of child class but child class will have access to both"
   ]
  },
  {
   "cell_type": "code",
   "execution_count": 29,
   "metadata": {},
   "outputs": [],
   "source": [
    "class Fruit:\n",
    "    def fruit_info(self):\n",
    "        print(\"Inside parent class\")\n",
    "class Apple(Fruit):\n",
    "    def apple_info(self):\n",
    "        print(\"inside the child class\")"
   ]
  },
  {
   "cell_type": "code",
   "execution_count": 30,
   "metadata": {},
   "outputs": [
    {
     "name": "stdout",
     "output_type": "stream",
     "text": [
      "inside the child class\n"
     ]
    }
   ],
   "source": [
    "obj = Apple()\n",
    "obj.apple_info()"
   ]
  },
  {
   "cell_type": "code",
   "execution_count": 31,
   "metadata": {},
   "outputs": [
    {
     "name": "stdout",
     "output_type": "stream",
     "text": [
      "Inside parent class\n"
     ]
    }
   ],
   "source": [
    "obj.fruit_info()"
   ]
  },
  {
   "cell_type": "code",
   "execution_count": 32,
   "metadata": {},
   "outputs": [
    {
     "name": "stdout",
     "output_type": "stream",
     "text": [
      "Inside parent class\n"
     ]
    }
   ],
   "source": [
    "par = Fruit()\n",
    "par.fruit_info()"
   ]
  },
  {
   "cell_type": "code",
   "execution_count": 33,
   "metadata": {},
   "outputs": [
    {
     "ename": "AttributeError",
     "evalue": "'Fruit' object has no attribute 'apple_info'",
     "output_type": "error",
     "traceback": [
      "\u001b[1;31m---------------------------------------------------------------------------\u001b[0m",
      "\u001b[1;31mAttributeError\u001b[0m                            Traceback (most recent call last)",
      "Cell \u001b[1;32mIn[33], line 1\u001b[0m\n\u001b[1;32m----> 1\u001b[0m \u001b[43mpar\u001b[49m\u001b[38;5;241;43m.\u001b[39;49m\u001b[43mapple_info\u001b[49m()\n",
      "\u001b[1;31mAttributeError\u001b[0m: 'Fruit' object has no attribute 'apple_info'"
     ]
    }
   ],
   "source": [
    "par.apple_info()  #error"
   ]
  },
  {
   "cell_type": "code",
   "execution_count": 2,
   "metadata": {},
   "outputs": [],
   "source": [
    "# Method overriding>> re-writing/re-defining methods of parent class in derived/child class\n",
    "class Fruit:\n",
    "    def fruit_info(self):\n",
    "        print(\"Inside parent class\")\n",
    "class Apple(Fruit):\n",
    "    def fruit_info(self): # agr same name k do class ho parent n child class me to child wala execute hoga\n",
    "        print(\"Inside the child class (fruit info)\")\n",
    "    def apple_info(self):\n",
    "        print(\"inside the child class\")\n",
    "\n",
    "# method overriding>> child class is very powerfull\n",
    "# method overriding happend between two class"
   ]
  },
  {
   "cell_type": "code",
   "execution_count": 3,
   "metadata": {},
   "outputs": [
    {
     "name": "stdout",
     "output_type": "stream",
     "text": [
      "inside the child class\n"
     ]
    }
   ],
   "source": [
    "cll = Apple()\n",
    "cll.apple_info()"
   ]
  },
  {
   "cell_type": "code",
   "execution_count": 4,
   "metadata": {},
   "outputs": [
    {
     "name": "stdout",
     "output_type": "stream",
     "text": [
      "Inside the child class (fruit info)\n"
     ]
    }
   ],
   "source": [
    "cll.fruit_info()"
   ]
  },
  {
   "cell_type": "markdown",
   "metadata": {},
   "source": [
    "##### multi-level inheritance "
   ]
  },
  {
   "cell_type": "code",
   "execution_count": 5,
   "metadata": {},
   "outputs": [],
   "source": [
    "\n",
    "class GrandFather:\n",
    "    def prop_grand_father(self):\n",
    "        print(\"I am ur grand father, its my property\")\n",
    "class Father(GrandFather):\n",
    "    def prop_father(self):\n",
    "        print(\"I am ur father, having my and ur grandfather property\")\n",
    "class Son(Father):\n",
    "    def prop_son(self):\n",
    "        print(\"I am the King. I am having all the properties\")"
   ]
  },
  {
   "cell_type": "code",
   "execution_count": 8,
   "metadata": {},
   "outputs": [
    {
     "name": "stdout",
     "output_type": "stream",
     "text": [
      "I am ur grand father, its my property\n"
     ]
    }
   ],
   "source": [
    "son = Son()\n",
    "son.prop_grand_father()"
   ]
  },
  {
   "cell_type": "code",
   "execution_count": 7,
   "metadata": {},
   "outputs": [
    {
     "ename": "AttributeError",
     "evalue": "'GrandFather' object has no attribute 'prop_son'",
     "output_type": "error",
     "traceback": [
      "\u001b[1;31m---------------------------------------------------------------------------\u001b[0m",
      "\u001b[1;31mAttributeError\u001b[0m                            Traceback (most recent call last)",
      "Cell \u001b[1;32mIn[7], line 2\u001b[0m\n\u001b[0;32m      1\u001b[0m dada \u001b[38;5;241m=\u001b[39m GrandFather()\n\u001b[1;32m----> 2\u001b[0m \u001b[43mdada\u001b[49m\u001b[38;5;241;43m.\u001b[39;49m\u001b[43mprop_son\u001b[49m()\n",
      "\u001b[1;31mAttributeError\u001b[0m: 'GrandFather' object has no attribute 'prop_son'"
     ]
    }
   ],
   "source": [
    "dada = GrandFather() # grndfther sirf apni property use kr skte h na hi father ki or hi son ki\n",
    "dada.prop_son()"
   ]
  },
  {
   "cell_type": "code",
   "execution_count": 10,
   "metadata": {},
   "outputs": [
    {
     "name": "stdout",
     "output_type": "stream",
     "text": [
      "I am ur grand father, its my property\n"
     ]
    }
   ],
   "source": [
    "abbu = Father()\n",
    "abbu.prop_grand_father()"
   ]
  },
  {
   "cell_type": "code",
   "execution_count": 11,
   "metadata": {},
   "outputs": [
    {
     "name": "stdout",
     "output_type": "stream",
     "text": [
      "I am the King. I am having all the properties\n"
     ]
    }
   ],
   "source": [
    "son.prop_son()"
   ]
  },
  {
   "cell_type": "code",
   "execution_count": 13,
   "metadata": {},
   "outputs": [
    {
     "name": "stdout",
     "output_type": "stream",
     "text": [
      "I am ur grand father, its my property\n"
     ]
    }
   ],
   "source": [
    "gdf= GrandFather()\n",
    "gdf.prop_grand_father()"
   ]
  },
  {
   "cell_type": "code",
   "execution_count": 14,
   "metadata": {},
   "outputs": [],
   "source": [
    "# use case\n",
    "class Vehicle:\n",
    "    def vehicle_info(self):\n",
    "        print(\"inside vehicle class\")\n",
    "class Car(Vehicle):\n",
    "    def car_info(self):\n",
    "        print(\"Inside the car class\")\n",
    "class SportCar(Car):\n",
    "    def sportscar_info(self):\n",
    "        print(\"Inside sports car\")"
   ]
  },
  {
   "cell_type": "code",
   "execution_count": 15,
   "metadata": {},
   "outputs": [
    {
     "name": "stdout",
     "output_type": "stream",
     "text": [
      "Inside sports car\n"
     ]
    }
   ],
   "source": [
    "s1 = SportCar()\n",
    "s1.sportscar_info()"
   ]
  },
  {
   "cell_type": "code",
   "execution_count": 16,
   "metadata": {},
   "outputs": [
    {
     "name": "stdout",
     "output_type": "stream",
     "text": [
      "inside vehicle class\n"
     ]
    }
   ],
   "source": [
    "s1.vehicle_info()"
   ]
  },
  {
   "cell_type": "code",
   "execution_count": 17,
   "metadata": {},
   "outputs": [
    {
     "name": "stdout",
     "output_type": "stream",
     "text": [
      "Inside the car class\n"
     ]
    }
   ],
   "source": [
    "s1.car_info()"
   ]
  },
  {
   "cell_type": "code",
   "execution_count": 18,
   "metadata": {},
   "outputs": [],
   "source": [
    "# another example of method overriding\n",
    "class Vehicle:\n",
    "    def vehicle_info(self):\n",
    "        print(\"inside vehicle class\")\n",
    "class Car(Vehicle):\n",
    "    def car_info(self):\n",
    "        print(\"Inside the car class\")\n",
    "class SportCar(Car):\n",
    "    def vehicle_info(self):\n",
    "        print(\"Inside sports car\")"
   ]
  },
  {
   "cell_type": "code",
   "execution_count": 19,
   "metadata": {},
   "outputs": [
    {
     "name": "stdout",
     "output_type": "stream",
     "text": [
      "Inside sports car\n"
     ]
    }
   ],
   "source": [
    "s2 = SportCar()\n",
    "s2.vehicle_info() #method overriding >> child class is most powerful"
   ]
  },
  {
   "cell_type": "markdown",
   "metadata": {},
   "source": [
    "##### Multiple inheritance >> one child class may inherit the property of multiple parent class"
   ]
  },
  {
   "cell_type": "code",
   "execution_count": 36,
   "metadata": {},
   "outputs": [],
   "source": [
    "class ParentClass1:\n",
    "    def method1(self):\n",
    "        print(\"method 1 of parent class 1\")\n",
    "class ParentClass2:\n",
    "    def method2(self):\n",
    "        print(\"method 2 of parent class  2\")\n",
    "\n",
    "class ChildClass(ParentClass1, ParentClass2):\n",
    "    def method(self):\n",
    "        print(\"method of child class, I am child\")\n"
   ]
  },
  {
   "cell_type": "code",
   "execution_count": 37,
   "metadata": {},
   "outputs": [
    {
     "name": "stdout",
     "output_type": "stream",
     "text": [
      "method of child class, I am child\n"
     ]
    }
   ],
   "source": [
    "c = ChildClass()\n",
    "c.method()"
   ]
  },
  {
   "cell_type": "code",
   "execution_count": 38,
   "metadata": {},
   "outputs": [
    {
     "name": "stdout",
     "output_type": "stream",
     "text": [
      "method 2 of parent class  2\n"
     ]
    }
   ],
   "source": [
    "abbu = ParentClass2()\n",
    "abbu.method2()"
   ]
  },
  {
   "cell_type": "code",
   "execution_count": 44,
   "metadata": {},
   "outputs": [],
   "source": [
    "class RichDad:\n",
    "    def ameeraadmi(self):\n",
    "        print(\"I am a mothertucking Millionare\")\n",
    "class PoorDad:\n",
    "    def gareebaadmi(self):\n",
    "        print(\"mai middle class hu\")\n",
    "\n",
    "class ChildClass(RichDad, PoorDad):\n",
    "    def mauj_katunga(self):\n",
    "        print(\"Mai banunga Robert T kyosaki\")"
   ]
  },
  {
   "cell_type": "code",
   "execution_count": 45,
   "metadata": {},
   "outputs": [
    {
     "name": "stdout",
     "output_type": "stream",
     "text": [
      "I am a mothertucking Millionare\n"
     ]
    }
   ],
   "source": [
    "beta = ChildClass()\n",
    "beta.ameeraadmi()"
   ]
  },
  {
   "cell_type": "code",
   "execution_count": 46,
   "metadata": {},
   "outputs": [
    {
     "name": "stdout",
     "output_type": "stream",
     "text": [
      "mai middle class hu\n"
     ]
    }
   ],
   "source": [
    "beta.gareebaadmi()"
   ]
  },
  {
   "cell_type": "code",
   "execution_count": 47,
   "metadata": {},
   "outputs": [
    {
     "ename": "AttributeError",
     "evalue": "'PoorDad' object has no attribute 'ameeraadmi'",
     "output_type": "error",
     "traceback": [
      "\u001b[1;31m---------------------------------------------------------------------------\u001b[0m",
      "\u001b[1;31mAttributeError\u001b[0m                            Traceback (most recent call last)",
      "Cell \u001b[1;32mIn[47], line 2\u001b[0m\n\u001b[0;32m      1\u001b[0m ga \u001b[38;5;241m=\u001b[39m PoorDad()\n\u001b[1;32m----> 2\u001b[0m \u001b[43mga\u001b[49m\u001b[38;5;241;43m.\u001b[39;49m\u001b[43mameeraadmi\u001b[49m()\n",
      "\u001b[1;31mAttributeError\u001b[0m: 'PoorDad' object has no attribute 'ameeraadmi'"
     ]
    }
   ],
   "source": [
    "ga = PoorDad()\n",
    "ga.ameeraadmi()"
   ]
  },
  {
   "cell_type": "code",
   "execution_count": 48,
   "metadata": {},
   "outputs": [
    {
     "name": "stdout",
     "output_type": "stream",
     "text": [
      "mai middle class hu\n"
     ]
    }
   ],
   "source": [
    "ga.gareebaadmi()"
   ]
  },
  {
   "cell_type": "code",
   "execution_count": 49,
   "metadata": {},
   "outputs": [],
   "source": [
    "# diamond problem>> it occurs when a class inherits from 2 or more than 2 class>> will lead to ambiguity in execution of methods\n",
    "# To remove diamond problem>> python uses MRO(method resolution order) algorithm called c3 linearization\n",
    "# meaning that the class that is inherited first in the derived class, that method will be called. \n",
    "# >> in this case method 1\n",
    "\n",
    "class ParentClass1:\n",
    "    def method_par(self):\n",
    "        print(\"method 1 of parent class 1\")\n",
    "class ParentClass2:\n",
    "    def method_par(self):\n",
    "        print(\"method 2 of parent class  2\")\n",
    "\n",
    "class ChildClass(ParentClass1, ParentClass2):\n",
    "    def method(self):\n",
    "        print(\"method of child class, I am child\")"
   ]
  },
  {
   "cell_type": "code",
   "execution_count": 50,
   "metadata": {},
   "outputs": [
    {
     "name": "stdout",
     "output_type": "stream",
     "text": [
      "method 1 of parent class 1\n"
     ]
    }
   ],
   "source": [
    "c2 = ChildClass()\n",
    "c2.method_par()"
   ]
  },
  {
   "cell_type": "code",
   "execution_count": 69,
   "metadata": {},
   "outputs": [],
   "source": [
    "class A:\n",
    "    def method(self):\n",
    "        print(\"Method of class A\")\n",
    "class B(A):\n",
    "    def method(self):  \n",
    "        print(\"Method of class B\")\n",
    "class C(A):\n",
    "    def method(self):\n",
    "        print(\"Method of class C\")\n",
    "class D(C, B):\n",
    "    pass "
   ]
  },
  {
   "cell_type": "code",
   "execution_count": 70,
   "metadata": {},
   "outputs": [
    {
     "name": "stdout",
     "output_type": "stream",
     "text": [
      "Method of class C\n"
     ]
    }
   ],
   "source": [
    "d = D()\n",
    "d.method()"
   ]
  },
  {
   "cell_type": "markdown",
   "metadata": {},
   "source": [
    "#### Hierarchical inheritance >> one parent class and multiple(more than two child class)"
   ]
  },
  {
   "cell_type": "code",
   "execution_count": 83,
   "metadata": {},
   "outputs": [],
   "source": [
    "# one parent calass and multiple child class\n",
    "class Vehicle:\n",
    "    def info(slef):\n",
    "        print(\"This is vehicle\")\n",
    "class Car(Vehicle):\n",
    "    def car_info(self, name):\n",
    "        print(\"This is car info\", name)\n",
    "class Truck(Vehicle):\n",
    "    def truck_info(self, name):\n",
    "        print(\"truck info\", name)"
   ]
  },
  {
   "cell_type": "code",
   "execution_count": 84,
   "metadata": {},
   "outputs": [
    {
     "name": "stdout",
     "output_type": "stream",
     "text": [
      "This is vehicle\n"
     ]
    }
   ],
   "source": [
    "c1 = Car()\n",
    "c1.info()"
   ]
  },
  {
   "cell_type": "code",
   "execution_count": 88,
   "metadata": {},
   "outputs": [
    {
     "name": "stdout",
     "output_type": "stream",
     "text": [
      "This is car info curvv\n"
     ]
    }
   ],
   "source": [
    "c1.car_info(\"curvv\")"
   ]
  },
  {
   "cell_type": "code",
   "execution_count": 89,
   "metadata": {},
   "outputs": [
    {
     "name": "stdout",
     "output_type": "stream",
     "text": [
      "This is vehicle\n"
     ]
    }
   ],
   "source": [
    "obj2 = Truck()\n",
    "obj2.info()"
   ]
  },
  {
   "cell_type": "code",
   "execution_count": 91,
   "metadata": {},
   "outputs": [
    {
     "name": "stdout",
     "output_type": "stream",
     "text": [
      "truck info TATA\n"
     ]
    }
   ],
   "source": [
    "obj2.truck_info(\"TATA\")"
   ]
  },
  {
   "cell_type": "markdown",
   "metadata": {},
   "source": [
    "#### Hybrid inheritance"
   ]
  },
  {
   "cell_type": "code",
   "execution_count": 92,
   "metadata": {},
   "outputs": [],
   "source": [
    "# Multiple types or combination of different inheritance\n",
    "class Vehicle:\n",
    "    def vehicle_info(self):\n",
    "        print(\"Inside the  vehicle class\")\n",
    "class Car(Vehicle):\n",
    "    def car_info(self):\n",
    "        print(\"Inside the car class\")\n",
    "class Truck(Vehicle):\n",
    "    def truck_info(self, name):\n",
    "        print(\"Inside truck info\", name)\n",
    "class SportCar(Car, Vehicle):\n",
    "    def sport_info(self):\n",
    "        print(\"Inside sport car class\")\n"
   ]
  },
  {
   "cell_type": "code",
   "execution_count": 94,
   "metadata": {},
   "outputs": [
    {
     "name": "stdout",
     "output_type": "stream",
     "text": [
      "Inside the  vehicle class\n"
     ]
    }
   ],
   "source": [
    "ob1 = SportCar()\n",
    "ob1.vehicle_info()"
   ]
  },
  {
   "cell_type": "markdown",
   "metadata": {},
   "source": [
    "#### Abstaction"
   ]
  },
  {
   "cell_type": "code",
   "execution_count": null,
   "metadata": {},
   "outputs": [],
   "source": [
    "# Hiding unneeded details and exposing the required\n",
    "# abstract class can not be instantiated(can not make object)\n",
    "# abstract class should always be subclassed\n",
    "# abstract class may contain method that are just decleard and not implemented in abstract class itslef, subclass are responsible for implementing these abstract methods\n",
    "# if in inherited class a method is not present from abstract classs it will not throw an error"
   ]
  },
  {
   "cell_type": "code",
   "execution_count": 72,
   "metadata": {},
   "outputs": [],
   "source": [
    "import abc"
   ]
  },
  {
   "cell_type": "code",
   "execution_count": 73,
   "metadata": {},
   "outputs": [],
   "source": [
    "class Pwskills:\n",
    "\n",
    "    @abc.abstractmethod\n",
    "    def student_details(self):\n",
    "        pass\n",
    "\n",
    "    @abc.abstractmethod\n",
    "    def student_assignment(self):\n",
    "        pass\n",
    "\n",
    "    @abc.abstractmethod\n",
    "    def student_marks(self):\n",
    "        pass\n",
    "\n"
   ]
  },
  {
   "cell_type": "code",
   "execution_count": 74,
   "metadata": {},
   "outputs": [],
   "source": [
    "class DataScience(Pwskills):\n",
    "    def student_details(self):\n",
    "       return \"Data Science course details\"\n",
    "    def student_marks(self):\n",
    "        return \"give ds students marks\""
   ]
  },
  {
   "cell_type": "code",
   "execution_count": 75,
   "metadata": {},
   "outputs": [],
   "source": [
    "class WebDev(Pwskills):\n",
    "    def student_assignment(self):\n",
    "        return \"This will give web dev student assignment\"\n",
    "    def student_marks(self):\n",
    "        return \"Webdev student marks\""
   ]
  },
  {
   "cell_type": "code",
   "execution_count": 76,
   "metadata": {},
   "outputs": [],
   "source": [
    "ds= DataScience()\n",
    "ds.student_assignment() # not throw error evem if any method is not define"
   ]
  },
  {
   "cell_type": "code",
   "execution_count": 77,
   "metadata": {},
   "outputs": [
    {
     "data": {
      "text/plain": [
       "'Data Science course details'"
      ]
     },
     "execution_count": 77,
     "metadata": {},
     "output_type": "execute_result"
    }
   ],
   "source": [
    "ds.student_details()"
   ]
  },
  {
   "cell_type": "code",
   "execution_count": 78,
   "metadata": {},
   "outputs": [
    {
     "data": {
      "text/plain": [
       "'This will give web dev student assignment'"
      ]
     },
     "execution_count": 78,
     "metadata": {},
     "output_type": "execute_result"
    }
   ],
   "source": [
    "w = WebDev()\n",
    "w.student_assignment()"
   ]
  },
  {
   "cell_type": "code",
   "execution_count": 79,
   "metadata": {},
   "outputs": [
    {
     "data": {
      "text/plain": [
       "'Webdev student marks'"
      ]
     },
     "execution_count": 79,
     "metadata": {},
     "output_type": "execute_result"
    }
   ],
   "source": [
    "w.student_marks()"
   ]
  },
  {
   "cell_type": "code",
   "execution_count": 80,
   "metadata": {},
   "outputs": [],
   "source": [
    "# use case \n",
    "class Shape:\n",
    "    @abc.abstractmethod\n",
    "    def calculate_area(self):\n",
    "        pass\n",
    "class Rectangle(Shape):\n",
    "    def calculate_area(self):\n",
    "        return \"Area of rectangle is len* breadth\"\n",
    "    \n",
    "class Circle(Shape):\n",
    "    def calculate_area(self):\n",
    "        return \"area of circle is pi r ** 2 \"\n",
    "    "
   ]
  },
  {
   "cell_type": "code",
   "execution_count": 81,
   "metadata": {},
   "outputs": [
    {
     "data": {
      "text/plain": [
       "'Area of rectangle is len* breadth'"
      ]
     },
     "execution_count": 81,
     "metadata": {},
     "output_type": "execute_result"
    }
   ],
   "source": [
    "rect = Rectangle()\n",
    "rect.calculate_area()"
   ]
  },
  {
   "cell_type": "code",
   "execution_count": 82,
   "metadata": {},
   "outputs": [
    {
     "data": {
      "text/plain": [
       "'area of circle is pi r ** 2 '"
      ]
     },
     "execution_count": 82,
     "metadata": {},
     "output_type": "execute_result"
    }
   ],
   "source": [
    "c = Circle()\n",
    "c.calculate_area()"
   ]
  },
  {
   "cell_type": "code",
   "execution_count": null,
   "metadata": {},
   "outputs": [],
   "source": []
  }
 ],
 "metadata": {
  "kernelspec": {
   "display_name": "Python 3",
   "language": "python",
   "name": "python3"
  },
  "language_info": {
   "codemirror_mode": {
    "name": "ipython",
    "version": 3
   },
   "file_extension": ".py",
   "mimetype": "text/x-python",
   "name": "python",
   "nbconvert_exporter": "python",
   "pygments_lexer": "ipython3",
   "version": "3.11.5"
  }
 },
 "nbformat": 4,
 "nbformat_minor": 2
}
