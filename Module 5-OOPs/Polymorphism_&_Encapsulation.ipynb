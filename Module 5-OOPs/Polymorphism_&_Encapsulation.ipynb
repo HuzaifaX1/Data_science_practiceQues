{
 "cells": [
  {
   "cell_type": "code",
   "execution_count": 1,
   "metadata": {},
   "outputs": [],
   "source": [
    "# Polymorphism>> poly means many and morphism means form/states\n",
    "# refers to an object taking several forms depending on the methods/data\n"
   ]
  },
  {
   "cell_type": "code",
   "execution_count": 2,
   "metadata": {},
   "outputs": [
    {
     "data": {
      "text/plain": [
       "7"
      ]
     },
     "execution_count": 2,
     "metadata": {},
     "output_type": "execute_result"
    }
   ],
   "source": [
    "len(\"Huzaifa\")"
   ]
  },
  {
   "cell_type": "code",
   "execution_count": 3,
   "metadata": {},
   "outputs": [
    {
     "data": {
      "text/plain": [
       "5"
      ]
     },
     "execution_count": 3,
     "metadata": {},
     "output_type": "execute_result"
    }
   ],
   "source": [
    "len([1,2,3,4,5])"
   ]
  },
  {
   "cell_type": "code",
   "execution_count": 5,
   "metadata": {},
   "outputs": [
    {
     "data": {
      "text/plain": [
       "2"
      ]
     },
     "execution_count": 5,
     "metadata": {},
     "output_type": "execute_result"
    }
   ],
   "source": [
    "len((1,2))"
   ]
  },
  {
   "cell_type": "code",
   "execution_count": 6,
   "metadata": {},
   "outputs": [],
   "source": [
    "def func(a, b):\n",
    "    return a+b"
   ]
  },
  {
   "cell_type": "code",
   "execution_count": 7,
   "metadata": {},
   "outputs": [
    {
     "data": {
      "text/plain": [
       "5"
      ]
     },
     "execution_count": 7,
     "metadata": {},
     "output_type": "execute_result"
    }
   ],
   "source": [
    "func(2,3) #same + adding two numbers"
   ]
  },
  {
   "cell_type": "code",
   "execution_count": 9,
   "metadata": {},
   "outputs": [
    {
     "data": {
      "text/plain": [
       "'PwSkills'"
      ]
     },
     "execution_count": 9,
     "metadata": {},
     "output_type": "execute_result"
    }
   ],
   "source": [
    "func(\"Pw\", \"Skills\") #same + combining two strings"
   ]
  },
  {
   "cell_type": "code",
   "execution_count": 10,
   "metadata": {},
   "outputs": [
    {
     "data": {
      "text/plain": [
       "[1, 2, 3, 4, 5, 6]"
      ]
     },
     "execution_count": 10,
     "metadata": {},
     "output_type": "execute_result"
    }
   ],
   "source": [
    "func([1,2,3],[4,5,6]) #the list concatenation"
   ]
  },
  {
   "cell_type": "code",
   "execution_count": 14,
   "metadata": {},
   "outputs": [],
   "source": [
    "class techer_lecture:\n",
    "    def lec_info(self):\n",
    "        print(\"This is lec with Teacher perspective\")\n",
    "class student_lecture:\n",
    "    def lec_info(self):\n",
    "        print(\"This is lec with Student perspective\")\n",
    "obj1 = techer_lecture()\n",
    "obj2 = student_lecture()\n",
    "class_obj = [obj1, obj2]"
   ]
  },
  {
   "cell_type": "code",
   "execution_count": 15,
   "metadata": {},
   "outputs": [],
   "source": [
    "def parcer(class_obj):\n",
    "    for i in class_obj:\n",
    "        i.lec_info()\n"
   ]
  },
  {
   "cell_type": "code",
   "execution_count": 16,
   "metadata": {},
   "outputs": [
    {
     "name": "stdout",
     "output_type": "stream",
     "text": [
      "This is lec with Teacher perspective\n",
      "This is lec with Student perspective\n"
     ]
    }
   ],
   "source": [
    "parcer(class_obj)"
   ]
  },
  {
   "cell_type": "code",
   "execution_count": 17,
   "metadata": {},
   "outputs": [],
   "source": [
    "#polymorphism in oops takes place in two ways:\n",
    "# >> Method overloading >> python doesn't support true overloading\n",
    "# >> Method overriding"
   ]
  },
  {
   "cell_type": "code",
   "execution_count": 34,
   "metadata": {},
   "outputs": [],
   "source": [
    "# Method overloading\n",
    "\n",
    "class Student:\n",
    "    def student(self):\n",
    "        print(\"Welcome to pwskills class\")\n",
    "    def student(self, name =\"\"):\n",
    "        print(\"Welcome to the course\", name)\n",
    "    def student(self, name=\"\", course=\"\"):\n",
    "        print(\"Welcome to pwskills class\",name, course)       \n"
   ]
  },
  {
   "cell_type": "code",
   "execution_count": 35,
   "metadata": {},
   "outputs": [],
   "source": [
    "stud = Student()"
   ]
  },
  {
   "cell_type": "code",
   "execution_count": 36,
   "metadata": {},
   "outputs": [
    {
     "name": "stdout",
     "output_type": "stream",
     "text": [
      "Welcome to pwskills class  \n"
     ]
    }
   ],
   "source": [
    "stud.student()"
   ]
  },
  {
   "cell_type": "code",
   "execution_count": 37,
   "metadata": {},
   "outputs": [
    {
     "name": "stdout",
     "output_type": "stream",
     "text": [
      "Welcome to pwskills class huzaifa \n"
     ]
    }
   ],
   "source": [
    "stud.student(\"huzaifa\")"
   ]
  },
  {
   "cell_type": "code",
   "execution_count": 38,
   "metadata": {},
   "outputs": [
    {
     "name": "stdout",
     "output_type": "stream",
     "text": [
      "Welcome to pwskills class Huzaifa DataScience\n"
     ]
    }
   ],
   "source": [
    "stud.student(\"Huzaifa\", \"DataScience\")"
   ]
  },
  {
   "cell_type": "code",
   "execution_count": 40,
   "metadata": {},
   "outputs": [],
   "source": [
    "#method overloading >> student metgod is taking different forms, \n",
    "# the last methods overloads the previous one's in the same class\n",
    "class Student:\n",
    "       def student(self, name=\"\", course=\"\"):\n",
    "              print(\"Welcome to pwskills class\",name, course)"
   ]
  },
  {
   "cell_type": "code",
   "execution_count": 41,
   "metadata": {},
   "outputs": [],
   "source": [
    "yolo = Student()\n"
   ]
  },
  {
   "cell_type": "code",
   "execution_count": 42,
   "metadata": {},
   "outputs": [
    {
     "name": "stdout",
     "output_type": "stream",
     "text": [
      "Welcome to pwskills class  \n"
     ]
    }
   ],
   "source": [
    "yolo.student()"
   ]
  },
  {
   "cell_type": "code",
   "execution_count": 43,
   "metadata": {},
   "outputs": [
    {
     "name": "stdout",
     "output_type": "stream",
     "text": [
      "Welcome to pwskills class Huzzu \n"
     ]
    }
   ],
   "source": [
    "yolo.student(\"Huzzu\")"
   ]
  },
  {
   "cell_type": "code",
   "execution_count": 1,
   "metadata": {},
   "outputs": [],
   "source": [
    "# method overloading happens in the same class"
   ]
  },
  {
   "cell_type": "code",
   "execution_count": 2,
   "metadata": {},
   "outputs": [],
   "source": [
    "# method overriding >> method in parent class and child class with same \n",
    "# signature, the child class method will be executed\n",
    "# ye inheritance ki tarah work krta hai"
   ]
  },
  {
   "cell_type": "code",
   "execution_count": 3,
   "metadata": {},
   "outputs": [],
   "source": [
    "class Animal:\n",
    "    def sound(self):\n",
    "        print(\"Animal Sound\")\n",
    "class Cat(Animal):\n",
    "    def sound(self):\n",
    "        print(\"cat meows\")\n",
    "        "
   ]
  },
  {
   "cell_type": "code",
   "execution_count": 4,
   "metadata": {},
   "outputs": [],
   "source": [
    "anm = Animal()"
   ]
  },
  {
   "cell_type": "code",
   "execution_count": 5,
   "metadata": {},
   "outputs": [
    {
     "name": "stdout",
     "output_type": "stream",
     "text": [
      "Animal Sound\n"
     ]
    }
   ],
   "source": [
    "anm.sound() #animal class"
   ]
  },
  {
   "cell_type": "code",
   "execution_count": 6,
   "metadata": {},
   "outputs": [],
   "source": [
    "cat = Cat()"
   ]
  },
  {
   "cell_type": "code",
   "execution_count": 7,
   "metadata": {},
   "outputs": [
    {
     "name": "stdout",
     "output_type": "stream",
     "text": [
      "cat meows\n"
     ]
    }
   ],
   "source": [
    "cat.sound() #cat class"
   ]
  },
  {
   "cell_type": "code",
   "execution_count": 21,
   "metadata": {},
   "outputs": [],
   "source": [
    "# Encapsulation >> means hiding something\n",
    "# bundling of data and methods of a class\n",
    "# access modifier>> public, private, protected"
   ]
  },
  {
   "cell_type": "code",
   "execution_count": null,
   "metadata": {},
   "outputs": [],
   "source": [
    "# public>> acccesssible from anywhere from outside/inside of class"
   ]
  },
  {
   "cell_type": "code",
   "execution_count": 9,
   "metadata": {},
   "outputs": [],
   "source": [
    "class Student:\n",
    "    def __init__(self, name, degree):\n",
    "        self.name = name\n",
    "        self.degree = degree"
   ]
  },
  {
   "cell_type": "code",
   "execution_count": 11,
   "metadata": {},
   "outputs": [],
   "source": [
    "stud = Student(\"Huz\", \"Btech\")"
   ]
  },
  {
   "cell_type": "code",
   "execution_count": 12,
   "metadata": {},
   "outputs": [
    {
     "data": {
      "text/plain": [
       "'Huz'"
      ]
     },
     "execution_count": 12,
     "metadata": {},
     "output_type": "execute_result"
    }
   ],
   "source": [
    "stud.name"
   ]
  },
  {
   "cell_type": "code",
   "execution_count": 13,
   "metadata": {},
   "outputs": [
    {
     "data": {
      "text/plain": [
       "'Btech'"
      ]
     },
     "execution_count": 13,
     "metadata": {},
     "output_type": "execute_result"
    }
   ],
   "source": [
    "stud.degree"
   ]
  },
  {
   "cell_type": "code",
   "execution_count": 14,
   "metadata": {},
   "outputs": [],
   "source": [
    "stud2 = Student(\"joy\", \"bachelors\")"
   ]
  },
  {
   "cell_type": "code",
   "execution_count": 18,
   "metadata": {},
   "outputs": [
    {
     "data": {
      "text/plain": [
       "'bachelors'"
      ]
     },
     "execution_count": 18,
     "metadata": {},
     "output_type": "execute_result"
    }
   ],
   "source": [
    "stud2.degree"
   ]
  },
  {
   "cell_type": "code",
   "execution_count": 19,
   "metadata": {},
   "outputs": [],
   "source": [
    "stud2.degree = \"phD\""
   ]
  },
  {
   "cell_type": "code",
   "execution_count": 20,
   "metadata": {},
   "outputs": [
    {
     "data": {
      "text/plain": [
       "'phD'"
      ]
     },
     "execution_count": 20,
     "metadata": {},
     "output_type": "execute_result"
    }
   ],
   "source": [
    "stud2.degree"
   ]
  },
  {
   "cell_type": "code",
   "execution_count": 24,
   "metadata": {},
   "outputs": [],
   "source": [
    "# accessing the public data member inside the other method of same class\n",
    "class Student:\n",
    "    def __init__(self, name, degree):\n",
    "        self.name = name\n",
    "        self.degree =  degree\n",
    "\n",
    "    def show(self):\n",
    "        #accessing the private and public data member\n",
    "        print(\"name\", self.name, \"degree\", self.degree)\n"
   ]
  },
  {
   "cell_type": "code",
   "execution_count": 25,
   "metadata": {},
   "outputs": [],
   "source": [
    "hz = Student(\"Huzaifa\",\"Bachelors\")"
   ]
  },
  {
   "cell_type": "code",
   "execution_count": 26,
   "metadata": {},
   "outputs": [
    {
     "name": "stdout",
     "output_type": "stream",
     "text": [
      "name Huzaifa degree Bachelors\n"
     ]
    }
   ],
   "source": [
    "hz.show()"
   ]
  },
  {
   "cell_type": "code",
   "execution_count": 28,
   "metadata": {},
   "outputs": [
    {
     "data": {
      "text/plain": [
       "'Huzaifa'"
      ]
     },
     "execution_count": 28,
     "metadata": {},
     "output_type": "execute_result"
    }
   ],
   "source": [
    "hz.name"
   ]
  },
  {
   "cell_type": "code",
   "execution_count": 29,
   "metadata": {},
   "outputs": [
    {
     "data": {
      "text/plain": [
       "'Bachelors'"
      ]
     },
     "execution_count": 29,
     "metadata": {},
     "output_type": "execute_result"
    }
   ],
   "source": [
    "hz.degree"
   ]
  },
  {
   "cell_type": "code",
   "execution_count": 23,
   "metadata": {},
   "outputs": [],
   "source": [
    "# Private >> the data and method is only accessible within its class, use __ to make private"
   ]
  },
  {
   "cell_type": "code",
   "execution_count": 30,
   "metadata": {},
   "outputs": [],
   "source": [
    "class Student:\n",
    "    def __init__(self, name, degree):\n",
    "        self.name = name\n",
    "        self.__degree =  degree  #private data\n",
    "\n",
    "    def show(self):\n",
    "        #accessing the private and public data member\n",
    "        print(\"name\", self.name, \"degree\", self.__degree)"
   ]
  },
  {
   "cell_type": "code",
   "execution_count": 32,
   "metadata": {},
   "outputs": [],
   "source": [
    "h = Student(\"Huzaifa\", \"Bachelors\")"
   ]
  },
  {
   "cell_type": "code",
   "execution_count": 33,
   "metadata": {},
   "outputs": [
    {
     "data": {
      "text/plain": [
       "'Huzaifa'"
      ]
     },
     "execution_count": 33,
     "metadata": {},
     "output_type": "execute_result"
    }
   ],
   "source": [
    "h.name"
   ]
  },
  {
   "cell_type": "code",
   "execution_count": 34,
   "metadata": {},
   "outputs": [
    {
     "name": "stdout",
     "output_type": "stream",
     "text": [
      "name Huzaifa degree Bachelors\n"
     ]
    }
   ],
   "source": [
    "h.show()"
   ]
  },
  {
   "cell_type": "code",
   "execution_count": 35,
   "metadata": {},
   "outputs": [
    {
     "ename": "AttributeError",
     "evalue": "'Student' object has no attribute 'degree'",
     "output_type": "error",
     "traceback": [
      "\u001b[1;31m---------------------------------------------------------------------------\u001b[0m",
      "\u001b[1;31mAttributeError\u001b[0m                            Traceback (most recent call last)",
      "Cell \u001b[1;32mIn[35], line 1\u001b[0m\n\u001b[1;32m----> 1\u001b[0m \u001b[43mh\u001b[49m\u001b[38;5;241;43m.\u001b[39;49m\u001b[43mdegree\u001b[49m\n",
      "\u001b[1;31mAttributeError\u001b[0m: 'Student' object has no attribute 'degree'"
     ]
    }
   ],
   "source": [
    "h.degree  #it will throw an error as degree is now private data"
   ]
  },
  {
   "cell_type": "code",
   "execution_count": 36,
   "metadata": {},
   "outputs": [
    {
     "ename": "AttributeError",
     "evalue": "'Student' object has no attribute '__degree'",
     "output_type": "error",
     "traceback": [
      "\u001b[1;31m---------------------------------------------------------------------------\u001b[0m",
      "\u001b[1;31mAttributeError\u001b[0m                            Traceback (most recent call last)",
      "Cell \u001b[1;32mIn[36], line 1\u001b[0m\n\u001b[1;32m----> 1\u001b[0m \u001b[43mh\u001b[49m\u001b[38;5;241;43m.\u001b[39;49m\u001b[43m__degree\u001b[49m  \u001b[38;5;66;03m#it will throw an error as degree is now private data\u001b[39;00m\n",
      "\u001b[1;31mAttributeError\u001b[0m: 'Student' object has no attribute '__degree'"
     ]
    }
   ],
   "source": [
    "h.__degree  #it will throw an error as degree is now private data"
   ]
  },
  {
   "cell_type": "code",
   "execution_count": 37,
   "metadata": {},
   "outputs": [
    {
     "data": {
      "text/plain": [
       "'Bachelors'"
      ]
     },
     "execution_count": 37,
     "metadata": {},
     "output_type": "execute_result"
    }
   ],
   "source": [
    "h._Student__degree #this is a way to access private variable using class name"
   ]
  },
  {
   "cell_type": "code",
   "execution_count": 38,
   "metadata": {},
   "outputs": [],
   "source": [
    "# a method private\n",
    "\n",
    "class Student:\n",
    "    def __init__(self, name, degree):\n",
    "        self.name = name\n",
    "        self.__degree =  degree  #private data\n",
    "\n",
    "    def show(self):\n",
    "        #accessing the private and public data member\n",
    "        print(\"name\", self.name, \"degree\", self.__degree)\n",
    "\n",
    "    def __private_method(self):\n",
    "        print(\"This is a private method\")\n"
   ]
  },
  {
   "cell_type": "code",
   "execution_count": 41,
   "metadata": {},
   "outputs": [],
   "source": [
    "obj1 = Student(\"Ajay\", \"Bachelors\")"
   ]
  },
  {
   "cell_type": "code",
   "execution_count": 42,
   "metadata": {},
   "outputs": [
    {
     "ename": "AttributeError",
     "evalue": "'Student' object has no attribute 'private_method'",
     "output_type": "error",
     "traceback": [
      "\u001b[1;31m---------------------------------------------------------------------------\u001b[0m",
      "\u001b[1;31mAttributeError\u001b[0m                            Traceback (most recent call last)",
      "Cell \u001b[1;32mIn[42], line 1\u001b[0m\n\u001b[1;32m----> 1\u001b[0m \u001b[43mobj1\u001b[49m\u001b[38;5;241;43m.\u001b[39;49m\u001b[43mprivate_method\u001b[49m\n",
      "\u001b[1;31mAttributeError\u001b[0m: 'Student' object has no attribute 'private_method'"
     ]
    }
   ],
   "source": [
    "obj1.private_method #error"
   ]
  },
  {
   "cell_type": "code",
   "execution_count": 43,
   "metadata": {},
   "outputs": [
    {
     "ename": "AttributeError",
     "evalue": "'Student' object has no attribute '__private_method'",
     "output_type": "error",
     "traceback": [
      "\u001b[1;31m---------------------------------------------------------------------------\u001b[0m",
      "\u001b[1;31mAttributeError\u001b[0m                            Traceback (most recent call last)",
      "Cell \u001b[1;32mIn[43], line 1\u001b[0m\n\u001b[1;32m----> 1\u001b[0m \u001b[43mobj1\u001b[49m\u001b[38;5;241;43m.\u001b[39;49m\u001b[43m__private_method\u001b[49m \u001b[38;5;66;03m#error\u001b[39;00m\n",
      "\u001b[1;31mAttributeError\u001b[0m: 'Student' object has no attribute '__private_method'"
     ]
    }
   ],
   "source": [
    "obj1.__private_method #error"
   ]
  },
  {
   "cell_type": "code",
   "execution_count": 44,
   "metadata": {},
   "outputs": [
    {
     "name": "stdout",
     "output_type": "stream",
     "text": [
      "This is a private method\n"
     ]
    }
   ],
   "source": [
    "obj1._Student__private_method() #accessing private method using class name"
   ]
  },
  {
   "cell_type": "code",
   "execution_count": null,
   "metadata": {},
   "outputs": [],
   "source": [
    "# way to provide an option to see the private method>> a wrapper\n",
    "\n",
    "class Student:\n",
    "    def __init__(self, name, degree):\n",
    "        self.name = name\n",
    "        self.__degree =  degree  #private data\n",
    "\n",
    "    def show(self):\n",
    "        #accessing the private and public data member\n",
    "        print(\"name\", self.name, \"degree\", self.__degree)\n",
    "\n",
    "    def __private_method(self):\n",
    "        print(\"This is a private method\")\n",
    "    \n",
    "    def access_private_method(self):\n",
    "        self.__private_method()"
   ]
  }
 ],
 "metadata": {
  "kernelspec": {
   "display_name": "Python 3",
   "language": "python",
   "name": "python3"
  },
  "language_info": {
   "codemirror_mode": {
    "name": "ipython",
    "version": 3
   },
   "file_extension": ".py",
   "mimetype": "text/x-python",
   "name": "python",
   "nbconvert_exporter": "python",
   "pygments_lexer": "ipython3",
   "version": "3.11.5"
  }
 },
 "nbformat": 4,
 "nbformat_minor": 2
}
