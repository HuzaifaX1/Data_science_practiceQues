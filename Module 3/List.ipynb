{
 "cells": [
  {
   "cell_type": "code",
   "execution_count": 1,
   "id": "ddb4f3f1",
   "metadata": {},
   "outputs": [],
   "source": [
    "# List are ordered collection of items\n",
    "# []\n",
    "# List are like a shopping bag which can store anything\n",
    "# List are mutable\n",
    "# Slicing of list is possible like a string"
   ]
  },
  {
   "cell_type": "code",
   "execution_count": 2,
   "id": "52f890d0",
   "metadata": {},
   "outputs": [
    {
     "data": {
      "text/plain": [
       "list"
      ]
     },
     "execution_count": 2,
     "metadata": {},
     "output_type": "execute_result"
    }
   ],
   "source": [
    "type([])"
   ]
  },
  {
   "cell_type": "code",
   "execution_count": 23,
   "id": "74fc4307",
   "metadata": {},
   "outputs": [],
   "source": [
    "grocery_lst = [\"Milk\", \"Orange\", 4.5, 3+8j, 12]"
   ]
  },
  {
   "cell_type": "code",
   "execution_count": 5,
   "id": "dbf36031",
   "metadata": {},
   "outputs": [
    {
     "data": {
      "text/plain": [
       "list"
      ]
     },
     "execution_count": 5,
     "metadata": {},
     "output_type": "execute_result"
    }
   ],
   "source": [
    "type(grocery_lst)"
   ]
  },
  {
   "cell_type": "code",
   "execution_count": 14,
   "id": "e5083d14",
   "metadata": {},
   "outputs": [
    {
     "data": {
      "text/plain": [
       "['Milk', 4.5, 12]"
      ]
     },
     "execution_count": 14,
     "metadata": {},
     "output_type": "execute_result"
    }
   ],
   "source": [
    "grocery_lst[0:5:2]"
   ]
  },
  {
   "cell_type": "code",
   "execution_count": 15,
   "id": "e4d5fe42",
   "metadata": {},
   "outputs": [
    {
     "data": {
      "text/plain": [
       "['Orange', 4.5, (3+8j)]"
      ]
     },
     "execution_count": 15,
     "metadata": {},
     "output_type": "execute_result"
    }
   ],
   "source": [
    "grocery_lst[1:-1]"
   ]
  },
  {
   "cell_type": "code",
   "execution_count": 16,
   "id": "88203895",
   "metadata": {},
   "outputs": [
    {
     "data": {
      "text/plain": [
       "['Milk', 'Orange', 4.5, (3+8j)]"
      ]
     },
     "execution_count": 16,
     "metadata": {},
     "output_type": "execute_result"
    }
   ],
   "source": [
    "grocery_lst[:-1]"
   ]
  },
  {
   "cell_type": "code",
   "execution_count": 17,
   "id": "032f4e1d",
   "metadata": {},
   "outputs": [
    {
     "data": {
      "text/plain": [
       "12"
      ]
     },
     "execution_count": 17,
     "metadata": {},
     "output_type": "execute_result"
    }
   ],
   "source": [
    "grocery_lst[-1]"
   ]
  },
  {
   "cell_type": "code",
   "execution_count": 18,
   "id": "a832c57b",
   "metadata": {},
   "outputs": [
    {
     "data": {
      "text/plain": [
       "['Milk', 'Orange', 4.5, (3+8j)]"
      ]
     },
     "execution_count": 18,
     "metadata": {},
     "output_type": "execute_result"
    }
   ],
   "source": [
    "grocery_lst[:-1]"
   ]
  },
  {
   "cell_type": "code",
   "execution_count": 19,
   "id": "e15bf228",
   "metadata": {},
   "outputs": [
    {
     "data": {
      "text/plain": [
       "[]"
      ]
     },
     "execution_count": 19,
     "metadata": {},
     "output_type": "execute_result"
    }
   ],
   "source": [
    "grocery_lst[:0]"
   ]
  },
  {
   "cell_type": "code",
   "execution_count": 20,
   "id": "6464b778",
   "metadata": {},
   "outputs": [
    {
     "data": {
      "text/plain": [
       "['action1', 'action2', 'action3', 'Comedy']"
      ]
     },
     "execution_count": 20,
     "metadata": {},
     "output_type": "execute_result"
    }
   ],
   "source": [
    "movie = [\"action1\", 'action2', 'action3', 'Comedy', 'Thriller']\n",
    "movie[:-1]"
   ]
  },
  {
   "cell_type": "code",
   "execution_count": 21,
   "id": "713ba1ed",
   "metadata": {},
   "outputs": [
    {
     "data": {
      "text/plain": [
       "['action1', 'action2', 'action3', 'Comedy', 'Thriller']"
      ]
     },
     "execution_count": 21,
     "metadata": {},
     "output_type": "execute_result"
    }
   ],
   "source": [
    "movie[0:]"
   ]
  },
  {
   "cell_type": "code",
   "execution_count": 22,
   "id": "18763964",
   "metadata": {},
   "outputs": [
    {
     "data": {
      "text/plain": [
       "['action1', 'action2', 'action3', 'Comedy', 'Thriller']"
      ]
     },
     "execution_count": 22,
     "metadata": {},
     "output_type": "execute_result"
    }
   ],
   "source": [
    "movie[0:5]"
   ]
  },
  {
   "cell_type": "code",
   "execution_count": 23,
   "id": "e529efae",
   "metadata": {},
   "outputs": [
    {
     "data": {
      "text/plain": [
       "['Title', 'Index', 'Chapter1', 'Chapter2', 'Conclusion']"
      ]
     },
     "execution_count": 23,
     "metadata": {},
     "output_type": "execute_result"
    }
   ],
   "source": [
    "Book = [\"Title\", \"Index\", \"Chapter1\", \"Chapter2\", \"Conclusion\"]\n",
    "Book"
   ]
  },
  {
   "cell_type": "code",
   "execution_count": 24,
   "id": "86626b0d",
   "metadata": {},
   "outputs": [
    {
     "data": {
      "text/plain": [
       "'Conclusion'"
      ]
     },
     "execution_count": 24,
     "metadata": {},
     "output_type": "execute_result"
    }
   ],
   "source": [
    "Book[-1]"
   ]
  },
  {
   "cell_type": "code",
   "execution_count": 25,
   "id": "7a088b06",
   "metadata": {},
   "outputs": [
    {
     "data": {
      "text/plain": [
       "'Chapter2'"
      ]
     },
     "execution_count": 25,
     "metadata": {},
     "output_type": "execute_result"
    }
   ],
   "source": [
    "Book[-2]"
   ]
  },
  {
   "cell_type": "code",
   "execution_count": 26,
   "id": "ba6ebb67",
   "metadata": {},
   "outputs": [],
   "source": [
    "lyst = [\"Apple\", \"Orange\", \"Mango\"]"
   ]
  },
  {
   "cell_type": "code",
   "execution_count": 31,
   "id": "7c06b0e0",
   "metadata": {},
   "outputs": [],
   "source": [
    "lyst.append(\"Banana\")"
   ]
  },
  {
   "cell_type": "code",
   "execution_count": 32,
   "id": "9e1dc289",
   "metadata": {},
   "outputs": [
    {
     "data": {
      "text/plain": [
       "['Apple', 'Orange', 'Mango', 'Banana', 'Banana']"
      ]
     },
     "execution_count": 32,
     "metadata": {},
     "output_type": "execute_result"
    }
   ],
   "source": [
    "lyst"
   ]
  },
  {
   "cell_type": "code",
   "execution_count": 34,
   "id": "9cd2606c",
   "metadata": {},
   "outputs": [],
   "source": [
    "# use cases\n",
    "playlist = []\n",
    "playlist.append(\"Big dawg\")\n",
    "playlist.append(\"Maharani\")\n",
    "playlist.append(\"wushang clan\")"
   ]
  },
  {
   "cell_type": "code",
   "execution_count": 35,
   "id": "86afdcff",
   "metadata": {},
   "outputs": [
    {
     "data": {
      "text/plain": [
       "['Big dawg', 'Maharani', 'wushang clan']"
      ]
     },
     "execution_count": 35,
     "metadata": {},
     "output_type": "execute_result"
    }
   ],
   "source": [
    "playlist"
   ]
  },
  {
   "cell_type": "code",
   "execution_count": 36,
   "id": "cf5fc30f",
   "metadata": {},
   "outputs": [],
   "source": [
    "bookshelf = []\n",
    "bookshelf.append(\"book1\")\n",
    "bookshelf.append(\"book2\")"
   ]
  },
  {
   "cell_type": "code",
   "execution_count": 38,
   "id": "ec02c608",
   "metadata": {},
   "outputs": [
    {
     "data": {
      "text/plain": [
       "['book1', 'book2']"
      ]
     },
     "execution_count": 38,
     "metadata": {},
     "output_type": "execute_result"
    }
   ],
   "source": [
    "bookshelf"
   ]
  },
  {
   "cell_type": "code",
   "execution_count": 39,
   "id": "7b2b9063",
   "metadata": {},
   "outputs": [
    {
     "data": {
      "text/plain": [
       "['Apple', 'Orange', 'Mango', 'Banana', 'Banana']"
      ]
     },
     "execution_count": 39,
     "metadata": {},
     "output_type": "execute_result"
    }
   ],
   "source": [
    "lyst"
   ]
  },
  {
   "cell_type": "code",
   "execution_count": 40,
   "id": "670cf4ae",
   "metadata": {},
   "outputs": [],
   "source": [
    "lyst[0] = \"Pomogranade\""
   ]
  },
  {
   "cell_type": "code",
   "execution_count": 41,
   "id": "00ff0baa",
   "metadata": {},
   "outputs": [
    {
     "data": {
      "text/plain": [
       "['Pomogranade', 'Orange', 'Mango', 'Banana', 'Banana']"
      ]
     },
     "execution_count": 41,
     "metadata": {},
     "output_type": "execute_result"
    }
   ],
   "source": [
    "lyst"
   ]
  },
  {
   "cell_type": "code",
   "execution_count": 42,
   "id": "1c7b2e5c",
   "metadata": {},
   "outputs": [],
   "source": [
    "lyst[1] = \"Brinjal\""
   ]
  },
  {
   "cell_type": "code",
   "execution_count": 43,
   "id": "1c06e80c",
   "metadata": {},
   "outputs": [
    {
     "data": {
      "text/plain": [
       "['Pomogranade', 'Brinjal', 'Mango', 'Banana', 'Banana']"
      ]
     },
     "execution_count": 43,
     "metadata": {},
     "output_type": "execute_result"
    }
   ],
   "source": [
    "lyst"
   ]
  },
  {
   "cell_type": "code",
   "execution_count": 57,
   "id": "b94a2b86",
   "metadata": {},
   "outputs": [],
   "source": [
    "lyst = [\"Apple\", \"Orange\", \"Mango\"]"
   ]
  },
  {
   "cell_type": "code",
   "execution_count": 58,
   "id": "922061c9",
   "metadata": {},
   "outputs": [
    {
     "data": {
      "text/plain": [
       "['Apple', 'Orange', 'Mango']"
      ]
     },
     "execution_count": 58,
     "metadata": {},
     "output_type": "execute_result"
    }
   ],
   "source": [
    "lyst"
   ]
  },
  {
   "cell_type": "code",
   "execution_count": 59,
   "id": "b61516a5",
   "metadata": {},
   "outputs": [],
   "source": [
    "lyst.append(\"Banana\")"
   ]
  },
  {
   "cell_type": "code",
   "execution_count": 64,
   "id": "07cf815a",
   "metadata": {},
   "outputs": [
    {
     "data": {
      "text/plain": [
       "['Apple', 'Orange', 'Mango', 'Banana', 'Grapes']"
      ]
     },
     "execution_count": 64,
     "metadata": {},
     "output_type": "execute_result"
    }
   ],
   "source": [
    "lyst"
   ]
  },
  {
   "cell_type": "code",
   "execution_count": 65,
   "id": "5aba54bd",
   "metadata": {},
   "outputs": [],
   "source": [
    "lyst.insert(2,\"Pineapple\")  #Insert object before that index which I will mention in a bracket."
   ]
  },
  {
   "cell_type": "code",
   "execution_count": 66,
   "id": "4166bb43",
   "metadata": {},
   "outputs": [
    {
     "data": {
      "text/plain": [
       "['Apple', 'Orange', 'Pineapple', 'Mango', 'Banana', 'Grapes']"
      ]
     },
     "execution_count": 66,
     "metadata": {},
     "output_type": "execute_result"
    }
   ],
   "source": [
    "lyst"
   ]
  },
  {
   "cell_type": "code",
   "execution_count": 67,
   "id": "a229ed23",
   "metadata": {},
   "outputs": [],
   "source": [
    "# use case\n",
    "bus_seat = ['Huzaifa', 'rohan', 'gaurav']\n",
    "bus_seat.insert(2,'Khushi')"
   ]
  },
  {
   "cell_type": "code",
   "execution_count": 68,
   "id": "c2b71b54",
   "metadata": {},
   "outputs": [
    {
     "data": {
      "text/plain": [
       "['Huzaifa', 'rohan', 'Khushi', 'gaurav']"
      ]
     },
     "execution_count": 68,
     "metadata": {},
     "output_type": "execute_result"
    }
   ],
   "source": [
    "bus_seat"
   ]
  },
  {
   "cell_type": "code",
   "execution_count": 69,
   "id": "3ea4cb67",
   "metadata": {},
   "outputs": [],
   "source": [
    "# extend >> use to append from anoter list\n",
    "my_list = ['Apple', 'Banana', 'Orange']\n",
    "brothers_list = ['Tomato', 'Brinjal']\n",
    "my_list.extend(brothers_list) #will extend the first list "
   ]
  },
  {
   "cell_type": "code",
   "execution_count": 70,
   "id": "84ad4f74",
   "metadata": {},
   "outputs": [
    {
     "data": {
      "text/plain": [
       "['Apple', 'Banana', 'Orange', 'Tomato', 'Brinjal']"
      ]
     },
     "execution_count": 70,
     "metadata": {},
     "output_type": "execute_result"
    }
   ],
   "source": [
    "my_list"
   ]
  },
  {
   "cell_type": "code",
   "execution_count": 71,
   "id": "f85a1918",
   "metadata": {},
   "outputs": [],
   "source": [
    "my_list = ['Apple', 'Banana', 'Orange']\n",
    "brothers_list = ['Tomato', 'Brinjal']\n",
    "brothers_list.extend(my_list)"
   ]
  },
  {
   "cell_type": "code",
   "execution_count": 72,
   "id": "d43cf66c",
   "metadata": {},
   "outputs": [
    {
     "data": {
      "text/plain": [
       "['Tomato', 'Brinjal', 'Apple', 'Banana', 'Orange']"
      ]
     },
     "execution_count": 72,
     "metadata": {},
     "output_type": "execute_result"
    }
   ],
   "source": [
    "brothers_list"
   ]
  },
  {
   "cell_type": "code",
   "execution_count": 73,
   "id": "e84c6552",
   "metadata": {},
   "outputs": [
    {
     "data": {
      "text/plain": [
       "['Apple', 'Banana', 'Orange', 'Tomato', 'Brinjal']"
      ]
     },
     "execution_count": 73,
     "metadata": {},
     "output_type": "execute_result"
    }
   ],
   "source": [
    "# Concatination\n",
    "my_list = ['Apple', 'Banana', 'Orange']\n",
    "brothers_list = ['Tomato', 'Brinjal']\n",
    "my_list + brothers_list  # will create a new list"
   ]
  },
  {
   "cell_type": "code",
   "execution_count": 74,
   "id": "7e277f2f",
   "metadata": {},
   "outputs": [
    {
     "data": {
      "text/plain": [
       "'*****'"
      ]
     },
     "execution_count": 74,
     "metadata": {},
     "output_type": "execute_result"
    }
   ],
   "source": [
    "# Repeatation Operator\n",
    "\"*\" * 5"
   ]
  },
  {
   "cell_type": "code",
   "execution_count": 75,
   "id": "f52b86c6",
   "metadata": {},
   "outputs": [
    {
     "data": {
      "text/plain": [
       "'----------'"
      ]
     },
     "execution_count": 75,
     "metadata": {},
     "output_type": "execute_result"
    }
   ],
   "source": [
    "\"-\" * 10"
   ]
  },
  {
   "cell_type": "code",
   "execution_count": 76,
   "id": "2aa77a82",
   "metadata": {},
   "outputs": [
    {
     "data": {
      "text/plain": [
       "[0, 0, 0, 0, 0, 0, 0, 0, 0, 0, 0, 0, 0, 0, 0]"
      ]
     },
     "execution_count": 76,
     "metadata": {},
     "output_type": "execute_result"
    }
   ],
   "source": [
    "[0] * 15"
   ]
  },
  {
   "cell_type": "code",
   "execution_count": 77,
   "id": "4c724cb1",
   "metadata": {},
   "outputs": [
    {
     "data": {
      "text/plain": [
       "[[1, 2, 3], [1, 2, 3], [1, 2, 3], [1, 2, 3], [1, 2, 3]]"
      ]
     },
     "execution_count": 77,
     "metadata": {},
     "output_type": "execute_result"
    }
   ],
   "source": [
    "[[1, 2, 3]] * 5"
   ]
  },
  {
   "cell_type": "code",
   "execution_count": 78,
   "id": "acd29c7c",
   "metadata": {},
   "outputs": [
    {
     "data": {
      "text/plain": [
       "[1, 2, 3, 1, 2, 3, 1, 2, 3]"
      ]
     },
     "execution_count": 78,
     "metadata": {},
     "output_type": "execute_result"
    }
   ],
   "source": [
    "[1, 2, 3] * 3"
   ]
  },
  {
   "cell_type": "code",
   "execution_count": 5,
   "id": "c89e99cc",
   "metadata": {},
   "outputs": [
    {
     "data": {
      "text/plain": [
       "[0, 1, 2, 3, 4, 5, 6, 0, 1, 2, 3, 4, 5, 6, 0, 1, 2, 3, 4, 5, 6]"
      ]
     },
     "execution_count": 5,
     "metadata": {},
     "output_type": "execute_result"
    }
   ],
   "source": [
    "list(range(7)) *3"
   ]
  },
  {
   "cell_type": "code",
   "execution_count": 6,
   "id": "93058738",
   "metadata": {},
   "outputs": [
    {
     "name": "stdout",
     "output_type": "stream",
     "text": [
      "Your class is tomorrow\n",
      "Your class is tomorrow\n",
      "Your class is tomorrow\n",
      "\n"
     ]
    }
   ],
   "source": [
    "msg = \"Your class is tomorrow\\n\"\n",
    "print(msg*3)"
   ]
  },
  {
   "cell_type": "code",
   "execution_count": 7,
   "id": "79cf34ee",
   "metadata": {},
   "outputs": [],
   "source": [
    "# use of \"in and not in\"\n",
    "grocery_list = ['mango', 'banana', 'apple', 23, 1.4, 3+4j]\n"
   ]
  },
  {
   "cell_type": "code",
   "execution_count": 8,
   "id": "6d8ff4d3",
   "metadata": {},
   "outputs": [
    {
     "data": {
      "text/plain": [
       "False"
      ]
     },
     "execution_count": 8,
     "metadata": {},
     "output_type": "execute_result"
    }
   ],
   "source": [
    "\"tomato\" in grocery_list"
   ]
  },
  {
   "cell_type": "code",
   "execution_count": 10,
   "id": "1bc8870c",
   "metadata": {},
   "outputs": [
    {
     "data": {
      "text/plain": [
       "False"
      ]
     },
     "execution_count": 10,
     "metadata": {},
     "output_type": "execute_result"
    }
   ],
   "source": [
    "\"mango\" not in  grocery_list"
   ]
  },
  {
   "cell_type": "raw",
   "id": "8c8e1316",
   "metadata": {},
   "source": [
    "Deep copy and Shallow copy"
   ]
  },
  {
   "cell_type": "code",
   "execution_count": 45,
   "id": "c4622efc",
   "metadata": {},
   "outputs": [
    {
     "data": {
      "text/plain": [
       "['milk', 'banana', 'apple', 23, 1.4, (3+4j)]"
      ]
     },
     "execution_count": 45,
     "metadata": {},
     "output_type": "execute_result"
    }
   ],
   "source": [
    "# Shallow copy >> value will change with change in other list\n",
    "grocery_list = ['milk', 'banana', 'apple', 23, 1.4, (3+4j)]\n",
    "grocery_list"
   ]
  },
  {
   "cell_type": "code",
   "execution_count": 46,
   "id": "ec6a336e",
   "metadata": {},
   "outputs": [],
   "source": [
    "a = grocery_list # This is SHALLOW COPY"
   ]
  },
  {
   "cell_type": "code",
   "execution_count": 47,
   "id": "08201a23",
   "metadata": {},
   "outputs": [
    {
     "data": {
      "text/plain": [
       "['milk', 'banana', 'apple', 23, 1.4, (3+4j)]"
      ]
     },
     "execution_count": 47,
     "metadata": {},
     "output_type": "execute_result"
    }
   ],
   "source": [
    "a"
   ]
  },
  {
   "cell_type": "code",
   "execution_count": 48,
   "id": "759396d4",
   "metadata": {},
   "outputs": [],
   "source": [
    "a[0] = \"potato\""
   ]
  },
  {
   "cell_type": "code",
   "execution_count": 38,
   "id": "1a9f12a8",
   "metadata": {},
   "outputs": [
    {
     "data": {
      "text/plain": [
       "['potato', 'banana', 'apple', 23, 1.4, (3+4j)]"
      ]
     },
     "execution_count": 38,
     "metadata": {},
     "output_type": "execute_result"
    }
   ],
   "source": [
    "a"
   ]
  },
  {
   "cell_type": "raw",
   "id": "e9369001",
   "metadata": {},
   "source": [
    "DEEP COPY >> It will not change the value in another list >> .copy()"
   ]
  },
  {
   "cell_type": "code",
   "execution_count": 49,
   "id": "ed60365d",
   "metadata": {},
   "outputs": [],
   "source": [
    "b = grocery_list.copy() #deep copy"
   ]
  },
  {
   "cell_type": "code",
   "execution_count": 50,
   "id": "a2120c4a",
   "metadata": {},
   "outputs": [
    {
     "data": {
      "text/plain": [
       "['potato', 'banana', 'apple', 23, 1.4, (3+4j)]"
      ]
     },
     "execution_count": 50,
     "metadata": {},
     "output_type": "execute_result"
    }
   ],
   "source": [
    "b"
   ]
  },
  {
   "cell_type": "code",
   "execution_count": 51,
   "id": "127f7e3c",
   "metadata": {},
   "outputs": [],
   "source": [
    "b[0] = \"Milk\""
   ]
  },
  {
   "cell_type": "code",
   "execution_count": 52,
   "id": "1002163f",
   "metadata": {},
   "outputs": [
    {
     "data": {
      "text/plain": [
       "['Milk', 'banana', 'apple', 23, 1.4, (3+4j)]"
      ]
     },
     "execution_count": 52,
     "metadata": {},
     "output_type": "execute_result"
    }
   ],
   "source": [
    "b"
   ]
  },
  {
   "cell_type": "code",
   "execution_count": 53,
   "id": "776d3723",
   "metadata": {},
   "outputs": [
    {
     "data": {
      "text/plain": [
       "['potato', 'banana', 'apple', 23, 1.4, (3+4j)]"
      ]
     },
     "execution_count": 53,
     "metadata": {},
     "output_type": "execute_result"
    }
   ],
   "source": [
    "grocery_list"
   ]
  },
  {
   "cell_type": "code",
   "execution_count": 69,
   "id": "f563fa5b",
   "metadata": {},
   "outputs": [],
   "source": [
    "# Sorting list\n",
    "book_list = [\"Data structure\", \"Algorithm\", \"Webdev\", \"Algorithm\"]"
   ]
  },
  {
   "cell_type": "code",
   "execution_count": 70,
   "id": "09872cb0",
   "metadata": {},
   "outputs": [
    {
     "data": {
      "text/plain": [
       "['Algorithm', 'Algorithm', 'Data structure', 'Webdev']"
      ]
     },
     "execution_count": 70,
     "metadata": {},
     "output_type": "execute_result"
    }
   ],
   "source": [
    "sorted(book_list)"
   ]
  },
  {
   "cell_type": "code",
   "execution_count": 71,
   "id": "c443c68b",
   "metadata": {},
   "outputs": [
    {
     "data": {
      "text/plain": [
       "1"
      ]
     },
     "execution_count": 71,
     "metadata": {},
     "output_type": "execute_result"
    }
   ],
   "source": [
    "book_list.index(\"Algorithm\")"
   ]
  },
  {
   "cell_type": "code",
   "execution_count": 72,
   "id": "a9420e67",
   "metadata": {},
   "outputs": [
    {
     "data": {
      "text/plain": [
       "2"
      ]
     },
     "execution_count": 72,
     "metadata": {},
     "output_type": "execute_result"
    }
   ],
   "source": [
    "book_list.index(\"Webdev\")"
   ]
  },
  {
   "cell_type": "code",
   "execution_count": 73,
   "id": "ee8eccaf",
   "metadata": {},
   "outputs": [
    {
     "data": {
      "text/plain": [
       "4"
      ]
     },
     "execution_count": 73,
     "metadata": {},
     "output_type": "execute_result"
    }
   ],
   "source": [
    "len(book_list) #it gives no of element in a book_list"
   ]
  },
  {
   "cell_type": "code",
   "execution_count": 74,
   "id": "dbfe7ad4",
   "metadata": {},
   "outputs": [
    {
     "data": {
      "text/plain": [
       "2"
      ]
     },
     "execution_count": 74,
     "metadata": {},
     "output_type": "execute_result"
    }
   ],
   "source": [
    "book_list.count(\"Algorithm\") #>> count give count of the specific element in a list means kitni bar element list me repeat hua h"
   ]
  },
  {
   "cell_type": "code",
   "execution_count": 75,
   "id": "bb0ee2e5",
   "metadata": {},
   "outputs": [],
   "source": [
    "book_list.remove(\"Data structure\")"
   ]
  },
  {
   "cell_type": "code",
   "execution_count": 76,
   "id": "9f27c52d",
   "metadata": {},
   "outputs": [
    {
     "data": {
      "text/plain": [
       "['Algorithm', 'Webdev', 'Algorithm']"
      ]
     },
     "execution_count": 76,
     "metadata": {},
     "output_type": "execute_result"
    }
   ],
   "source": [
    "book_list"
   ]
  },
  {
   "cell_type": "code",
   "execution_count": 77,
   "id": "4bf10b7e",
   "metadata": {},
   "outputs": [],
   "source": [
    "book_list.remove(\"Algorithm\")"
   ]
  },
  {
   "cell_type": "code",
   "execution_count": 78,
   "id": "2a0c8833",
   "metadata": {},
   "outputs": [
    {
     "data": {
      "text/plain": [
       "['Webdev', 'Algorithm']"
      ]
     },
     "execution_count": 78,
     "metadata": {},
     "output_type": "execute_result"
    }
   ],
   "source": [
    "book_list"
   ]
  },
  {
   "cell_type": "code",
   "execution_count": 80,
   "id": "2ed44804",
   "metadata": {},
   "outputs": [],
   "source": [
    "book_list.append(\"Algorithm\")"
   ]
  },
  {
   "cell_type": "code",
   "execution_count": 81,
   "id": "d3337fcf",
   "metadata": {},
   "outputs": [
    {
     "data": {
      "text/plain": [
       "['Webdev', 'Algorithm', 'Algorithm']"
      ]
     },
     "execution_count": 81,
     "metadata": {},
     "output_type": "execute_result"
    }
   ],
   "source": [
    "book_list"
   ]
  },
  {
   "cell_type": "code",
   "execution_count": 83,
   "id": "18e0e2c4",
   "metadata": {},
   "outputs": [],
   "source": [
    "book_list.sort()"
   ]
  },
  {
   "cell_type": "code",
   "execution_count": 84,
   "id": "0cbeb1ce",
   "metadata": {},
   "outputs": [
    {
     "data": {
      "text/plain": [
       "['Algorithm', 'Algorithm', 'Webdev']"
      ]
     },
     "execution_count": 84,
     "metadata": {},
     "output_type": "execute_result"
    }
   ],
   "source": [
    "book_list"
   ]
  },
  {
   "cell_type": "code",
   "execution_count": 85,
   "id": "93f503b7",
   "metadata": {},
   "outputs": [],
   "source": [
    "del book_list #del will deletes the variable/list"
   ]
  },
  {
   "cell_type": "code",
   "execution_count": 86,
   "id": "cdda023f",
   "metadata": {},
   "outputs": [
    {
     "ename": "NameError",
     "evalue": "name 'book_list' is not defined",
     "output_type": "error",
     "traceback": [
      "\u001b[1;31m---------------------------------------------------------------------------\u001b[0m",
      "\u001b[1;31mNameError\u001b[0m                                 Traceback (most recent call last)",
      "Cell \u001b[1;32mIn[86], line 1\u001b[0m\n\u001b[1;32m----> 1\u001b[0m \u001b[43mbook_list\u001b[49m\n",
      "\u001b[1;31mNameError\u001b[0m: name 'book_list' is not defined"
     ]
    }
   ],
   "source": [
    "book_list"
   ]
  },
  {
   "cell_type": "code",
   "execution_count": 87,
   "id": "0a0eef3a",
   "metadata": {},
   "outputs": [],
   "source": [
    "book_list = [\"Data structure\", \"Algorithm\", \"Webdev\", \"Algorithm\"]"
   ]
  },
  {
   "cell_type": "code",
   "execution_count": 88,
   "id": "f9eae396",
   "metadata": {},
   "outputs": [],
   "source": [
    "book_list.clear() # it will delete all elem which is inside the variable/list, but variable not be deleted"
   ]
  },
  {
   "cell_type": "code",
   "execution_count": 89,
   "id": "a234bdd8",
   "metadata": {},
   "outputs": [
    {
     "data": {
      "text/plain": [
       "[]"
      ]
     },
     "execution_count": 89,
     "metadata": {},
     "output_type": "execute_result"
    }
   ],
   "source": [
    "book_list"
   ]
  },
  {
   "cell_type": "code",
   "execution_count": 96,
   "id": "4740b013",
   "metadata": {},
   "outputs": [],
   "source": [
    "book_list = [\"Data structure\", \"Algorithm\", \"Webdev\", \"Algorithm\"]"
   ]
  },
  {
   "cell_type": "code",
   "execution_count": 97,
   "id": "a8139e30",
   "metadata": {},
   "outputs": [
    {
     "data": {
      "text/plain": [
       "'Algorithm'"
      ]
     },
     "execution_count": 97,
     "metadata": {},
     "output_type": "execute_result"
    }
   ],
   "source": [
    "book_list.pop() #remove the last elem by default, but if u write index then it remove that particular index as well"
   ]
  },
  {
   "cell_type": "code",
   "execution_count": 98,
   "id": "eddd84e1",
   "metadata": {},
   "outputs": [
    {
     "data": {
      "text/plain": [
       "['Data structure', 'Algorithm', 'Webdev']"
      ]
     },
     "execution_count": 98,
     "metadata": {},
     "output_type": "execute_result"
    }
   ],
   "source": [
    "book_list"
   ]
  },
  {
   "cell_type": "raw",
   "id": "c090f0d6",
   "metadata": {},
   "source": [
    "List Comprehension >> concise code\n",
    "u can also done this in for loop but this is a concise way to write code"
   ]
  },
  {
   "cell_type": "code",
   "execution_count": 105,
   "id": "62fd4514",
   "metadata": {},
   "outputs": [],
   "source": [
    "prices = [10, 20, 30, 40, 50]\n",
    "double_price = []\n",
    "for i in price:\n",
    "    double_price.append(i*2)"
   ]
  },
  {
   "cell_type": "code",
   "execution_count": 106,
   "id": "8824c805",
   "metadata": {},
   "outputs": [
    {
     "data": {
      "text/plain": [
       "[20, 40, 60, 80, 100]"
      ]
     },
     "execution_count": 106,
     "metadata": {},
     "output_type": "execute_result"
    }
   ],
   "source": [
    "double_price"
   ]
  },
  {
   "cell_type": "code",
   "execution_count": 108,
   "id": "359d6d7a",
   "metadata": {},
   "outputs": [
    {
     "data": {
      "text/plain": [
       "[20, 40, 60, 80, 100]"
      ]
     },
     "execution_count": 108,
     "metadata": {},
     "output_type": "execute_result"
    }
   ],
   "source": [
    "# run same logic in one line of code\n",
    "[price * 2 for price in prices]"
   ]
  },
  {
   "cell_type": "code",
   "execution_count": 109,
   "id": "3889dd71",
   "metadata": {},
   "outputs": [],
   "source": [
    "double_price = [price * 2 for price in prices]"
   ]
  },
  {
   "cell_type": "code",
   "execution_count": 110,
   "id": "1d66e44e",
   "metadata": {},
   "outputs": [
    {
     "data": {
      "text/plain": [
       "[20, 40, 60, 80, 100]"
      ]
     },
     "execution_count": 110,
     "metadata": {},
     "output_type": "execute_result"
    }
   ],
   "source": [
    "double_price"
   ]
  },
  {
   "cell_type": "code",
   "execution_count": 114,
   "id": "612d1da8",
   "metadata": {},
   "outputs": [
    {
     "data": {
      "text/plain": [
       "['Huzaifa', 'Ajay', 'Vijay']"
      ]
     },
     "execution_count": 114,
     "metadata": {},
     "output_type": "execute_result"
    }
   ],
   "source": [
    "names = [\"huzaifa\", \"ajay\", \"vijay\"]\n",
    "[i.capitalize() for i in names]"
   ]
  },
  {
   "cell_type": "code",
   "execution_count": 115,
   "id": "f2d21139",
   "metadata": {},
   "outputs": [
    {
     "data": {
      "text/plain": [
       "[1, 4, 9, 16, 25]"
      ]
     },
     "execution_count": 115,
     "metadata": {},
     "output_type": "execute_result"
    }
   ],
   "source": [
    "# use case\n",
    "number = [1, 2, 3, 4, 5]\n",
    "[i**2 for i in number]"
   ]
  },
  {
   "cell_type": "code",
   "execution_count": 119,
   "id": "6a356b85",
   "metadata": {},
   "outputs": [
    {
     "data": {
      "text/plain": [
       "['doc1', 'csv']"
      ]
     },
     "execution_count": 119,
     "metadata": {},
     "output_type": "execute_result"
    }
   ],
   "source": [
    "str1 = \"doc1.csv\"\n",
    "str1.split(\".\")"
   ]
  },
  {
   "cell_type": "code",
   "execution_count": 120,
   "id": "dca24892",
   "metadata": {},
   "outputs": [
    {
     "data": {
      "text/plain": [
       "'csv'"
      ]
     },
     "execution_count": 120,
     "metadata": {},
     "output_type": "execute_result"
    }
   ],
   "source": [
    "str1.split(\".\")[-1]"
   ]
  },
  {
   "cell_type": "code",
   "execution_count": 121,
   "id": "0f24ef81",
   "metadata": {},
   "outputs": [
    {
     "data": {
      "text/plain": [
       "['pdf', 'ppt', 'csv', 'py']"
      ]
     },
     "execution_count": 121,
     "metadata": {},
     "output_type": "execute_result"
    }
   ],
   "source": [
    "files = ['doc1.pdf', 'doc2.ppt', 'doc3.csv', 'doc4.py']\n",
    "[file.split(\".\")[-1] for file in files]"
   ]
  },
  {
   "cell_type": "code",
   "execution_count": 123,
   "id": "79357cbd",
   "metadata": {},
   "outputs": [
    {
     "data": {
      "text/plain": [
       "['Hz@yahoo.com', 'jk@yahoo.com']"
      ]
     },
     "execution_count": 123,
     "metadata": {},
     "output_type": "execute_result"
    }
   ],
   "source": [
    "# Conditional list comprehensive\n",
    "email_address = ['mj@gmail.com', 'Hz@yahoo.com', 'rj@kmclu.com', 'jk@yahoo.com']\n",
    "[email for email in email_address if email.endswith('@yahoo.com')]"
   ]
  },
  {
   "cell_type": "code",
   "execution_count": 124,
   "id": "37ddf4b4",
   "metadata": {},
   "outputs": [],
   "source": [
    "# Nested list comprehension"
   ]
  },
  {
   "cell_type": "code",
   "execution_count": 126,
   "id": "044641b4",
   "metadata": {},
   "outputs": [
    {
     "data": {
      "text/plain": [
       "[[1, 4], [1, 5], [1, 6], [2, 4], [2, 5], [2, 6], [3, 4], [3, 5], [3, 6]]"
      ]
     },
     "execution_count": 126,
     "metadata": {},
     "output_type": "execute_result"
    }
   ],
   "source": [
    "pairs = []\n",
    "for x in [1, 2, 3]:\n",
    "    for y in [4, 5, 6]:\n",
    "        pairs.append([x,y])\n",
    "pairs       "
   ]
  },
  {
   "cell_type": "code",
   "execution_count": 128,
   "id": "5e9d686d",
   "metadata": {},
   "outputs": [
    {
     "data": {
      "text/plain": [
       "[[1, 4], [1, 5], [1, 6], [2, 4], [2, 5], [2, 6], [3, 4], [3, 5], [3, 6]]"
      ]
     },
     "execution_count": 128,
     "metadata": {},
     "output_type": "execute_result"
    }
   ],
   "source": [
    "[[x,y] for x in [1, 2, 3] for y in [4, 5, 6]] #comprehension"
   ]
  },
  {
   "cell_type": "code",
   "execution_count": 129,
   "id": "b9c64cdf",
   "metadata": {},
   "outputs": [],
   "source": [
    "# List as stack and queue (optional)>> not imp for interview"
   ]
  },
  {
   "cell_type": "code",
   "execution_count": 130,
   "id": "0a83d845",
   "metadata": {},
   "outputs": [],
   "source": [
    "# stack >>LIFO principles (Last In First Out) >> The last element added to the stack will be the first one to be removed\n",
    "# only one end\n",
    "# push and pop"
   ]
  },
  {
   "cell_type": "code",
   "execution_count": 131,
   "id": "4f1a7ad5",
   "metadata": {},
   "outputs": [],
   "source": [
    "stack_of_plates = []\n",
    "stack_of_plates.append('plate1')\n",
    "stack_of_plates.append('plate2')\n",
    "stack_of_plates.append('plate3')\n",
    "stack_of_plates.append('plate4')"
   ]
  },
  {
   "cell_type": "code",
   "execution_count": 132,
   "id": "de186ae8",
   "metadata": {},
   "outputs": [
    {
     "data": {
      "text/plain": [
       "['plate1', 'plate2', 'plate3', 'plate4']"
      ]
     },
     "execution_count": 132,
     "metadata": {},
     "output_type": "execute_result"
    }
   ],
   "source": [
    "stack_of_plates"
   ]
  },
  {
   "cell_type": "code",
   "execution_count": 133,
   "id": "8a056359",
   "metadata": {},
   "outputs": [
    {
     "data": {
      "text/plain": [
       "'plate4'"
      ]
     },
     "execution_count": 133,
     "metadata": {},
     "output_type": "execute_result"
    }
   ],
   "source": [
    "stack_of_plates.pop() #last in first out>> plate 4 last me rakha gaya sbse upar but pehle nikala jayega"
   ]
  },
  {
   "cell_type": "code",
   "execution_count": 134,
   "id": "f8ed92bf",
   "metadata": {},
   "outputs": [
    {
     "data": {
      "text/plain": [
       "['plate1', 'plate2', 'plate3']"
      ]
     },
     "execution_count": 134,
     "metadata": {},
     "output_type": "execute_result"
    }
   ],
   "source": [
    "stack_of_plates"
   ]
  },
  {
   "cell_type": "code",
   "execution_count": 135,
   "id": "1263c873",
   "metadata": {},
   "outputs": [],
   "source": [
    "# Use case\n",
    "browsing_history = []\n",
    "browsing_history.append(\"home_page\")\n",
    "browsing_history.append(\"about us\")\n",
    "browsing_history.append(\"contact\")"
   ]
  },
  {
   "cell_type": "code",
   "execution_count": 136,
   "id": "5d1e4d49",
   "metadata": {},
   "outputs": [
    {
     "data": {
      "text/plain": [
       "['home_page', 'about us', 'contact']"
      ]
     },
     "execution_count": 136,
     "metadata": {},
     "output_type": "execute_result"
    }
   ],
   "source": [
    "browsing_history"
   ]
  },
  {
   "cell_type": "code",
   "execution_count": 137,
   "id": "cac41047",
   "metadata": {},
   "outputs": [
    {
     "data": {
      "text/plain": [
       "'contact'"
      ]
     },
     "execution_count": 137,
     "metadata": {},
     "output_type": "execute_result"
    }
   ],
   "source": [
    "browsing_history.pop()"
   ]
  },
  {
   "cell_type": "code",
   "execution_count": 138,
   "id": "0a1d1b0c",
   "metadata": {},
   "outputs": [
    {
     "data": {
      "text/plain": [
       "['home_page', 'about us']"
      ]
     },
     "execution_count": 138,
     "metadata": {},
     "output_type": "execute_result"
    }
   ],
   "source": [
    "browsing_history"
   ]
  },
  {
   "cell_type": "code",
   "execution_count": 139,
   "id": "db91ef57",
   "metadata": {},
   "outputs": [],
   "source": [
    "# Queue >>list as a queue\n",
    "# FIFO (First In First Out) >>It works in orderly sequential manner\n",
    "# Two ends >> enqueue and dequeue"
   ]
  },
  {
   "cell_type": "code",
   "execution_count": 140,
   "id": "38dab15c",
   "metadata": {},
   "outputs": [],
   "source": [
    "from collections import deque\n",
    "#library is a collection of python code(module)\n",
    "#collection is a library and deque is module"
   ]
  },
  {
   "cell_type": "code",
   "execution_count": 147,
   "id": "4dc528b1",
   "metadata": {},
   "outputs": [],
   "source": [
    "checkout = deque()\n",
    "checkout.append('customer1')\n",
    "checkout.append('customer2')\n",
    "checkout.append('customer3')\n",
    "checkout.append('customer5')\n",
    "checkout.append('customer5')"
   ]
  },
  {
   "cell_type": "code",
   "execution_count": 148,
   "id": "92857632",
   "metadata": {},
   "outputs": [
    {
     "data": {
      "text/plain": [
       "deque(['customer1', 'customer2', 'customer3', 'customer5', 'customer5'])"
      ]
     },
     "execution_count": 148,
     "metadata": {},
     "output_type": "execute_result"
    }
   ],
   "source": [
    "checkout"
   ]
  },
  {
   "cell_type": "code",
   "execution_count": 149,
   "id": "fbafe10e",
   "metadata": {},
   "outputs": [
    {
     "name": "stdout",
     "output_type": "stream",
     "text": [
      "serving customer1\n",
      "serving customer2\n",
      "serving customer3\n",
      "serving customer5\n",
      "serving customer5\n"
     ]
    }
   ],
   "source": [
    "while checkout:\n",
    "    customer = checkout.popleft()\n",
    "    print(\"serving\", customer)"
   ]
  },
  {
   "cell_type": "code",
   "execution_count": 151,
   "id": "6d7efed7",
   "metadata": {},
   "outputs": [
    {
     "name": "stdout",
     "output_type": "stream",
     "text": [
      "printing Print the 1 pdf\n",
      "printing Print the 2 pdf\n",
      "printing Print the 3 pdf\n",
      "printing Print the 4 pdf\n",
      "printing Print the 5 pdf\n"
     ]
    }
   ],
   "source": [
    "from queue import Queue\n",
    "print_queue = Queue()\n",
    "print_queue.put(\"Print the 1 pdf\") #put is similar to push\n",
    "print_queue.put(\"Print the 2 pdf\")\n",
    "print_queue.put(\"Print the 3 pdf\")\n",
    "print_queue.put(\"Print the 4 pdf\")\n",
    "print_queue.put(\"Print the 5 pdf\")\n",
    "\n",
    "while not print_queue.empty():\n",
    "    print_job = print_queue.get() #get is similar to pop\n",
    "    print(\"printing\", print_job)"
   ]
  },
  {
   "cell_type": "code",
   "execution_count": null,
   "id": "b10842ad",
   "metadata": {},
   "outputs": [],
   "source": []
  }
 ],
 "metadata": {
  "kernelspec": {
   "display_name": "Python 3 (ipykernel)",
   "language": "python",
   "name": "python3"
  },
  "language_info": {
   "codemirror_mode": {
    "name": "ipython",
    "version": 3
   },
   "file_extension": ".py",
   "mimetype": "text/x-python",
   "name": "python",
   "nbconvert_exporter": "python",
   "pygments_lexer": "ipython3",
   "version": "3.11.5"
  }
 },
 "nbformat": 4,
 "nbformat_minor": 5
}
