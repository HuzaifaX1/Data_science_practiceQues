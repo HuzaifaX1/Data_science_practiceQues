{
 "cells": [
  {
   "cell_type": "code",
   "execution_count": null,
   "id": "c7767218",
   "metadata": {},
   "outputs": [],
   "source": [
    "# String is a sequence of character>> represent and manipulate textual data\n",
    "# characters are represented using numerical values>> each character is assigned a unique no\n",
    "# ASCII (7 bits) are UNICODE (16 bits)>> ascii>> 2 ki power8 >> 128 character has been encoded where as utf is 2 ki power 16, almost covered every character of every language\n",
    "#UTF-8, UTF 16 >> Popular encoding schemes for unicode >> widely accepted in industry\n",
    "#ASCII >>American standard code for information interchange\n",
    "# UTF(unicode transformation format)"
   ]
  },
  {
   "cell_type": "code",
   "execution_count": 1,
   "id": "20c861cd",
   "metadata": {},
   "outputs": [
    {
     "data": {
      "text/plain": [
       "65"
      ]
     },
     "execution_count": 1,
     "metadata": {},
     "output_type": "execute_result"
    }
   ],
   "source": [
    "# ASCII representation\n",
    "char = 'A'\n",
    "ord(char) #ord>> ordinal, means what is numberical order of character"
   ]
  },
  {
   "cell_type": "code",
   "execution_count": 2,
   "id": "c16724cb",
   "metadata": {},
   "outputs": [
    {
     "data": {
      "text/plain": [
       "'A'"
      ]
     },
     "execution_count": 2,
     "metadata": {},
     "output_type": "execute_result"
    }
   ],
   "source": [
    "chr(65) #character >> give the character correspoding to that no"
   ]
  },
  {
   "cell_type": "code",
   "execution_count": 3,
   "id": "a58b8a62",
   "metadata": {},
   "outputs": [
    {
     "data": {
      "text/plain": [
       "97"
      ]
     },
     "execution_count": 3,
     "metadata": {},
     "output_type": "execute_result"
    }
   ],
   "source": [
    "ord(\"a\")"
   ]
  },
  {
   "cell_type": "code",
   "execution_count": 5,
   "id": "36a43986",
   "metadata": {},
   "outputs": [
    {
     "data": {
      "text/plain": [
       "'a'"
      ]
     },
     "execution_count": 5,
     "metadata": {},
     "output_type": "execute_result"
    }
   ],
   "source": [
    "chr(97)"
   ]
  },
  {
   "cell_type": "code",
   "execution_count": 6,
   "id": "53810e93",
   "metadata": {},
   "outputs": [
    {
     "data": {
      "text/plain": [
       "'B'"
      ]
     },
     "execution_count": 6,
     "metadata": {},
     "output_type": "execute_result"
    }
   ],
   "source": [
    "chr(66)"
   ]
  },
  {
   "cell_type": "code",
   "execution_count": 9,
   "id": "f422c460",
   "metadata": {},
   "outputs": [
    {
     "data": {
      "text/plain": [
       "66"
      ]
     },
     "execution_count": 9,
     "metadata": {},
     "output_type": "execute_result"
    }
   ],
   "source": [
    "ord(\"B\")"
   ]
  },
  {
   "cell_type": "code",
   "execution_count": 10,
   "id": "24da776d",
   "metadata": {},
   "outputs": [
    {
     "data": {
      "text/plain": [
       "\"I'm a student\""
      ]
     },
     "execution_count": 10,
     "metadata": {},
     "output_type": "execute_result"
    }
   ],
   "source": [
    "'''I'm a student'''"
   ]
  },
  {
   "cell_type": "code",
   "execution_count": 11,
   "id": "15a86f42",
   "metadata": {},
   "outputs": [
    {
     "data": {
      "text/plain": [
       "\"Hello,\\nI'm a student\\nin pwskills\""
      ]
     },
     "execution_count": 11,
     "metadata": {},
     "output_type": "execute_result"
    }
   ],
   "source": [
    "'''Hello,\n",
    "I'm a student\n",
    "in pwskills'''"
   ]
  },
  {
   "cell_type": "code",
   "execution_count": 12,
   "id": "0b757015",
   "metadata": {},
   "outputs": [],
   "source": [
    "# concatination of string >> combining two string"
   ]
  },
  {
   "cell_type": "code",
   "execution_count": 13,
   "id": "fe9bca7f",
   "metadata": {},
   "outputs": [
    {
     "data": {
      "text/plain": [
       "'Hello world'"
      ]
     },
     "execution_count": 13,
     "metadata": {},
     "output_type": "execute_result"
    }
   ],
   "source": [
    "\"Hello\" + \" world\""
   ]
  },
  {
   "cell_type": "code",
   "execution_count": 16,
   "id": "8da59767",
   "metadata": {},
   "outputs": [
    {
     "data": {
      "text/plain": [
       "'string >> concatination'"
      ]
     },
     "execution_count": 16,
     "metadata": {},
     "output_type": "execute_result"
    }
   ],
   "source": [
    "\"string\" + \" >> \" + \"concatination\""
   ]
  },
  {
   "cell_type": "code",
   "execution_count": null,
   "id": "c5379cb0",
   "metadata": {},
   "outputs": [],
   "source": [
    "# Extract/slicing of string"
   ]
  },
  {
   "cell_type": "code",
   "execution_count": 17,
   "id": "5576124c",
   "metadata": {},
   "outputs": [],
   "source": [
    "a = \"Huzaifa\""
   ]
  },
  {
   "cell_type": "code",
   "execution_count": 18,
   "id": "6454bcf4",
   "metadata": {},
   "outputs": [
    {
     "data": {
      "text/plain": [
       "'H'"
      ]
     },
     "execution_count": 18,
     "metadata": {},
     "output_type": "execute_result"
    }
   ],
   "source": [
    "a[0]"
   ]
  },
  {
   "cell_type": "code",
   "execution_count": 19,
   "id": "c0615418",
   "metadata": {},
   "outputs": [
    {
     "data": {
      "text/plain": [
       "'Huzai'"
      ]
     },
     "execution_count": 19,
     "metadata": {},
     "output_type": "execute_result"
    }
   ],
   "source": [
    "a[0:5]"
   ]
  },
  {
   "cell_type": "code",
   "execution_count": 1,
   "id": "fdb936ce",
   "metadata": {},
   "outputs": [],
   "source": [
    "string2 = \"I am good student\""
   ]
  },
  {
   "cell_type": "code",
   "execution_count": null,
   "id": "e47cef9d",
   "metadata": {},
   "outputs": [],
   "source": []
  }
 ],
 "metadata": {
  "kernelspec": {
   "display_name": "Python 3 (ipykernel)",
   "language": "python",
   "name": "python3"
  },
  "language_info": {
   "codemirror_mode": {
    "name": "ipython",
    "version": 3
   },
   "file_extension": ".py",
   "mimetype": "text/x-python",
   "name": "python",
   "nbconvert_exporter": "python",
   "pygments_lexer": "ipython3",
   "version": "3.11.5"
  }
 },
 "nbformat": 4,
 "nbformat_minor": 5
}
