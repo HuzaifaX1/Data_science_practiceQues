{
 "cells": [
  {
   "cell_type": "code",
   "execution_count": 1,
   "id": "a98a8710",
   "metadata": {},
   "outputs": [],
   "source": [
    "# Data Structure>> The way of organising and string data so that it can be accessed and manipulated efficiently\n",
    "# Bcz there is no use of data of the data will not accessed and manipulate"
   ]
  },
  {
   "cell_type": "code",
   "execution_count": 2,
   "id": "cf6e4050",
   "metadata": {},
   "outputs": [],
   "source": [
    "# Data structure>> includes string, list, set, tuples, dictionary, arrays"
   ]
  },
  {
   "cell_type": "code",
   "execution_count": 3,
   "id": "5d331b20",
   "metadata": {},
   "outputs": [],
   "source": [
    "# List>> you can store anything in list\n",
    "# >> it store heterogenous data(int, float, etc)\n",
    "# >>ordered collection of element that can be any type\n",
    "# >> List are mutable"
   ]
  },
  {
   "cell_type": "raw",
   "id": "7fc805f5",
   "metadata": {},
   "source": [
    "List"
   ]
  },
  {
   "cell_type": "code",
   "execution_count": 10,
   "id": "a05d5a37",
   "metadata": {},
   "outputs": [],
   "source": [
    "a = [1, 2, 3, \"tomato\", \"baingan\", \"anannas\", 3+4j, True, False]\n",
    "# List can store anything >> Heterogenous data structure"
   ]
  },
  {
   "cell_type": "code",
   "execution_count": 11,
   "id": "d66fe209",
   "metadata": {},
   "outputs": [
    {
     "data": {
      "text/plain": [
       "[1, 2, 3, 'tomato', 'baingan', 'anannas', (3+4j), True, False]"
      ]
     },
     "execution_count": 11,
     "metadata": {},
     "output_type": "execute_result"
    }
   ],
   "source": [
    "a"
   ]
  },
  {
   "cell_type": "code",
   "execution_count": 12,
   "id": "1c1fa200",
   "metadata": {},
   "outputs": [],
   "source": [
    "# adding element to the list by using .append()\n",
    "a.append(\"Remote control car\")"
   ]
  },
  {
   "cell_type": "code",
   "execution_count": 13,
   "id": "0d501321",
   "metadata": {},
   "outputs": [
    {
     "data": {
      "text/plain": [
       "[1,\n",
       " 2,\n",
       " 3,\n",
       " 'tomato',\n",
       " 'baingan',\n",
       " 'anannas',\n",
       " (3+4j),\n",
       " True,\n",
       " False,\n",
       " 'Remote control car']"
      ]
     },
     "execution_count": 13,
     "metadata": {},
     "output_type": "execute_result"
    }
   ],
   "source": [
    "a"
   ]
  },
  {
   "cell_type": "code",
   "execution_count": 15,
   "id": "0de4e3dc",
   "metadata": {},
   "outputs": [],
   "source": [
    "a.remove(\"Remote control car\")"
   ]
  },
  {
   "cell_type": "code",
   "execution_count": 16,
   "id": "029e9a65",
   "metadata": {},
   "outputs": [
    {
     "data": {
      "text/plain": [
       "[1, 2, 3, 'tomato', 'baingan', 'anannas', (3+4j), True, False]"
      ]
     },
     "execution_count": 16,
     "metadata": {},
     "output_type": "execute_result"
    }
   ],
   "source": [
    "a"
   ]
  },
  {
   "cell_type": "code",
   "execution_count": 18,
   "id": "ca2a3263",
   "metadata": {},
   "outputs": [],
   "source": [
    "liss = [[1,2,3],[4,5,6],[7,8,9]]"
   ]
  },
  {
   "cell_type": "code",
   "execution_count": 19,
   "id": "7ea135aa",
   "metadata": {},
   "outputs": [
    {
     "data": {
      "text/plain": [
       "2"
      ]
     },
     "execution_count": 19,
     "metadata": {},
     "output_type": "execute_result"
    }
   ],
   "source": [
    "liss[0][1]"
   ]
  },
  {
   "cell_type": "code",
   "execution_count": 20,
   "id": "6ad1ef7f",
   "metadata": {},
   "outputs": [
    {
     "data": {
      "text/plain": [
       "6"
      ]
     },
     "execution_count": 20,
     "metadata": {},
     "output_type": "execute_result"
    }
   ],
   "source": [
    "liss[1][2]"
   ]
  },
  {
   "cell_type": "code",
   "execution_count": 21,
   "id": "1e8ff012",
   "metadata": {},
   "outputs": [
    {
     "data": {
      "text/plain": [
       "9"
      ]
     },
     "execution_count": 21,
     "metadata": {},
     "output_type": "execute_result"
    }
   ],
   "source": [
    "liss[2][2]"
   ]
  },
  {
   "cell_type": "code",
   "execution_count": 33,
   "id": "01e69168",
   "metadata": {},
   "outputs": [],
   "source": [
    "shopping_lst = ['banana', 'Apple', 2 , 3, 3.43]\n",
    "shopping_lst[0] = \"tomato\""
   ]
  },
  {
   "cell_type": "code",
   "execution_count": 34,
   "id": "6647ff8d",
   "metadata": {},
   "outputs": [
    {
     "data": {
      "text/plain": [
       "['tomato', 'Apple', 2, 3, 3.43]"
      ]
     },
     "execution_count": 34,
     "metadata": {},
     "output_type": "execute_result"
    }
   ],
   "source": [
    "shopping_lst"
   ]
  },
  {
   "cell_type": "code",
   "execution_count": 35,
   "id": "8a1dd56b",
   "metadata": {},
   "outputs": [
    {
     "name": "stdout",
     "output_type": "stream",
     "text": [
      "tomato Apple 2 3 3.43 "
     ]
    }
   ],
   "source": [
    "# Iteration\n",
    "for item in shopping_lst:\n",
    "    print(item, end=\" \")"
   ]
  },
  {
   "cell_type": "raw",
   "id": "701b97dd",
   "metadata": {},
   "source": [
    " Tuple<< are Immutable"
   ]
  },
  {
   "cell_type": "code",
   "execution_count": 36,
   "id": "563a138c",
   "metadata": {},
   "outputs": [
    {
     "data": {
      "text/plain": [
       "tuple"
      ]
     },
     "execution_count": 36,
     "metadata": {},
     "output_type": "execute_result"
    }
   ],
   "source": [
    "# use of tuple>> immutable means elem cannot be changed like aadhar no, ATM card no. employ id so in \n",
    "# in that case we use tuple\n",
    "point = (4,5)\n",
    "type(point)"
   ]
  },
  {
   "cell_type": "code",
   "execution_count": 37,
   "id": "4285d831",
   "metadata": {},
   "outputs": [
    {
     "data": {
      "text/plain": [
       "(4, 5)"
      ]
     },
     "execution_count": 37,
     "metadata": {},
     "output_type": "execute_result"
    }
   ],
   "source": [
    "point"
   ]
  },
  {
   "cell_type": "code",
   "execution_count": 43,
   "id": "66ee953f",
   "metadata": {},
   "outputs": [
    {
     "data": {
      "text/plain": [
       "tuple"
      ]
     },
     "execution_count": 43,
     "metadata": {},
     "output_type": "execute_result"
    }
   ],
   "source": [
    "# tuple can store any data type like string, int, float etc\n",
    "t = (1, 2, True, 3, 4+8j, \"Huzaifa\")\n",
    "type(t)"
   ]
  },
  {
   "cell_type": "code",
   "execution_count": 44,
   "id": "8fe720ee",
   "metadata": {},
   "outputs": [
    {
     "data": {
      "text/plain": [
       "(1, 2, True, 3, (4+8j), 'Huzaifa')"
      ]
     },
     "execution_count": 44,
     "metadata": {},
     "output_type": "execute_result"
    }
   ],
   "source": [
    "t"
   ]
  },
  {
   "cell_type": "code",
   "execution_count": 51,
   "id": "22883495",
   "metadata": {},
   "outputs": [],
   "source": [
    "emp_name = [\"Huzaifa\", \"Ajay\", \"Rohan\", \"Carry\"]"
   ]
  },
  {
   "cell_type": "code",
   "execution_count": 52,
   "id": "cd5e05f1",
   "metadata": {},
   "outputs": [],
   "source": [
    "emp_name[2] = \"Jorden\" #tuples are immutable"
   ]
  },
  {
   "cell_type": "code",
   "execution_count": 65,
   "id": "575c197e",
   "metadata": {},
   "outputs": [],
   "source": [
    "box1 = (\"a\", \"b\")\n",
    "box2 = (\"c\", \"d\")\n",
    "bag = (box1, box2)"
   ]
  },
  {
   "cell_type": "code",
   "execution_count": 68,
   "id": "89f82f3d",
   "metadata": {},
   "outputs": [
    {
     "name": "stdout",
     "output_type": "stream",
     "text": [
      "a\n",
      "b\n",
      "c\n",
      "d\n"
     ]
    }
   ],
   "source": [
    "for box in bag:\n",
    "    for choc in box:\n",
    "        print(choc)"
   ]
  },
  {
   "cell_type": "raw",
   "id": "ea72d6f2",
   "metadata": {},
   "source": [
    "# Set>> are unordered collection of unique element"
   ]
  },
  {
   "cell_type": "code",
   "execution_count": 70,
   "id": "4da60af9",
   "metadata": {},
   "outputs": [
    {
     "data": {
      "text/plain": [
       "{'black', 'blue', 'orange', 'red', 'white'}"
      ]
     },
     "execution_count": 70,
     "metadata": {},
     "output_type": "execute_result"
    }
   ],
   "source": [
    "s ={'red', 'orange', 'blue', 'red', 'white', 'red', 'black'}\n",
    "s"
   ]
  },
  {
   "cell_type": "code",
   "execution_count": 71,
   "id": "f5701bd5",
   "metadata": {},
   "outputs": [
    {
     "data": {
      "text/plain": [
       "set"
      ]
     },
     "execution_count": 71,
     "metadata": {},
     "output_type": "execute_result"
    }
   ],
   "source": [
    "type(s)"
   ]
  },
  {
   "cell_type": "code",
   "execution_count": 72,
   "id": "3f55eefa",
   "metadata": {},
   "outputs": [],
   "source": [
    "s = {'a', 'a', 'a', 1, 2, 1, 1.4, 1,4}"
   ]
  },
  {
   "cell_type": "code",
   "execution_count": 73,
   "id": "184a8337",
   "metadata": {},
   "outputs": [
    {
     "data": {
      "text/plain": [
       "{1, 1.4, 2, 4, 'a'}"
      ]
     },
     "execution_count": 73,
     "metadata": {},
     "output_type": "execute_result"
    }
   ],
   "source": [
    "s"
   ]
  },
  {
   "cell_type": "code",
   "execution_count": 74,
   "id": "82e77c23",
   "metadata": {},
   "outputs": [
    {
     "ename": "TypeError",
     "evalue": "'set' object is not subscriptable",
     "output_type": "error",
     "traceback": [
      "\u001b[1;31m---------------------------------------------------------------------------\u001b[0m",
      "\u001b[1;31mTypeError\u001b[0m                                 Traceback (most recent call last)",
      "Cell \u001b[1;32mIn[74], line 1\u001b[0m\n\u001b[1;32m----> 1\u001b[0m \u001b[43ms\u001b[49m\u001b[43m[\u001b[49m\u001b[38;5;241;43m0\u001b[39;49m\u001b[43m]\u001b[49m\n",
      "\u001b[1;31mTypeError\u001b[0m: 'set' object is not subscriptable"
     ]
    }
   ],
   "source": [
    "s[0] # Error>> no concept of indexing here as a unordered and unique element "
   ]
  },
  {
   "cell_type": "code",
   "execution_count": 75,
   "id": "823210d3",
   "metadata": {},
   "outputs": [
    {
     "data": {
      "text/plain": [
       "{'apple', 'banana', 'egg', 'mango'}"
      ]
     },
     "execution_count": 75,
     "metadata": {},
     "output_type": "execute_result"
    }
   ],
   "source": [
    "# use case of set >> to get unique element\n",
    "grocery_List= {'apple', 'banana', 'banana', 'mango', 'egg', 'egg'}\n",
    "grocery_List"
   ]
  },
  {
   "cell_type": "raw",
   "id": "adc301c0",
   "metadata": {},
   "source": [
    "# Dictionary >> stored data in the form of key value pair"
   ]
  },
  {
   "cell_type": "code",
   "execution_count": 77,
   "id": "c51470e7",
   "metadata": {},
   "outputs": [],
   "source": [
    "dictionary = {\"course\" : \"PwSkills\", \"Duration\" : 200}"
   ]
  },
  {
   "cell_type": "code",
   "execution_count": 78,
   "id": "a8fdb3f0",
   "metadata": {},
   "outputs": [
    {
     "data": {
      "text/plain": [
       "{'course': 'PwSkills', 'Duration': 200}"
      ]
     },
     "execution_count": 78,
     "metadata": {},
     "output_type": "execute_result"
    }
   ],
   "source": [
    "dictionary"
   ]
  },
  {
   "cell_type": "code",
   "execution_count": 79,
   "id": "78ce3c92",
   "metadata": {},
   "outputs": [
    {
     "data": {
      "text/plain": [
       "dict"
      ]
     },
     "execution_count": 79,
     "metadata": {},
     "output_type": "execute_result"
    }
   ],
   "source": [
    "type(dictionary)"
   ]
  },
  {
   "cell_type": "code",
   "execution_count": 80,
   "id": "1b0908b3",
   "metadata": {},
   "outputs": [
    {
     "data": {
      "text/plain": [
       "{'papa': 9709, 'Mom': 587}"
      ]
     },
     "execution_count": 80,
     "metadata": {},
     "output_type": "execute_result"
    }
   ],
   "source": [
    "# use case \n",
    "phonebook = {\"papa\" : 9709, \"Mom\" : 587}\n",
    "phonebook"
   ]
  },
  {
   "cell_type": "code",
   "execution_count": 81,
   "id": "b7b7570d",
   "metadata": {},
   "outputs": [
    {
     "data": {
      "text/plain": [
       "9709"
      ]
     },
     "execution_count": 81,
     "metadata": {},
     "output_type": "execute_result"
    }
   ],
   "source": [
    "phonebook[\"papa\"]"
   ]
  },
  {
   "cell_type": "code",
   "execution_count": 82,
   "id": "643e3d3f",
   "metadata": {},
   "outputs": [
    {
     "data": {
      "text/plain": [
       "587"
      ]
     },
     "execution_count": 82,
     "metadata": {},
     "output_type": "execute_result"
    }
   ],
   "source": [
    "phonebook[\"Mom\"]"
   ]
  },
  {
   "cell_type": "code",
   "execution_count": 83,
   "id": "65a6b57f",
   "metadata": {},
   "outputs": [
    {
     "data": {
      "text/plain": [
       "{'papa': 8665, 'Mom': 587}"
      ]
     },
     "execution_count": 83,
     "metadata": {},
     "output_type": "execute_result"
    }
   ],
   "source": [
    "phonebook = {\"papa\" : 9709, \"Mom\" : 587, \"papa\" : 8665} #In this case first value is orverwrite on second value\n",
    "phonebook"
   ]
  },
  {
   "cell_type": "code",
   "execution_count": 85,
   "id": "e869ce47",
   "metadata": {},
   "outputs": [],
   "source": [
    "rest_menu = {'paneer kofta' : 450, 'Biryani' : 300}"
   ]
  },
  {
   "cell_type": "code",
   "execution_count": 86,
   "id": "f5ea2884",
   "metadata": {},
   "outputs": [
    {
     "data": {
      "text/plain": [
       "{'paneer kofta': 450, 'Biryani': 300}"
      ]
     },
     "execution_count": 86,
     "metadata": {},
     "output_type": "execute_result"
    }
   ],
   "source": [
    "rest_menu"
   ]
  },
  {
   "cell_type": "code",
   "execution_count": 87,
   "id": "289eb1df",
   "metadata": {},
   "outputs": [],
   "source": [
    "rest_menu[\"paneer kofta\"] = 200"
   ]
  },
  {
   "cell_type": "code",
   "execution_count": 88,
   "id": "cac5958a",
   "metadata": {},
   "outputs": [
    {
     "data": {
      "text/plain": [
       "{'paneer kofta': 200, 'Biryani': 300}"
      ]
     },
     "execution_count": 88,
     "metadata": {},
     "output_type": "execute_result"
    }
   ],
   "source": [
    "rest_menu"
   ]
  },
  {
   "cell_type": "code",
   "execution_count": 90,
   "id": "64dcd41e",
   "metadata": {},
   "outputs": [
    {
     "data": {
      "text/plain": [
       "dict_keys(['paneer kofta', 'Biryani'])"
      ]
     },
     "execution_count": 90,
     "metadata": {},
     "output_type": "execute_result"
    }
   ],
   "source": [
    "rest_menu.keys()"
   ]
  },
  {
   "cell_type": "code",
   "execution_count": 91,
   "id": "d748b1c5",
   "metadata": {},
   "outputs": [
    {
     "data": {
      "text/plain": [
       "dict_values([200, 300])"
      ]
     },
     "execution_count": 91,
     "metadata": {},
     "output_type": "execute_result"
    }
   ],
   "source": [
    "rest_menu.values()"
   ]
  },
  {
   "cell_type": "code",
   "execution_count": 92,
   "id": "20a1eb7d",
   "metadata": {},
   "outputs": [
    {
     "data": {
      "text/plain": [
       "dict_keys(['papa', 'Mom'])"
      ]
     },
     "execution_count": 92,
     "metadata": {},
     "output_type": "execute_result"
    }
   ],
   "source": [
    "phonebook.keys()"
   ]
  },
  {
   "cell_type": "code",
   "execution_count": 93,
   "id": "117f3bfa",
   "metadata": {},
   "outputs": [
    {
     "data": {
      "text/plain": [
       "dict_values([8665, 587])"
      ]
     },
     "execution_count": 93,
     "metadata": {},
     "output_type": "execute_result"
    }
   ],
   "source": [
    "phonebook.values()"
   ]
  },
  {
   "cell_type": "raw",
   "id": "f2c65904",
   "metadata": {},
   "source": [
    "# array is similar to list>> stored Hetrogenous data, either only int or only string or only float"
   ]
  }
 ],
 "metadata": {
  "kernelspec": {
   "display_name": "Python 3 (ipykernel)",
   "language": "python",
   "name": "python3"
  },
  "language_info": {
   "codemirror_mode": {
    "name": "ipython",
    "version": 3
   },
   "file_extension": ".py",
   "mimetype": "text/x-python",
   "name": "python",
   "nbconvert_exporter": "python",
   "pygments_lexer": "ipython3",
   "version": "3.11.5"
  }
 },
 "nbformat": 4,
 "nbformat_minor": 5
}
