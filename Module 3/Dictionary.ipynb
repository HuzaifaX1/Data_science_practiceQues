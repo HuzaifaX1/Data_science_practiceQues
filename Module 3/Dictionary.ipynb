{
 "cells": [
  {
   "cell_type": "code",
   "execution_count": 2,
   "id": "861c17d1",
   "metadata": {},
   "outputs": [],
   "source": [
    "# dictionary is a dadta structure that stores data as key value pair\n",
    "# key are unique and immutable\n",
    "\n",
    "# Note:- dictinaries are unordered. but from python 3.7 vrsn, dictionaries retain the order of insertion.\n",
    "# This means that if u iterate over a dictionary, the items will be returned in they were added\n",
    "# denoted by {}"
   ]
  },
  {
   "cell_type": "code",
   "execution_count": 3,
   "id": "d334e18c",
   "metadata": {},
   "outputs": [
    {
     "data": {
      "text/plain": [
       "dict"
      ]
     },
     "execution_count": 3,
     "metadata": {},
     "output_type": "execute_result"
    }
   ],
   "source": [
    "# {key:value, key:value, key:value}\n",
    "d = {}\n",
    "type(d)"
   ]
  },
  {
   "cell_type": "code",
   "execution_count": 10,
   "id": "13ca4642",
   "metadata": {},
   "outputs": [],
   "source": [
    "d = {\"name\":\"huzaifa\", \"email\": \"aj@gmail.com\", \"contact\": 1234}"
   ]
  },
  {
   "cell_type": "code",
   "execution_count": 11,
   "id": "8b4442df",
   "metadata": {},
   "outputs": [
    {
     "data": {
      "text/plain": [
       "{'name': 'huzaifa', 'email': 'aj@gmail.com', 'contact': 1234}"
      ]
     },
     "execution_count": 11,
     "metadata": {},
     "output_type": "execute_result"
    }
   ],
   "source": [
    "d"
   ]
  },
  {
   "cell_type": "code",
   "execution_count": 12,
   "id": "cb5f0ca8",
   "metadata": {},
   "outputs": [
    {
     "data": {
      "text/plain": [
       "dict"
      ]
     },
     "execution_count": 12,
     "metadata": {},
     "output_type": "execute_result"
    }
   ],
   "source": [
    "type(d)"
   ]
  },
  {
   "cell_type": "code",
   "execution_count": 13,
   "id": "a8856aff",
   "metadata": {},
   "outputs": [
    {
     "data": {
      "text/plain": [
       "1"
      ]
     },
     "execution_count": 13,
     "metadata": {},
     "output_type": "execute_result"
    }
   ],
   "source": [
    "l = [1, 2, 3, 4]\n",
    "l[0]"
   ]
  },
  {
   "cell_type": "code",
   "execution_count": 14,
   "id": "61e75842",
   "metadata": {},
   "outputs": [
    {
     "data": {
      "text/plain": [
       "'huzaifa'"
      ]
     },
     "execution_count": 14,
     "metadata": {},
     "output_type": "execute_result"
    }
   ],
   "source": [
    "d['name']"
   ]
  },
  {
   "cell_type": "code",
   "execution_count": 15,
   "id": "ebab8a64",
   "metadata": {},
   "outputs": [
    {
     "data": {
      "text/plain": [
       "'aj@gmail.com'"
      ]
     },
     "execution_count": 15,
     "metadata": {},
     "output_type": "execute_result"
    }
   ],
   "source": [
    "d[\"email\"]"
   ]
  },
  {
   "cell_type": "code",
   "execution_count": 16,
   "id": "3a2cf850",
   "metadata": {},
   "outputs": [
    {
     "data": {
      "text/plain": [
       "{'name': 'huzaifa', 'email': 'aj@gmail.com', 'contact': 1234}"
      ]
     },
     "execution_count": 16,
     "metadata": {},
     "output_type": "execute_result"
    }
   ],
   "source": [
    "d"
   ]
  },
  {
   "cell_type": "code",
   "execution_count": 17,
   "id": "b7fa1c79",
   "metadata": {},
   "outputs": [],
   "source": [
    "d['name'] = \"Huzzu\""
   ]
  },
  {
   "cell_type": "code",
   "execution_count": 18,
   "id": "e9fd3b04",
   "metadata": {},
   "outputs": [
    {
     "data": {
      "text/plain": [
       "{'name': 'Huzzu', 'email': 'aj@gmail.com', 'contact': 1234}"
      ]
     },
     "execution_count": 18,
     "metadata": {},
     "output_type": "execute_result"
    }
   ],
   "source": [
    "d"
   ]
  },
  {
   "cell_type": "code",
   "execution_count": 19,
   "id": "8ca42406",
   "metadata": {},
   "outputs": [],
   "source": [
    "d = {\"address\" : \"26th cross, banglore\"}"
   ]
  },
  {
   "cell_type": "code",
   "execution_count": 20,
   "id": "dc0b7ad8",
   "metadata": {},
   "outputs": [
    {
     "data": {
      "text/plain": [
       "'26th cross, banglore'"
      ]
     },
     "execution_count": 20,
     "metadata": {},
     "output_type": "execute_result"
    }
   ],
   "source": [
    "d['address']"
   ]
  },
  {
   "cell_type": "code",
   "execution_count": 21,
   "id": "b3a80ff7",
   "metadata": {},
   "outputs": [
    {
     "data": {
      "text/plain": [
       "{'key': 1}"
      ]
     },
     "execution_count": 21,
     "metadata": {},
     "output_type": "execute_result"
    }
   ],
   "source": [
    "a = {\"key\" : 1}\n",
    "a"
   ]
  },
  {
   "cell_type": "code",
   "execution_count": 22,
   "id": "16afd69f",
   "metadata": {},
   "outputs": [
    {
     "ename": "KeyError",
     "evalue": "1",
     "output_type": "error",
     "traceback": [
      "\u001b[1;31m---------------------------------------------------------------------------\u001b[0m",
      "\u001b[1;31mKeyError\u001b[0m                                  Traceback (most recent call last)",
      "Cell \u001b[1;32mIn[22], line 1\u001b[0m\n\u001b[1;32m----> 1\u001b[0m \u001b[43ma\u001b[49m\u001b[43m[\u001b[49m\u001b[38;5;241;43m1\u001b[39;49m\u001b[43m]\u001b[49m\n",
      "\u001b[1;31mKeyError\u001b[0m: 1"
     ]
    }
   ],
   "source": [
    "a[1] #you can only access value using key, vice-versa not possible"
   ]
  },
  {
   "cell_type": "code",
   "execution_count": 23,
   "id": "7247af9e",
   "metadata": {},
   "outputs": [
    {
     "data": {
      "text/plain": [
       "{1: 'abc'}"
      ]
     },
     "execution_count": 23,
     "metadata": {},
     "output_type": "execute_result"
    }
   ],
   "source": [
    "# rules of defining keys\n",
    "d = {1:\"abc\"} #integer as key\n",
    "d"
   ]
  },
  {
   "cell_type": "code",
   "execution_count": 24,
   "id": "546c7208",
   "metadata": {},
   "outputs": [],
   "source": [
    "d = {1.2: \"abc\"} # float as key"
   ]
  },
  {
   "cell_type": "code",
   "execution_count": 25,
   "id": "50e8d651",
   "metadata": {},
   "outputs": [
    {
     "data": {
      "text/plain": [
       "{1.2: 'abc'}"
      ]
     },
     "execution_count": 25,
     "metadata": {},
     "output_type": "execute_result"
    }
   ],
   "source": [
    "d"
   ]
  },
  {
   "cell_type": "code",
   "execution_count": 26,
   "id": "4d6413cd",
   "metadata": {},
   "outputs": [],
   "source": [
    "d = {True : \"any value\"} # boolean also can be key of dictionary"
   ]
  },
  {
   "cell_type": "code",
   "execution_count": 27,
   "id": "19a29db5",
   "metadata": {},
   "outputs": [
    {
     "data": {
      "text/plain": [
       "{True: 'any value'}"
      ]
     },
     "execution_count": 27,
     "metadata": {},
     "output_type": "execute_result"
    }
   ],
   "source": [
    "d"
   ]
  },
  {
   "cell_type": "code",
   "execution_count": 28,
   "id": "2d63f7fb",
   "metadata": {},
   "outputs": [
    {
     "ename": "SyntaxError",
     "evalue": "incomplete input (1209693928.py, line 1)",
     "output_type": "error",
     "traceback": [
      "\u001b[1;36m  Cell \u001b[1;32mIn[28], line 1\u001b[1;36m\u001b[0m\n\u001b[1;33m    d = {#: \"123\"}\u001b[0m\n\u001b[1;37m                  ^\u001b[0m\n\u001b[1;31mSyntaxError\u001b[0m\u001b[1;31m:\u001b[0m incomplete input\n"
     ]
    }
   ],
   "source": [
    "d = {#: \"123\"} #you cannot have # as a key"
   ]
  },
  {
   "cell_type": "code",
   "execution_count": 29,
   "id": "a4dc7342",
   "metadata": {},
   "outputs": [
    {
     "ename": "SyntaxError",
     "evalue": "invalid syntax (3385090334.py, line 1)",
     "output_type": "error",
     "traceback": [
      "\u001b[1;36m  Cell \u001b[1;32mIn[29], line 1\u001b[1;36m\u001b[0m\n\u001b[1;33m    d = {@:\"yo\"}\u001b[0m\n\u001b[1;37m         ^\u001b[0m\n\u001b[1;31mSyntaxError\u001b[0m\u001b[1;31m:\u001b[0m invalid syntax\n"
     ]
    }
   ],
   "source": [
    "d = {@:\"yo\"}"
   ]
  },
  {
   "cell_type": "code",
   "execution_count": 31,
   "id": "a4f93758",
   "metadata": {},
   "outputs": [
    {
     "ename": "TypeError",
     "evalue": "unhashable type: 'list'",
     "output_type": "error",
     "traceback": [
      "\u001b[1;31m---------------------------------------------------------------------------\u001b[0m",
      "\u001b[1;31mTypeError\u001b[0m                                 Traceback (most recent call last)",
      "Cell \u001b[1;32mIn[31], line 1\u001b[0m\n\u001b[1;32m----> 1\u001b[0m d \u001b[38;5;241m=\u001b[39m {[\u001b[38;5;241m1\u001b[39m, \u001b[38;5;241m2\u001b[39m, \u001b[38;5;241m3\u001b[39m]: \u001b[38;5;124m\"\u001b[39m\u001b[38;5;124myoyo\u001b[39m\u001b[38;5;124m\"\u001b[39m} \u001b[38;5;66;03m# this is unhashable type\u001b[39;00m\n",
      "\u001b[1;31mTypeError\u001b[0m: unhashable type: 'list'"
     ]
    }
   ],
   "source": [
    "d = {[1, 2, 3]: \"yoyo\"} # this is unhashable type"
   ]
  },
  {
   "cell_type": "code",
   "execution_count": 32,
   "id": "a138d3b5",
   "metadata": {},
   "outputs": [],
   "source": [
    "d = {(1, 2, 3): \"Huzaifa\"} # you can have tuple as a key"
   ]
  },
  {
   "cell_type": "code",
   "execution_count": 33,
   "id": "2e7a0475",
   "metadata": {},
   "outputs": [
    {
     "data": {
      "text/plain": [
       "{(1, 2, 3): 'Huzaifa'}"
      ]
     },
     "execution_count": 33,
     "metadata": {},
     "output_type": "execute_result"
    }
   ],
   "source": [
    "d"
   ]
  },
  {
   "cell_type": "code",
   "execution_count": 34,
   "id": "112181db",
   "metadata": {},
   "outputs": [
    {
     "data": {
      "text/plain": [
       "dict"
      ]
     },
     "execution_count": 34,
     "metadata": {},
     "output_type": "execute_result"
    }
   ],
   "source": [
    "type(d)"
   ]
  },
  {
   "cell_type": "code",
   "execution_count": 35,
   "id": "d7ffa73b",
   "metadata": {},
   "outputs": [
    {
     "ename": "TypeError",
     "evalue": "unhashable type: 'set'",
     "output_type": "error",
     "traceback": [
      "\u001b[1;31m---------------------------------------------------------------------------\u001b[0m",
      "\u001b[1;31mTypeError\u001b[0m                                 Traceback (most recent call last)",
      "Cell \u001b[1;32mIn[35], line 1\u001b[0m\n\u001b[1;32m----> 1\u001b[0m d \u001b[38;5;241m=\u001b[39m {{\u001b[38;5;241m1\u001b[39m, \u001b[38;5;241m2\u001b[39m, \u001b[38;5;241m3\u001b[39m}: \u001b[38;5;124m\"\u001b[39m\u001b[38;5;124mHuzaifa\u001b[39m\u001b[38;5;124m\"\u001b[39m}\n",
      "\u001b[1;31mTypeError\u001b[0m: unhashable type: 'set'"
     ]
    }
   ],
   "source": [
    "d = {{1, 2, 3}: \"Huzaifa\"} # can't have set as a key"
   ]
  },
  {
   "cell_type": "code",
   "execution_count": 36,
   "id": "43384fc5",
   "metadata": {},
   "outputs": [
    {
     "ename": "TypeError",
     "evalue": "unhashable type: 'dict'",
     "output_type": "error",
     "traceback": [
      "\u001b[1;31m---------------------------------------------------------------------------\u001b[0m",
      "\u001b[1;31mTypeError\u001b[0m                                 Traceback (most recent call last)",
      "Cell \u001b[1;32mIn[36], line 1\u001b[0m\n\u001b[1;32m----> 1\u001b[0m d \u001b[38;5;241m=\u001b[39m {{\u001b[38;5;124m\"\u001b[39m\u001b[38;5;124mkey\u001b[39m\u001b[38;5;124m\"\u001b[39m : \u001b[38;5;241m123\u001b[39m} : \u001b[38;5;124m\"\u001b[39m\u001b[38;5;124mhuzaifa\u001b[39m\u001b[38;5;124m\"\u001b[39m}\n",
      "\u001b[1;31mTypeError\u001b[0m: unhashable type: 'dict'"
     ]
    }
   ],
   "source": [
    "d = {{\"key\" : 123} : \"huzaifa\"} # cant have dictionary as a key"
   ]
  },
  {
   "cell_type": "code",
   "execution_count": 37,
   "id": "b49089a8",
   "metadata": {},
   "outputs": [],
   "source": [
    "# Only string and numbers can be used as a key of the dictionary"
   ]
  },
  {
   "cell_type": "code",
   "execution_count": 38,
   "id": "9ba32541",
   "metadata": {},
   "outputs": [],
   "source": [
    "d = {\"name\":\"huzaifa\", \"email\": \"aj@gmail.com\", \"contact\": 1234, \"name\" : \"raxtar\"}\n",
    "#always the last key, valye will be used"
   ]
  },
  {
   "cell_type": "code",
   "execution_count": 39,
   "id": "5f0c7978",
   "metadata": {},
   "outputs": [
    {
     "data": {
      "text/plain": [
       "{'name': 'raxtar', 'email': 'aj@gmail.com', 'contact': 1234}"
      ]
     },
     "execution_count": 39,
     "metadata": {},
     "output_type": "execute_result"
    }
   ],
   "source": [
    "d "
   ]
  },
  {
   "cell_type": "code",
   "execution_count": 40,
   "id": "207086d4",
   "metadata": {},
   "outputs": [],
   "source": [
    "d[\"name\"] = \"Ansari\""
   ]
  },
  {
   "cell_type": "code",
   "execution_count": 41,
   "id": "1fe0d195",
   "metadata": {},
   "outputs": [
    {
     "data": {
      "text/plain": [
       "{'name': 'Ansari', 'email': 'aj@gmail.com', 'contact': 1234}"
      ]
     },
     "execution_count": 41,
     "metadata": {},
     "output_type": "execute_result"
    }
   ],
   "source": [
    "d"
   ]
  },
  {
   "cell_type": "code",
   "execution_count": 43,
   "id": "e8b02e07",
   "metadata": {},
   "outputs": [],
   "source": [
    "d = {'name': ['Ansari', 'Yoyo',1,2], 'email': 'aj@gmail.com', 'contact': (1234, 674)}"
   ]
  },
  {
   "cell_type": "code",
   "execution_count": 44,
   "id": "a445d33c",
   "metadata": {},
   "outputs": [
    {
     "data": {
      "text/plain": [
       "{'name': ['Ansari', 'Yoyo', 1, 2],\n",
       " 'email': 'aj@gmail.com',\n",
       " 'contact': (1234, 674)}"
      ]
     },
     "execution_count": 44,
     "metadata": {},
     "output_type": "execute_result"
    }
   ],
   "source": [
    "d"
   ]
  },
  {
   "cell_type": "code",
   "execution_count": 46,
   "id": "3881d78a",
   "metadata": {},
   "outputs": [
    {
     "data": {
      "text/plain": [
       "'Yoyo'"
      ]
     },
     "execution_count": 46,
     "metadata": {},
     "output_type": "execute_result"
    }
   ],
   "source": [
    "d['name'][1]"
   ]
  },
  {
   "cell_type": "code",
   "execution_count": 47,
   "id": "7b6da24e",
   "metadata": {},
   "outputs": [
    {
     "data": {
      "text/plain": [
       "{'name': ['Ansari', 'Yoyo', 1, 2],\n",
       " 'email': 'aj@gmail.com',\n",
       " 'contact': (1234, 674)}"
      ]
     },
     "execution_count": 47,
     "metadata": {},
     "output_type": "execute_result"
    }
   ],
   "source": [
    "d"
   ]
  },
  {
   "cell_type": "code",
   "execution_count": 48,
   "id": "ff19d1f2",
   "metadata": {},
   "outputs": [],
   "source": [
    "d['address'] = \"lucknow\" # to create a new value pair"
   ]
  },
  {
   "cell_type": "code",
   "execution_count": 49,
   "id": "2d8b6825",
   "metadata": {},
   "outputs": [
    {
     "data": {
      "text/plain": [
       "{'name': ['Ansari', 'Yoyo', 1, 2],\n",
       " 'email': 'aj@gmail.com',\n",
       " 'contact': (1234, 674),\n",
       " 'address': 'lucknow'}"
      ]
     },
     "execution_count": 49,
     "metadata": {},
     "output_type": "execute_result"
    }
   ],
   "source": [
    "d"
   ]
  },
  {
   "cell_type": "code",
   "execution_count": 50,
   "id": "cba93e35",
   "metadata": {},
   "outputs": [],
   "source": [
    "del d['address'] # to delete a key value pair"
   ]
  },
  {
   "cell_type": "code",
   "execution_count": 51,
   "id": "baa6cd89",
   "metadata": {},
   "outputs": [
    {
     "data": {
      "text/plain": [
       "{'name': ['Ansari', 'Yoyo', 1, 2],\n",
       " 'email': 'aj@gmail.com',\n",
       " 'contact': (1234, 674)}"
      ]
     },
     "execution_count": 51,
     "metadata": {},
     "output_type": "execute_result"
    }
   ],
   "source": [
    "d"
   ]
  },
  {
   "cell_type": "code",
   "execution_count": 52,
   "id": "a0943cd2",
   "metadata": {},
   "outputs": [],
   "source": [
    "del d # to delete the whole dictionary"
   ]
  },
  {
   "cell_type": "code",
   "execution_count": 53,
   "id": "cd4b5728",
   "metadata": {},
   "outputs": [
    {
     "ename": "NameError",
     "evalue": "name 'd' is not defined",
     "output_type": "error",
     "traceback": [
      "\u001b[1;31m---------------------------------------------------------------------------\u001b[0m",
      "\u001b[1;31mNameError\u001b[0m                                 Traceback (most recent call last)",
      "Cell \u001b[1;32mIn[53], line 1\u001b[0m\n\u001b[1;32m----> 1\u001b[0m \u001b[43md\u001b[49m\n",
      "\u001b[1;31mNameError\u001b[0m: name 'd' is not defined"
     ]
    }
   ],
   "source": [
    "d"
   ]
  },
  {
   "cell_type": "code",
   "execution_count": 54,
   "id": "3497a776",
   "metadata": {},
   "outputs": [],
   "source": [
    "d = {\"name\":\"huzaifa\", \"email\": \"aj@gmail.com\", \"contact\": 1234}"
   ]
  },
  {
   "cell_type": "code",
   "execution_count": 55,
   "id": "47f4106a",
   "metadata": {},
   "outputs": [],
   "source": [
    "d.clear() #empty dictionary"
   ]
  },
  {
   "cell_type": "code",
   "execution_count": 56,
   "id": "06efe4fc",
   "metadata": {},
   "outputs": [
    {
     "data": {
      "text/plain": [
       "{}"
      ]
     },
     "execution_count": 56,
     "metadata": {},
     "output_type": "execute_result"
    }
   ],
   "source": [
    "d"
   ]
  },
  {
   "cell_type": "code",
   "execution_count": 57,
   "id": "0d9883a1",
   "metadata": {},
   "outputs": [
    {
     "data": {
      "text/plain": [
       "3"
      ]
     },
     "execution_count": 57,
     "metadata": {},
     "output_type": "execute_result"
    }
   ],
   "source": [
    "d = {\"name\":\"huzaifa\", \"email\": \"aj@gmail.com\", \"contact\": 1234}\n",
    "len(d)"
   ]
  },
  {
   "cell_type": "code",
   "execution_count": 58,
   "id": "4633878d",
   "metadata": {},
   "outputs": [
    {
     "data": {
      "text/plain": [
       "dict_keys(['name', 'email', 'contact'])"
      ]
     },
     "execution_count": 58,
     "metadata": {},
     "output_type": "execute_result"
    }
   ],
   "source": [
    "d.keys()"
   ]
  },
  {
   "cell_type": "code",
   "execution_count": 59,
   "id": "485b7fca",
   "metadata": {},
   "outputs": [
    {
     "data": {
      "text/plain": [
       "dict_values(['huzaifa', 'aj@gmail.com', 1234])"
      ]
     },
     "execution_count": 59,
     "metadata": {},
     "output_type": "execute_result"
    }
   ],
   "source": [
    "d.values()"
   ]
  },
  {
   "cell_type": "code",
   "execution_count": 60,
   "id": "da7c2334",
   "metadata": {},
   "outputs": [],
   "source": [
    "d1 = d.copy() #deepcopy"
   ]
  },
  {
   "cell_type": "code",
   "execution_count": 61,
   "id": "984519ee",
   "metadata": {},
   "outputs": [
    {
     "data": {
      "text/plain": [
       "{'name': 'huzaifa', 'email': 'aj@gmail.com', 'contact': 1234}"
      ]
     },
     "execution_count": 61,
     "metadata": {},
     "output_type": "execute_result"
    }
   ],
   "source": [
    "d1"
   ]
  },
  {
   "cell_type": "code",
   "execution_count": 62,
   "id": "89b01d9a",
   "metadata": {},
   "outputs": [],
   "source": [
    "del d1"
   ]
  },
  {
   "cell_type": "code",
   "execution_count": 63,
   "id": "e3686658",
   "metadata": {},
   "outputs": [
    {
     "ename": "NameError",
     "evalue": "name 'd1' is not defined",
     "output_type": "error",
     "traceback": [
      "\u001b[1;31m---------------------------------------------------------------------------\u001b[0m",
      "\u001b[1;31mNameError\u001b[0m                                 Traceback (most recent call last)",
      "Cell \u001b[1;32mIn[63], line 1\u001b[0m\n\u001b[1;32m----> 1\u001b[0m \u001b[43md1\u001b[49m\n",
      "\u001b[1;31mNameError\u001b[0m: name 'd1' is not defined"
     ]
    }
   ],
   "source": [
    "d1"
   ]
  },
  {
   "cell_type": "code",
   "execution_count": 64,
   "id": "096fb7d5",
   "metadata": {},
   "outputs": [
    {
     "data": {
      "text/plain": [
       "{'name': 'huzaifa', 'email': 'aj@gmail.com', 'contact': 1234}"
      ]
     },
     "execution_count": 64,
     "metadata": {},
     "output_type": "execute_result"
    }
   ],
   "source": [
    "d"
   ]
  },
  {
   "cell_type": "code",
   "execution_count": 65,
   "id": "1fa65571",
   "metadata": {},
   "outputs": [
    {
     "data": {
      "text/plain": [
       "1234"
      ]
     },
     "execution_count": 65,
     "metadata": {},
     "output_type": "execute_result"
    }
   ],
   "source": [
    "d.pop('contact')"
   ]
  },
  {
   "cell_type": "code",
   "execution_count": 66,
   "id": "54a1a017",
   "metadata": {},
   "outputs": [
    {
     "data": {
      "text/plain": [
       "{'name': 'huzaifa', 'email': 'aj@gmail.com'}"
      ]
     },
     "execution_count": 66,
     "metadata": {},
     "output_type": "execute_result"
    }
   ],
   "source": [
    "d"
   ]
  },
  {
   "cell_type": "code",
   "execution_count": 67,
   "id": "0bd2c051",
   "metadata": {},
   "outputs": [
    {
     "data": {
      "text/plain": [
       "{'course': 'ds'}"
      ]
     },
     "execution_count": 67,
     "metadata": {},
     "output_type": "execute_result"
    }
   ],
   "source": [
    "d1 = {'course': \"ds\"}\n",
    "d1"
   ]
  },
  {
   "cell_type": "code",
   "execution_count": 68,
   "id": "850a64b3",
   "metadata": {},
   "outputs": [],
   "source": [
    "d.update(d1)"
   ]
  },
  {
   "cell_type": "code",
   "execution_count": 69,
   "id": "ed79d637",
   "metadata": {},
   "outputs": [
    {
     "data": {
      "text/plain": [
       "{'name': 'huzaifa', 'email': 'aj@gmail.com', 'course': 'ds'}"
      ]
     },
     "execution_count": 69,
     "metadata": {},
     "output_type": "execute_result"
    }
   ],
   "source": [
    "d"
   ]
  },
  {
   "cell_type": "code",
   "execution_count": 70,
   "id": "cb9943c5",
   "metadata": {},
   "outputs": [
    {
     "data": {
      "text/plain": [
       "'huzaifa'"
      ]
     },
     "execution_count": 70,
     "metadata": {},
     "output_type": "execute_result"
    }
   ],
   "source": [
    "d['name']"
   ]
  },
  {
   "cell_type": "code",
   "execution_count": 71,
   "id": "4f8ba3bc",
   "metadata": {},
   "outputs": [
    {
     "data": {
      "text/plain": [
       "'huzaifa'"
      ]
     },
     "execution_count": 71,
     "metadata": {},
     "output_type": "execute_result"
    }
   ],
   "source": [
    "d.get(\"name\")"
   ]
  },
  {
   "cell_type": "code",
   "execution_count": 72,
   "id": "a291e8f9",
   "metadata": {},
   "outputs": [
    {
     "data": {
      "text/plain": [
       "{'name': 'huzaifa', 'email': 'aj@gmail.com', 'course': 'ds'}"
      ]
     },
     "execution_count": 72,
     "metadata": {},
     "output_type": "execute_result"
    }
   ],
   "source": [
    "d"
   ]
  },
  {
   "cell_type": "code",
   "execution_count": 73,
   "id": "13ec6daf",
   "metadata": {},
   "outputs": [
    {
     "data": {
      "text/plain": [
       "'ds'"
      ]
     },
     "execution_count": 73,
     "metadata": {},
     "output_type": "execute_result"
    }
   ],
   "source": [
    "d['course']"
   ]
  },
  {
   "cell_type": "raw",
   "id": "f23a7ad6",
   "metadata": {},
   "source": [
    "from keys"
   ]
  },
  {
   "cell_type": "code",
   "execution_count": 76,
   "id": "1defb292",
   "metadata": {},
   "outputs": [
    {
     "data": {
      "text/plain": [
       "{1: ('a', 'b', 'c'), 2: ('a', 'b', 'c'), 3: ('a', 'b', 'c')}"
      ]
     },
     "execution_count": 76,
     "metadata": {},
     "output_type": "execute_result"
    }
   ],
   "source": [
    "d.fromkeys((1, 2, 3), (\"a\", \"b\", \"c\"))"
   ]
  },
  {
   "cell_type": "code",
   "execution_count": 77,
   "id": "54323497",
   "metadata": {},
   "outputs": [
    {
     "name": "stdout",
     "output_type": "stream",
     "text": [
      "('arun', 80)\n",
      "('ajay', 95)\n",
      "('huzaifa', 100)\n"
     ]
    }
   ],
   "source": [
    "#dictionary comprehension\n",
    "\n",
    "# zip function\n",
    "students = [\"arun\", \"ajay\", \"huzaifa\"]\n",
    "marks = [80, 95, 100]\n",
    "\n",
    "for i in zip(students, marks):\n",
    "    print(i)"
   ]
  },
  {
   "cell_type": "code",
   "execution_count": 117,
   "id": "2d5c9c23",
   "metadata": {},
   "outputs": [],
   "source": [
    "# store the above information in key value pair>> dictionary\n",
    "students = [\"arun\", \"ajay\", \"huzaifa\"]\n",
    "marks = [80, 95, 100]\n",
    "students_mark = {}\n",
    "for student, marks in zip(students, marks):\n",
    "    students_mark[student] = marks"
   ]
  },
  {
   "cell_type": "code",
   "execution_count": 118,
   "id": "cc211452",
   "metadata": {},
   "outputs": [
    {
     "data": {
      "text/plain": [
       "{'arun': 80, 'ajay': 95, 'huzaifa': 100}"
      ]
     },
     "execution_count": 118,
     "metadata": {},
     "output_type": "execute_result"
    }
   ],
   "source": [
    "students_mark"
   ]
  },
  {
   "cell_type": "code",
   "execution_count": 122,
   "id": "b5f6e56a",
   "metadata": {},
   "outputs": [
    {
     "data": {
      "text/plain": [
       "{'arun': 80, 'ajay': 95, 'huzaifa': 100}"
      ]
     },
     "execution_count": 122,
     "metadata": {},
     "output_type": "execute_result"
    }
   ],
   "source": [
    "# using dictionary comprehensive method\n",
    "students = [\"arun\", \"ajay\", \"huzaifa\"]\n",
    "marks = [80, 95, 100]\n",
    "{s:m for s, m in zip(students, marks)}"
   ]
  },
  {
   "cell_type": "code",
   "execution_count": 123,
   "id": "17f000e9",
   "metadata": {},
   "outputs": [],
   "source": [
    "#use case\n",
    "user_id = [1, 2, 3]\n",
    "user_name = [\"a21\", \"a22\",  \"a23\"]"
   ]
  },
  {
   "cell_type": "code",
   "execution_count": 124,
   "id": "e6aba44a",
   "metadata": {},
   "outputs": [
    {
     "data": {
      "text/plain": [
       "[1, 2, 3]"
      ]
     },
     "execution_count": 124,
     "metadata": {},
     "output_type": "execute_result"
    }
   ],
   "source": [
    "user_id"
   ]
  },
  {
   "cell_type": "code",
   "execution_count": 125,
   "id": "ba41e157",
   "metadata": {},
   "outputs": [
    {
     "data": {
      "text/plain": [
       "['a21', 'a22', 'a23']"
      ]
     },
     "execution_count": 125,
     "metadata": {},
     "output_type": "execute_result"
    }
   ],
   "source": [
    "user_name"
   ]
  },
  {
   "cell_type": "code",
   "execution_count": 126,
   "id": "f748a385",
   "metadata": {},
   "outputs": [
    {
     "data": {
      "text/plain": [
       "{1: 'a21', 2: 'a22', 3: 'a23'}"
      ]
     },
     "execution_count": 126,
     "metadata": {},
     "output_type": "execute_result"
    }
   ],
   "source": [
    "{u_id:u_name for u_id, u_name in zip(user_id, user_name)}"
   ]
  },
  {
   "cell_type": "code",
   "execution_count": null,
   "id": "724f7ea0",
   "metadata": {},
   "outputs": [],
   "source": []
  }
 ],
 "metadata": {
  "kernelspec": {
   "display_name": "Python 3 (ipykernel)",
   "language": "python",
   "name": "python3"
  },
  "language_info": {
   "codemirror_mode": {
    "name": "ipython",
    "version": 3
   },
   "file_extension": ".py",
   "mimetype": "text/x-python",
   "name": "python",
   "nbconvert_exporter": "python",
   "pygments_lexer": "ipython3",
   "version": "3.11.5"
  }
 },
 "nbformat": 4,
 "nbformat_minor": 5
}
