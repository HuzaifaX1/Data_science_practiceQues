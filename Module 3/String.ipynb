{
 "cells": [
  {
   "cell_type": "code",
   "execution_count": null,
   "id": "c7767218",
   "metadata": {},
   "outputs": [],
   "source": [
    "# String is a sequence of character>> represent and manipulate textual data\n",
    "# characters are represented using numerical values>> each character is assigned a unique no\n",
    "# ASCII (7 bits) are UNICODE (16 bits)>> ascii>> 2 ki power8 >> 128 character has been encoded where as utf is 2 ki power 16, almost covered every character of every language\n",
    "#UTF-8, UTF 16 >> Popular encoding schemes for unicode >> widely accepted in industry\n",
    "#ASCII >>American standard code for information interchange\n",
    "# UTF(unicode transformation format)"
   ]
  },
  {
   "cell_type": "code",
   "execution_count": 1,
   "id": "20c861cd",
   "metadata": {},
   "outputs": [
    {
     "data": {
      "text/plain": [
       "65"
      ]
     },
     "execution_count": 1,
     "metadata": {},
     "output_type": "execute_result"
    }
   ],
   "source": [
    "# ASCII representation\n",
    "char = 'A'\n",
    "ord(char) #ord>> ordinal, means what is numberical order of character"
   ]
  },
  {
   "cell_type": "code",
   "execution_count": 2,
   "id": "c16724cb",
   "metadata": {},
   "outputs": [
    {
     "data": {
      "text/plain": [
       "'A'"
      ]
     },
     "execution_count": 2,
     "metadata": {},
     "output_type": "execute_result"
    }
   ],
   "source": [
    "chr(65) #character >> give the character correspoding to that no"
   ]
  },
  {
   "cell_type": "code",
   "execution_count": 3,
   "id": "a58b8a62",
   "metadata": {},
   "outputs": [
    {
     "data": {
      "text/plain": [
       "97"
      ]
     },
     "execution_count": 3,
     "metadata": {},
     "output_type": "execute_result"
    }
   ],
   "source": [
    "ord(\"a\")"
   ]
  },
  {
   "cell_type": "code",
   "execution_count": 5,
   "id": "36a43986",
   "metadata": {},
   "outputs": [
    {
     "data": {
      "text/plain": [
       "'a'"
      ]
     },
     "execution_count": 5,
     "metadata": {},
     "output_type": "execute_result"
    }
   ],
   "source": [
    "chr(97)"
   ]
  },
  {
   "cell_type": "code",
   "execution_count": 6,
   "id": "53810e93",
   "metadata": {},
   "outputs": [
    {
     "data": {
      "text/plain": [
       "'B'"
      ]
     },
     "execution_count": 6,
     "metadata": {},
     "output_type": "execute_result"
    }
   ],
   "source": [
    "chr(66)"
   ]
  },
  {
   "cell_type": "code",
   "execution_count": 9,
   "id": "f422c460",
   "metadata": {},
   "outputs": [
    {
     "data": {
      "text/plain": [
       "66"
      ]
     },
     "execution_count": 9,
     "metadata": {},
     "output_type": "execute_result"
    }
   ],
   "source": [
    "ord(\"B\")"
   ]
  },
  {
   "cell_type": "code",
   "execution_count": 10,
   "id": "24da776d",
   "metadata": {},
   "outputs": [
    {
     "data": {
      "text/plain": [
       "\"I'm a student\""
      ]
     },
     "execution_count": 10,
     "metadata": {},
     "output_type": "execute_result"
    }
   ],
   "source": [
    "'''I'm a student'''"
   ]
  },
  {
   "cell_type": "code",
   "execution_count": 11,
   "id": "15a86f42",
   "metadata": {},
   "outputs": [
    {
     "data": {
      "text/plain": [
       "\"Hello,\\nI'm a student\\nin pwskills\""
      ]
     },
     "execution_count": 11,
     "metadata": {},
     "output_type": "execute_result"
    }
   ],
   "source": [
    "'''Hello,\n",
    "I'm a student\n",
    "in pwskills'''"
   ]
  },
  {
   "cell_type": "code",
   "execution_count": 12,
   "id": "0b757015",
   "metadata": {},
   "outputs": [],
   "source": [
    "# concatination of string >> combining two string"
   ]
  },
  {
   "cell_type": "code",
   "execution_count": 13,
   "id": "fe9bca7f",
   "metadata": {},
   "outputs": [
    {
     "data": {
      "text/plain": [
       "'Hello world'"
      ]
     },
     "execution_count": 13,
     "metadata": {},
     "output_type": "execute_result"
    }
   ],
   "source": [
    "\"Hello\" + \" world\""
   ]
  },
  {
   "cell_type": "code",
   "execution_count": 16,
   "id": "8da59767",
   "metadata": {},
   "outputs": [
    {
     "data": {
      "text/plain": [
       "'string >> concatination'"
      ]
     },
     "execution_count": 16,
     "metadata": {},
     "output_type": "execute_result"
    }
   ],
   "source": [
    "\"string\" + \" >> \" + \"concatination\""
   ]
  },
  {
   "cell_type": "code",
   "execution_count": null,
   "id": "c5379cb0",
   "metadata": {},
   "outputs": [],
   "source": [
    "# Extract/slicing of string"
   ]
  },
  {
   "cell_type": "code",
   "execution_count": 17,
   "id": "5576124c",
   "metadata": {},
   "outputs": [],
   "source": [
    "a = \"Huzaifa\""
   ]
  },
  {
   "cell_type": "code",
   "execution_count": 18,
   "id": "6454bcf4",
   "metadata": {},
   "outputs": [
    {
     "data": {
      "text/plain": [
       "'H'"
      ]
     },
     "execution_count": 18,
     "metadata": {},
     "output_type": "execute_result"
    }
   ],
   "source": [
    "a[0]"
   ]
  },
  {
   "cell_type": "code",
   "execution_count": 19,
   "id": "c0615418",
   "metadata": {},
   "outputs": [
    {
     "data": {
      "text/plain": [
       "'Huzai'"
      ]
     },
     "execution_count": 19,
     "metadata": {},
     "output_type": "execute_result"
    }
   ],
   "source": [
    "a[0:5]"
   ]
  },
  {
   "cell_type": "code",
   "execution_count": 1,
   "id": "fdb936ce",
   "metadata": {},
   "outputs": [],
   "source": [
    "string2 = \"I am good student\""
   ]
  },
  {
   "cell_type": "code",
   "execution_count": 2,
   "id": "a344e9d4",
   "metadata": {},
   "outputs": [
    {
     "data": {
      "text/plain": [
       "'I am good student'"
      ]
     },
     "execution_count": 2,
     "metadata": {},
     "output_type": "execute_result"
    }
   ],
   "source": [
    "string2[0:] # if you not write last elem then it will bydefault give u whole string to the end"
   ]
  },
  {
   "cell_type": "code",
   "execution_count": 3,
   "id": "62415817",
   "metadata": {},
   "outputs": [
    {
     "data": {
      "text/plain": [
       "'I am good stud'"
      ]
     },
     "execution_count": 3,
     "metadata": {},
     "output_type": "execute_result"
    }
   ],
   "source": [
    "# except the last 3 character\n",
    "string2[:-3]"
   ]
  },
  {
   "cell_type": "code",
   "execution_count": 4,
   "id": "ef347a1d",
   "metadata": {},
   "outputs": [
    {
     "data": {
      "text/plain": [
       "'ent'"
      ]
     },
     "execution_count": 4,
     "metadata": {},
     "output_type": "execute_result"
    }
   ],
   "source": [
    "#only last 3 character\n",
    "string2[-3:]"
   ]
  },
  {
   "cell_type": "code",
   "execution_count": 5,
   "id": "a33ee5cd",
   "metadata": {},
   "outputs": [],
   "source": [
    "new = \"Hello World\""
   ]
  },
  {
   "cell_type": "code",
   "execution_count": 9,
   "id": "3d971ddc",
   "metadata": {},
   "outputs": [
    {
     "data": {
      "text/plain": [
       "'Hello World'"
      ]
     },
     "execution_count": 9,
     "metadata": {},
     "output_type": "execute_result"
    }
   ],
   "source": [
    "new[0:12:1]"
   ]
  },
  {
   "cell_type": "code",
   "execution_count": 10,
   "id": "440b8bc3",
   "metadata": {},
   "outputs": [
    {
     "data": {
      "text/plain": [
       "'Hello World'"
      ]
     },
     "execution_count": 10,
     "metadata": {},
     "output_type": "execute_result"
    }
   ],
   "source": [
    "new[::]"
   ]
  },
  {
   "cell_type": "code",
   "execution_count": 11,
   "id": "2d3c32d4",
   "metadata": {},
   "outputs": [
    {
     "data": {
      "text/plain": [
       "'HloW'"
      ]
     },
     "execution_count": 11,
     "metadata": {},
     "output_type": "execute_result"
    }
   ],
   "source": [
    "new[0:7:2]"
   ]
  },
  {
   "cell_type": "code",
   "execution_count": 12,
   "id": "e85e2323",
   "metadata": {},
   "outputs": [
    {
     "data": {
      "text/plain": [
       "'dlroW olleH'"
      ]
     },
     "execution_count": 12,
     "metadata": {},
     "output_type": "execute_result"
    }
   ],
   "source": [
    "#iterate over the sequence reverse order\n",
    "# it means start from end, move to beginning and step backward by the character\n",
    "new[::-1] "
   ]
  },
  {
   "cell_type": "code",
   "execution_count": 13,
   "id": "0a84d8ac",
   "metadata": {},
   "outputs": [
    {
     "ename": "NameError",
     "evalue": "name 'm' is not defined",
     "output_type": "error",
     "traceback": [
      "\u001b[1;31m---------------------------------------------------------------------------\u001b[0m",
      "\u001b[1;31mNameError\u001b[0m                                 Traceback (most recent call last)",
      "Cell \u001b[1;32mIn[13], line 3\u001b[0m\n\u001b[0;32m      1\u001b[0m \u001b[38;5;66;03m# String is Immutable\u001b[39;00m\n\u001b[0;32m      2\u001b[0m a \u001b[38;5;241m=\u001b[39m \u001b[38;5;124m'\u001b[39m\u001b[38;5;124mHuzaifa\u001b[39m\u001b[38;5;124m'\u001b[39m\n\u001b[1;32m----> 3\u001b[0m a[\u001b[38;5;241m0\u001b[39m]\u001b[38;5;241m=\u001b[39m \u001b[43mm\u001b[49m\n",
      "\u001b[1;31mNameError\u001b[0m: name 'm' is not defined"
     ]
    }
   ],
   "source": [
    "# String is Immutable >> u cannt access the index but string can be modify\n",
    "a = 'Huzaifa'\n",
    "a[0]= m"
   ]
  },
  {
   "cell_type": "code",
   "execution_count": 14,
   "id": "72e0d5dd",
   "metadata": {},
   "outputs": [],
   "source": [
    "# how to find length of character\n",
    "a = \"Huzaifa\""
   ]
  },
  {
   "cell_type": "code",
   "execution_count": 15,
   "id": "80506e18",
   "metadata": {},
   "outputs": [
    {
     "data": {
      "text/plain": [
       "7"
      ]
     },
     "execution_count": 15,
     "metadata": {},
     "output_type": "execute_result"
    }
   ],
   "source": [
    "len(a)"
   ]
  },
  {
   "cell_type": "code",
   "execution_count": 16,
   "id": "ae613c4e",
   "metadata": {},
   "outputs": [],
   "source": [
    "s = \"I am a student\""
   ]
  },
  {
   "cell_type": "code",
   "execution_count": 17,
   "id": "09896731",
   "metadata": {},
   "outputs": [
    {
     "data": {
      "text/plain": [
       "'I am a Engineer'"
      ]
     },
     "execution_count": 17,
     "metadata": {},
     "output_type": "execute_result"
    }
   ],
   "source": [
    "s.replace(\"student\", \"Engineer\")"
   ]
  },
  {
   "cell_type": "code",
   "execution_count": 18,
   "id": "742d1200",
   "metadata": {},
   "outputs": [],
   "source": [
    "f = \"212 suhana apt, banglore\""
   ]
  },
  {
   "cell_type": "code",
   "execution_count": 20,
   "id": "eec29adf",
   "metadata": {},
   "outputs": [
    {
     "data": {
      "text/plain": [
       "'212 suhana apartment, banglore'"
      ]
     },
     "execution_count": 20,
     "metadata": {},
     "output_type": "execute_result"
    }
   ],
   "source": [
    "f.replace(\"apt\", \"apartment\")"
   ]
  },
  {
   "cell_type": "code",
   "execution_count": 21,
   "id": "9ab68589",
   "metadata": {},
   "outputs": [],
   "source": [
    "text = \"BRB, TTYL, LOL\""
   ]
  },
  {
   "cell_type": "code",
   "execution_count": 22,
   "id": "ef01341d",
   "metadata": {},
   "outputs": [
    {
     "data": {
      "text/plain": [
       "'Be right back, Talk to you later, Laughing out loud'"
      ]
     },
     "execution_count": 22,
     "metadata": {},
     "output_type": "execute_result"
    }
   ],
   "source": [
    "text.replace(\"BRB\", \"Be right back\").replace(\"TTYL\", \"Talk to you later\").replace(\"LOL\",\"Laughing out loud\")"
   ]
  },
  {
   "cell_type": "code",
   "execution_count": 23,
   "id": "fa170fc6",
   "metadata": {},
   "outputs": [],
   "source": [
    "text2 = \"hello world\""
   ]
  },
  {
   "cell_type": "code",
   "execution_count": 24,
   "id": "49399231",
   "metadata": {},
   "outputs": [
    {
     "data": {
      "text/plain": [
       "'HELLO WORLD'"
      ]
     },
     "execution_count": 24,
     "metadata": {},
     "output_type": "execute_result"
    }
   ],
   "source": [
    "text2.upper()"
   ]
  },
  {
   "cell_type": "code",
   "execution_count": 25,
   "id": "53917efe",
   "metadata": {},
   "outputs": [
    {
     "data": {
      "text/plain": [
       "'hello world'"
      ]
     },
     "execution_count": 25,
     "metadata": {},
     "output_type": "execute_result"
    }
   ],
   "source": [
    "text2.lower()"
   ]
  },
  {
   "cell_type": "code",
   "execution_count": 26,
   "id": "62f79f45",
   "metadata": {},
   "outputs": [
    {
     "data": {
      "text/plain": [
       "'Hello World'"
      ]
     },
     "execution_count": 26,
     "metadata": {},
     "output_type": "execute_result"
    }
   ],
   "source": [
    "text2.title()"
   ]
  },
  {
   "cell_type": "code",
   "execution_count": 28,
   "id": "853898d5",
   "metadata": {},
   "outputs": [],
   "source": [
    "text = \"I am Student\""
   ]
  },
  {
   "cell_type": "code",
   "execution_count": 29,
   "id": "5a44cd4d",
   "metadata": {},
   "outputs": [
    {
     "data": {
      "text/plain": [
       "'i AM sTUDENT'"
      ]
     },
     "execution_count": 29,
     "metadata": {},
     "output_type": "execute_result"
    }
   ],
   "source": [
    "text.swapcase() #Convert uppercase characters to lowercase and lowercase characters to uppercase."
   ]
  },
  {
   "cell_type": "code",
   "execution_count": 30,
   "id": "423e2ebe",
   "metadata": {},
   "outputs": [
    {
     "data": {
      "text/plain": [
       "'I am student'"
      ]
     },
     "execution_count": 30,
     "metadata": {},
     "output_type": "execute_result"
    }
   ],
   "source": [
    "text.capitalize() #convert first letter of sentence capital only and rest of letters lower"
   ]
  },
  {
   "cell_type": "code",
   "execution_count": 32,
   "id": "9c1181fa",
   "metadata": {},
   "outputs": [
    {
     "data": {
      "text/plain": [
       "True"
      ]
     },
     "execution_count": 32,
     "metadata": {},
     "output_type": "execute_result"
    }
   ],
   "source": [
    "# searching sentence in string\n",
    "a = \"I am data science student\"\n",
    "\"am\" in a"
   ]
  },
  {
   "cell_type": "code",
   "execution_count": 33,
   "id": "2c53a365",
   "metadata": {},
   "outputs": [
    {
     "data": {
      "text/plain": [
       "True"
      ]
     },
     "execution_count": 33,
     "metadata": {},
     "output_type": "execute_result"
    }
   ],
   "source": [
    "\"ata\" in a"
   ]
  },
  {
   "cell_type": "code",
   "execution_count": 34,
   "id": "726f3dba",
   "metadata": {},
   "outputs": [
    {
     "data": {
      "text/plain": [
       "False"
      ]
     },
     "execution_count": 34,
     "metadata": {},
     "output_type": "execute_result"
    }
   ],
   "source": [
    "\"mop\" in a"
   ]
  },
  {
   "cell_type": "code",
   "execution_count": 35,
   "id": "05439a67",
   "metadata": {},
   "outputs": [
    {
     "name": "stdout",
     "output_type": "stream",
     "text": [
      "Search word is present\n"
     ]
    }
   ],
   "source": [
    "sentence = \"I am pwskills student\"\n",
    "search_word = 'am'\n",
    "if search_word in sentence:\n",
    "    print(\"Search word is present\")\n",
    "else:\n",
    "    print(\"Not present\")"
   ]
  },
  {
   "cell_type": "code",
   "execution_count": 40,
   "id": "f5f41804",
   "metadata": {},
   "outputs": [
    {
     "name": "stdout",
     "output_type": "stream",
     "text": [
      "Valid email\n"
     ]
    }
   ],
   "source": [
    "email = \"huziafa123@gmail.com\"\n",
    "if \"@\" in email:\n",
    "    print(\"Valid email\")\n",
    "else:\n",
    "    print(\"Invalid email\")"
   ]
  },
  {
   "cell_type": "code",
   "execution_count": 44,
   "id": "569a4417",
   "metadata": {},
   "outputs": [
    {
     "name": "stdout",
     "output_type": "stream",
     "text": [
      "yes, its a pdf file\n"
     ]
    }
   ],
   "source": [
    "document = \"Some_file.pdf\"\n",
    "if \".pdf\" in document:\n",
    "    print(\"yes, its a pdf file\")\n",
    "else:\n",
    "    print(\"Not a pdf file\")"
   ]
  },
  {
   "cell_type": "code",
   "execution_count": 46,
   "id": "838d3987",
   "metadata": {},
   "outputs": [
    {
     "data": {
      "text/plain": [
       "False"
      ]
     },
     "execution_count": 46,
     "metadata": {},
     "output_type": "execute_result"
    }
   ],
   "source": [
    "str1 = \"Hello\"\n",
    "str2 = \"hello\"\n",
    "str1 == str2"
   ]
  },
  {
   "cell_type": "code",
   "execution_count": 47,
   "id": "6445d6ef",
   "metadata": {},
   "outputs": [
    {
     "data": {
      "text/plain": [
       "True"
      ]
     },
     "execution_count": 47,
     "metadata": {},
     "output_type": "execute_result"
    }
   ],
   "source": [
    "str1.lower() == str2.lower()"
   ]
  },
  {
   "cell_type": "code",
   "execution_count": 48,
   "id": "a5c9a054",
   "metadata": {},
   "outputs": [
    {
     "name": "stdout",
     "output_type": "stream",
     "text": [
      "Available username\n"
     ]
    }
   ],
   "source": [
    "user_name = [\"pw\", \"Pw\", \"pW\"]\n",
    "new_user = \"PW1\"\n",
    "if new_user in user_name:\n",
    "    print(\"Existing user, use new name\")\n",
    "else:\n",
    "    print(\"Available username\")"
   ]
  },
  {
   "cell_type": "code",
   "execution_count": 50,
   "id": "4293be47",
   "metadata": {},
   "outputs": [
    {
     "name": "stdout",
     "output_type": "stream",
     "text": [
      "enter the scan product codep231\n",
      "Talk to receptionist\n"
     ]
    }
   ],
   "source": [
    "product_code = \"p123\"\n",
    "scanned_code = input(\"enter the scan product code\")\n",
    "if product_code == scanned_code:\n",
    "    print(\"The price is 1000\")\n",
    "else:\n",
    "    print(\"Talk to receptionist\")\n"
   ]
  },
  {
   "cell_type": "code",
   "execution_count": 51,
   "id": "3a0d55c7",
   "metadata": {},
   "outputs": [
    {
     "data": {
      "text/plain": [
       "['Ajay', 'Huzaifa', 'rohan']"
      ]
     },
     "execution_count": 51,
     "metadata": {},
     "output_type": "execute_result"
    }
   ],
   "source": [
    "# String order\n",
    "name = [\"Huzaifa\", \"Ajay\", \"rohan\"]\n",
    "sorted(name)"
   ]
  },
  {
   "cell_type": "code",
   "execution_count": 55,
   "id": "6f40094d",
   "metadata": {},
   "outputs": [
    {
     "data": {
      "text/plain": [
       "['Jawan', 'Kgf', 'Kkkg', 'RRR', 'Stree', 'Stree2']"
      ]
     },
     "execution_count": 55,
     "metadata": {},
     "output_type": "execute_result"
    }
   ],
   "source": [
    "playlist = [\"Kgf\", \"Stree2\", \"Stree\", \"RRR\", \"Kkkg\", \"Jawan\"]\n",
    "sorted(playlist)"
   ]
  },
  {
   "cell_type": "code",
   "execution_count": 56,
   "id": "c47c1445",
   "metadata": {},
   "outputs": [
    {
     "data": {
      "text/plain": [
       "'          pw         '"
      ]
     },
     "execution_count": 56,
     "metadata": {},
     "output_type": "execute_result"
    }
   ],
   "source": [
    "string = \"          pw         \"\n",
    "string"
   ]
  },
  {
   "cell_type": "code",
   "execution_count": 58,
   "id": "7b9e2235",
   "metadata": {},
   "outputs": [
    {
     "data": {
      "text/plain": [
       "'pw'"
      ]
     },
     "execution_count": 58,
     "metadata": {},
     "output_type": "execute_result"
    }
   ],
   "source": [
    "string.strip() # strip() remove extra useless spaces"
   ]
  },
  {
   "cell_type": "code",
   "execution_count": 66,
   "id": "be6d6a0d",
   "metadata": {},
   "outputs": [
    {
     "data": {
      "text/plain": [
       "'Huzaifa, Data science, Student'"
      ]
     },
     "execution_count": 66,
     "metadata": {},
     "output_type": "execute_result"
    }
   ],
   "source": [
    "# string splitting\n",
    "data = \"Huzaifa, Data science, Student\"\n",
    "data"
   ]
  },
  {
   "cell_type": "code",
   "execution_count": 68,
   "id": "cd6e3d9d",
   "metadata": {},
   "outputs": [
    {
     "data": {
      "text/plain": [
       "['Huzaifa', ' Data science', ' Student']"
      ]
     },
     "execution_count": 68,
     "metadata": {},
     "output_type": "execute_result"
    }
   ],
   "source": [
    "info = data.split(',')\n",
    "info"
   ]
  },
  {
   "cell_type": "code",
   "execution_count": 70,
   "id": "213ba6ce",
   "metadata": {},
   "outputs": [],
   "source": [
    "name = info[0]\n",
    "subject = info[1]\n",
    "designation = info[2]"
   ]
  },
  {
   "cell_type": "code",
   "execution_count": 71,
   "id": "68b72c63",
   "metadata": {},
   "outputs": [
    {
     "data": {
      "text/plain": [
       "'Huzaifa'"
      ]
     },
     "execution_count": 71,
     "metadata": {},
     "output_type": "execute_result"
    }
   ],
   "source": [
    "name"
   ]
  },
  {
   "cell_type": "code",
   "execution_count": 72,
   "id": "8511ae35",
   "metadata": {},
   "outputs": [
    {
     "data": {
      "text/plain": [
       "' Data science'"
      ]
     },
     "execution_count": 72,
     "metadata": {},
     "output_type": "execute_result"
    }
   ],
   "source": [
    "subject"
   ]
  },
  {
   "cell_type": "code",
   "execution_count": 73,
   "id": "b243b64c",
   "metadata": {},
   "outputs": [
    {
     "data": {
      "text/plain": [
       "' Student'"
      ]
     },
     "execution_count": 73,
     "metadata": {},
     "output_type": "execute_result"
    }
   ],
   "source": [
    "designation"
   ]
  },
  {
   "cell_type": "code",
   "execution_count": 74,
   "id": "15f11571",
   "metadata": {},
   "outputs": [
    {
     "data": {
      "text/plain": [
       "'Student'"
      ]
     },
     "execution_count": 74,
     "metadata": {},
     "output_type": "execute_result"
    }
   ],
   "source": [
    "designation.strip()"
   ]
  },
  {
   "cell_type": "code",
   "execution_count": 79,
   "id": "3f460973",
   "metadata": {},
   "outputs": [],
   "source": [
    "# Escape sequences\n",
    "address = \"\"\"123 pondachery\n",
    "shaitan gali\n",
    "andher nagri\"\"\""
   ]
  },
  {
   "cell_type": "code",
   "execution_count": 80,
   "id": "2da381b9",
   "metadata": {},
   "outputs": [
    {
     "data": {
      "text/plain": [
       "'123 pondachery\\nshaitan gali\\nandher nagri'"
      ]
     },
     "execution_count": 80,
     "metadata": {},
     "output_type": "execute_result"
    }
   ],
   "source": [
    "address"
   ]
  },
  {
   "cell_type": "code",
   "execution_count": 83,
   "id": "1f52850a",
   "metadata": {},
   "outputs": [
    {
     "name": "stdout",
     "output_type": "stream",
     "text": [
      "123 pondachery\n",
      "shaitan gali\n",
      "andher nagri\n"
     ]
    }
   ],
   "source": [
    "print(address) #\\n >> to insert a new line"
   ]
  },
  {
   "cell_type": "code",
   "execution_count": 84,
   "id": "9c85818d",
   "metadata": {},
   "outputs": [
    {
     "name": "stdout",
     "output_type": "stream",
     "text": [
      "123 pondachery\n",
      "shaitan gali\n",
      "andher nagri\n"
     ]
    }
   ],
   "source": [
    "pin = \"123 pondachery\\nshaitan gali\\nandher nagri\"\n",
    "print(pin)"
   ]
  },
  {
   "cell_type": "code",
   "execution_count": 88,
   "id": "3a59327f",
   "metadata": {},
   "outputs": [],
   "source": [
    "# \\t escape character >> tab\n",
    "table = \"Name\\tAge\\tGrade\\nHuzzu\\t21\\tA+\""
   ]
  },
  {
   "cell_type": "code",
   "execution_count": 89,
   "id": "89f4798f",
   "metadata": {},
   "outputs": [
    {
     "name": "stdout",
     "output_type": "stream",
     "text": [
      "Name\tAge\tGrade\n",
      "Huzzu\t21\tA+\n"
     ]
    }
   ],
   "source": [
    "print(table)"
   ]
  },
  {
   "cell_type": "code",
   "execution_count": 92,
   "id": "e2459296",
   "metadata": {},
   "outputs": [
    {
     "data": {
      "text/plain": [
       "\"I can't believe it's a friday\""
      ]
     },
     "execution_count": 92,
     "metadata": {},
     "output_type": "execute_result"
    }
   ],
   "source": [
    "# \\' escape quote\n",
    "strng = 'I can\\'t believe it\\'s a friday'\n",
    "strng"
   ]
  },
  {
   "cell_type": "code",
   "execution_count": 93,
   "id": "fe26d433",
   "metadata": {},
   "outputs": [
    {
     "name": "stdout",
     "output_type": "stream",
     "text": [
      "I can't believe it's a friday\n"
     ]
    }
   ],
   "source": [
    "print(strng)"
   ]
  },
  {
   "cell_type": "code",
   "execution_count": 95,
   "id": "05b39f35",
   "metadata": {},
   "outputs": [
    {
     "name": "stdout",
     "output_type": "stream",
     "text": [
      "Hello, I am \r",
      "Huzaifa, I am going to kanpur\n"
     ]
    }
   ],
   "source": [
    "# carriage rerturn \\r >> move the cursor to the beginning of line\n",
    "print(\"Hello, I am \\rHuzaifa, I am going to kanpur\")"
   ]
  },
  {
   "cell_type": "code",
   "execution_count": 96,
   "id": "b9e29e1e",
   "metadata": {},
   "outputs": [
    {
     "name": "stdout",
     "output_type": "stream",
     "text": [
      "Hello I am Huzaifa\n",
      "Hello I am Mohd\n",
      "Hello I am Ansari\n"
     ]
    }
   ],
   "source": [
    "# String formating >> creating string with placeholder for variable\n",
    "print(\"Hello I am Huzaifa\")\n",
    "print(\"Hello I am Mohd\")\n",
    "print(\"Hello I am Ansari\")"
   ]
  },
  {
   "cell_type": "code",
   "execution_count": 97,
   "id": "497bf289",
   "metadata": {},
   "outputs": [
    {
     "name": "stdout",
     "output_type": "stream",
     "text": [
      "Hello, I am Huzaifa, how are you\n"
     ]
    }
   ],
   "source": [
    "name = \"Huzaifa\"\n",
    "greetings = f\"Hello, I am {name}, how are you\"\n",
    "print(greetings)"
   ]
  },
  {
   "cell_type": "code",
   "execution_count": 99,
   "id": "ea4d9f8b",
   "metadata": {},
   "outputs": [
    {
     "name": "stdout",
     "output_type": "stream",
     "text": [
      "Hello Huzaifa, how are you?\n"
     ]
    }
   ],
   "source": [
    "# string formating with %s\n",
    "name = \"Huzaifa\"\n",
    "greeting = \"Hello %s, how are you?\"%name\n",
    "print(greeting)"
   ]
  },
  {
   "cell_type": "code",
   "execution_count": 101,
   "id": "060e9fdb",
   "metadata": {},
   "outputs": [
    {
     "name": "stdout",
     "output_type": "stream",
     "text": [
      "Hello Huzaifa, i studied Data Science course\n"
     ]
    }
   ],
   "source": [
    "# .formate\n",
    "template = \"Hello {}, i studied {} course\"\n",
    "data = template.format(\"Huzaifa\", \"Data Science\")\n",
    "print(data)"
   ]
  },
  {
   "cell_type": "code",
   "execution_count": 105,
   "id": "89fe5257",
   "metadata": {},
   "outputs": [
    {
     "data": {
      "text/plain": [
       "'Hello, My course is Data science + generative AI and its duration is 6 months.'"
      ]
     },
     "execution_count": 105,
     "metadata": {},
     "output_type": "execute_result"
    }
   ],
   "source": [
    "# f formatting\n",
    "course = \"Data science + generative AI\"\n",
    "duration = 6\n",
    "f\"Hello, My course is {course} and its duration is {duration} months.\""
   ]
  },
  {
   "cell_type": "code",
   "execution_count": 106,
   "id": "a465e354",
   "metadata": {},
   "outputs": [
    {
     "name": "stdout",
     "output_type": "stream",
     "text": [
      "Hello Huzaifa, Today's date is 28-aug-2024.\n"
     ]
    }
   ],
   "source": [
    "user_name = \"Huzaifa\"\n",
    "post_date = \"28-aug-2024\"\n",
    "print(f\"Hello {user_name}, Today's date is {post_date}.\")"
   ]
  },
  {
   "cell_type": "code",
   "execution_count": 108,
   "id": "750845e5",
   "metadata": {},
   "outputs": [
    {
     "data": {
      "text/plain": [
       "'30 is equal to 86.0F'"
      ]
     },
     "execution_count": 108,
     "metadata": {},
     "output_type": "execute_result"
    }
   ],
   "source": [
    "celcious = 30\n",
    "f\"{celcious} is equal to {(celcious* 9/5)+32}F\""
   ]
  },
  {
   "cell_type": "code",
   "execution_count": 111,
   "id": "40ba0c38",
   "metadata": {},
   "outputs": [
    {
     "data": {
      "text/plain": [
       "True"
      ]
     },
     "execution_count": 111,
     "metadata": {},
     "output_type": "execute_result"
    }
   ],
   "source": [
    "str1 = \"pwskills\"\n",
    "str1.startswith(\"pw\")"
   ]
  },
  {
   "cell_type": "code",
   "execution_count": 112,
   "id": "57c87571",
   "metadata": {},
   "outputs": [
    {
     "data": {
      "text/plain": [
       "True"
      ]
     },
     "execution_count": 112,
     "metadata": {},
     "output_type": "execute_result"
    }
   ],
   "source": [
    "str1 = \"pwskills\"\n",
    "str1.startswith(\"pws\")"
   ]
  },
  {
   "cell_type": "code",
   "execution_count": 113,
   "id": "fd477a2b",
   "metadata": {},
   "outputs": [
    {
     "data": {
      "text/plain": [
       "False"
      ]
     },
     "execution_count": 113,
     "metadata": {},
     "output_type": "execute_result"
    }
   ],
   "source": [
    "str1 = \"pwskills\"\n",
    "str1.startswith(\"aws\")"
   ]
  },
  {
   "cell_type": "code",
   "execution_count": 114,
   "id": "c2c045ed",
   "metadata": {},
   "outputs": [
    {
     "data": {
      "text/plain": [
       "False"
      ]
     },
     "execution_count": 114,
     "metadata": {},
     "output_type": "execute_result"
    }
   ],
   "source": [
    "str1.endswith(\"Lls\")"
   ]
  },
  {
   "cell_type": "code",
   "execution_count": 115,
   "id": "576912e7",
   "metadata": {},
   "outputs": [
    {
     "data": {
      "text/plain": [
       "True"
      ]
     },
     "execution_count": 115,
     "metadata": {},
     "output_type": "execute_result"
    }
   ],
   "source": [
    "str1.endswith(\"lls\")"
   ]
  },
  {
   "cell_type": "code",
   "execution_count": 116,
   "id": "5e626faa",
   "metadata": {},
   "outputs": [
    {
     "data": {
      "text/plain": [
       "False"
      ]
     },
     "execution_count": 116,
     "metadata": {},
     "output_type": "execute_result"
    }
   ],
   "source": [
    "str1.endswith(\"kls\")"
   ]
  },
  {
   "cell_type": "code",
   "execution_count": 117,
   "id": "9f0287bc",
   "metadata": {},
   "outputs": [
    {
     "data": {
      "text/plain": [
       "True"
      ]
     },
     "execution_count": 117,
     "metadata": {},
     "output_type": "execute_result"
    }
   ],
   "source": [
    "a = \"abc123\"\n",
    "a.isalnum() #>> isaplhanumeric to check string contain alphabet and numeric element "
   ]
  },
  {
   "cell_type": "code",
   "execution_count": 118,
   "id": "05c5e380",
   "metadata": {},
   "outputs": [
    {
     "data": {
      "text/plain": [
       "True"
      ]
     },
     "execution_count": 118,
     "metadata": {},
     "output_type": "execute_result"
    }
   ],
   "source": [
    "b = \"abc\"\n",
    "b.isalnum() #>> it gives TRUE bcz it has alphabets element"
   ]
  },
  {
   "cell_type": "code",
   "execution_count": 119,
   "id": "0d02cc3c",
   "metadata": {},
   "outputs": [
    {
     "ename": "AttributeError",
     "evalue": "'int' object has no attribute 'isalnum'",
     "output_type": "error",
     "traceback": [
      "\u001b[1;31m---------------------------------------------------------------------------\u001b[0m",
      "\u001b[1;31mAttributeError\u001b[0m                            Traceback (most recent call last)",
      "Cell \u001b[1;32mIn[119], line 2\u001b[0m\n\u001b[0;32m      1\u001b[0m c \u001b[38;5;241m=\u001b[39m \u001b[38;5;241m123\u001b[39m\n\u001b[1;32m----> 2\u001b[0m \u001b[43mc\u001b[49m\u001b[38;5;241;43m.\u001b[39;49m\u001b[43misalnum\u001b[49m()\n",
      "\u001b[1;31mAttributeError\u001b[0m: 'int' object has no attribute 'isalnum'"
     ]
    }
   ],
   "source": [
    "c = 123\n",
    "c.isalnum()"
   ]
  },
  {
   "cell_type": "code",
   "execution_count": 123,
   "id": "cb921438",
   "metadata": {},
   "outputs": [
    {
     "name": "stdout",
     "output_type": "stream",
     "text": [
      "P\n",
      "w\n",
      "s\n",
      "k\n",
      "i\n",
      "l\n",
      "l\n",
      "s\n"
     ]
    }
   ],
   "source": [
    "a = \"Pwskills\"\n",
    "count = 0\n",
    "for i in a:\n",
    "    print(i)\n",
    "    count = count+1"
   ]
  },
  {
   "cell_type": "code",
   "execution_count": 122,
   "id": "24b9ebde",
   "metadata": {},
   "outputs": [
    {
     "name": "stdout",
     "output_type": "stream",
     "text": [
      "8\n"
     ]
    }
   ],
   "source": [
    "print(count)"
   ]
  },
  {
   "cell_type": "code",
   "execution_count": null,
   "id": "819d4107",
   "metadata": {},
   "outputs": [],
   "source": []
  }
 ],
 "metadata": {
  "kernelspec": {
   "display_name": "Python 3 (ipykernel)",
   "language": "python",
   "name": "python3"
  },
  "language_info": {
   "codemirror_mode": {
    "name": "ipython",
    "version": 3
   },
   "file_extension": ".py",
   "mimetype": "text/x-python",
   "name": "python",
   "nbconvert_exporter": "python",
   "pygments_lexer": "ipython3",
   "version": "3.11.5"
  }
 },
 "nbformat": 4,
 "nbformat_minor": 5
}
