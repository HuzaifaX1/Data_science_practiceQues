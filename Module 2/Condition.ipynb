{
 "cells": [
  {
   "cell_type": "code",
   "execution_count": 1,
   "id": "5b3d6673",
   "metadata": {},
   "outputs": [
    {
     "name": "stdout",
     "output_type": "stream",
     "text": [
      "Room temperature\n"
     ]
    }
   ],
   "source": [
    "# if condition\n",
    "temp = 30\n",
    "if temp> 25:\n",
    "    print(\"Room temperature\")"
   ]
  },
  {
   "cell_type": "code",
   "execution_count": 2,
   "id": "1c47b79f",
   "metadata": {},
   "outputs": [
    {
     "name": "stdout",
     "output_type": "stream",
     "text": [
      "studying\n"
     ]
    }
   ],
   "source": [
    "pw_course = True\n",
    "if pw_course:\n",
    "    print(\"studying\")"
   ]
  },
  {
   "cell_type": "code",
   "execution_count": 3,
   "id": "cc69c9e6",
   "metadata": {},
   "outputs": [
    {
     "name": "stdout",
     "output_type": "stream",
     "text": [
      "You are genius\n"
     ]
    }
   ],
   "source": [
    "grade = 10\n",
    "if grade >= 8:\n",
    "    print(\"You are genius\")"
   ]
  },
  {
   "cell_type": "code",
   "execution_count": 6,
   "id": "8ca81996",
   "metadata": {},
   "outputs": [
    {
     "name": "stdout",
     "output_type": "stream",
     "text": [
      "Odd Number\n"
     ]
    }
   ],
   "source": [
    "number = 43\n",
    "if number % 2 == 0:\n",
    "    print(\"Even Number\")\n",
    "else:\n",
    "    print(\"Odd Number\")"
   ]
  },
  {
   "cell_type": "code",
   "execution_count": 7,
   "id": "4ab6d173",
   "metadata": {},
   "outputs": [
    {
     "name": "stdout",
     "output_type": "stream",
     "text": [
      "You are all rounder\n"
     ]
    }
   ],
   "source": [
    "grade = 8\n",
    "co_cir = True\n",
    "if ((grade >= 8) & (co_cir == True)):\n",
    "    print(\"You are all rounder\")"
   ]
  },
  {
   "cell_type": "code",
   "execution_count": 14,
   "id": "f05f5e1b",
   "metadata": {},
   "outputs": [
    {
     "name": "stdout",
     "output_type": "stream",
     "text": [
      "I will play cricket\n"
     ]
    }
   ],
   "source": [
    "# if else condition\n",
    "\n",
    "# In real life one condition is not full fill, you will do something else\n",
    "weather = \"sunny\"\n",
    "if weather ==\"sunny\":\n",
    "    print(\"I will play cricket\")\n",
    "else:\n",
    "    print(\"I'll Watch movie\")\n"
   ]
  },
  {
   "cell_type": "code",
   "execution_count": 23,
   "id": "693ef190",
   "metadata": {},
   "outputs": [
    {
     "name": "stdout",
     "output_type": "stream",
     "text": [
      "you can take your driving license sir😊\n"
     ]
    }
   ],
   "source": [
    "age = 18\n",
    "if age >= 18:\n",
    "    print(\"you can take your driving license sir😊\")\n",
    "else:\n",
    "    print(\"Porsche driver banna h kya dhakkan\")"
   ]
  },
  {
   "cell_type": "code",
   "execution_count": 28,
   "id": "197a6c20",
   "metadata": {},
   "outputs": [
    {
     "name": "stdout",
     "output_type": "stream",
     "text": [
      "doing dropshipping\n"
     ]
    }
   ],
   "source": [
    "ds_course = False\n",
    "if ds_course:\n",
    "    print(\"I'll become rich in future and earn lot of money\")\n",
    "else:\n",
    "    print(\"doing dropshipping\")"
   ]
  },
  {
   "cell_type": "code",
   "execution_count": 30,
   "id": "c275e075",
   "metadata": {},
   "outputs": [
    {
     "name": "stdout",
     "output_type": "stream",
     "text": [
      "Repeat the class\n"
     ]
    }
   ],
   "source": [
    "score = 30\n",
    "if score >= 33:\n",
    "    print(\"You are passed\")\n",
    "else:\n",
    "    print(\"Repeat the class\")"
   ]
  },
  {
   "cell_type": "code",
   "execution_count": 32,
   "id": "961246cb",
   "metadata": {},
   "outputs": [
    {
     "name": "stdout",
     "output_type": "stream",
     "text": [
      "Even\n"
     ]
    }
   ],
   "source": [
    "# check no is even or odd\n",
    "num = 8\n",
    "if num % 2==0:\n",
    "    print(\"Even\")\n",
    "else:\n",
    "    print(\"Odd\")"
   ]
  },
  {
   "cell_type": "code",
   "execution_count": 36,
   "id": "c46266e9",
   "metadata": {},
   "outputs": [
    {
     "name": "stdout",
     "output_type": "stream",
     "text": [
      "The number is equal than 100\n"
     ]
    }
   ],
   "source": [
    "# if-elif-else condition\n",
    "\n",
    "a = 100\n",
    "if a < 100:\n",
    "    print(\"The num is lesser than 100\")\n",
    "elif a >  2000:\n",
    "    print(\"The Number is huge\")\n",
    "elif a > 100:\n",
    "    print(\"The number is greater than 100\")\n",
    "else:\n",
    "    print(\"The number is equal than 100\")"
   ]
  },
  {
   "cell_type": "code",
   "execution_count": 53,
   "id": "36dec5f9",
   "metadata": {},
   "outputs": [
    {
     "name": "stdout",
     "output_type": "stream",
     "text": [
      "grade C+\n"
     ]
    }
   ],
   "source": [
    "score = 66\n",
    "if score >= 90:\n",
    "    print(\"grade A\")\n",
    "elif 80<=score<90:\n",
    "    print(\"grade B\")\n",
    "elif 70<=score<80:\n",
    "    print(\"grade C\")\n",
    "elif 60<=score<70:\n",
    "    print(\"grade C+\")\n",
    "else:\n",
    "    print(\"grade D\")"
   ]
  },
  {
   "cell_type": "code",
   "execution_count": 59,
   "id": "0d110986",
   "metadata": {},
   "outputs": [
    {
     "name": "stdout",
     "output_type": "stream",
     "text": [
      "You are Senior citizen\n"
     ]
    }
   ],
   "source": [
    "age = 67\n",
    "if age < 18:\n",
    "    print(\"You are teen\")\n",
    "elif 18<= age < 65:\n",
    "    print(\"You are Adult\")\n",
    "else:\n",
    "    print(\"You are Senior citizen\")"
   ]
  },
  {
   "cell_type": "code",
   "execution_count": 85,
   "id": "7890a75e",
   "metadata": {},
   "outputs": [
    {
     "name": "stdout",
     "output_type": "stream",
     "text": [
      "x is greater than 5 but y is lesser than 5\n"
     ]
    }
   ],
   "source": [
    "# Nested if-else --> You can have multiple if-else inside the if-else statement\n",
    "x = 8\n",
    "y = 0\n",
    "if x > 5:\n",
    "    if x > 5:\n",
    "        if y > 5:\n",
    "            print(\"Both x and y are greater than 5\")\n",
    "        else:\n",
    "            print(\"x is greater than 5 but y is lesser than 5\")\n",
    "    else:\n",
    "        print(\"x is lesser than 5\")\n",
    "else:\n",
    "    print(\"x is lesser than 5 but y is greater than 5\")"
   ]
  },
  {
   "cell_type": "code",
   "execution_count": 90,
   "id": "d2aaf457",
   "metadata": {},
   "outputs": [
    {
     "name": "stdout",
     "output_type": "stream",
     "text": [
      "You are not vip customer, so you can't take discount\n"
     ]
    }
   ],
   "source": [
    "is_vip = False\n",
    "age = 17\n",
    "if is_vip:\n",
    "    if age >=18:\n",
    "        if age<65:\n",
    "            print(\"You are vip customer\")\n",
    "        else:\n",
    "            print(\"You are senior citizen and important, so you will claim huge discount\")\n",
    "    else:\n",
    "        print(\"You are lesser than 18 year old\")\n",
    "else:\n",
    "    print(\"You are not vip customer, so you can't take discount\")"
   ]
  },
  {
   "cell_type": "code",
   "execution_count": 99,
   "id": "268c3cfd",
   "metadata": {},
   "outputs": [
    {
     "name": "stdout",
     "output_type": "stream",
     "text": [
      "Enter a Number-1\n",
      "The number is negative\n"
     ]
    }
   ],
   "source": [
    "a = int(input(\"Enter a Number\"))\n",
    "if a > 100:\n",
    "    print(\"number is greater than 100\")\n",
    "elif 0 == a:\n",
    "    print(\"Number is equal to 0\")\n",
    "elif 0<a<100:\n",
    "    print(\"The number is greater than 0 and lesser than 100\")\n",
    "else:\n",
    "    print(\"The number is negative\")"
   ]
  },
  {
   "cell_type": "code",
   "execution_count": 107,
   "id": "8ec5a727",
   "metadata": {},
   "outputs": [
    {
     "name": "stdout",
     "output_type": "stream",
     "text": [
      "Enter your nameifasdkhfkas\n",
      "Enter your emaildijshfah@irujfa\n",
      "Enter the passwordofhfh34fh3498\n",
      "Login/Registration is successful\n"
     ]
    }
   ],
   "source": [
    "# Making a login form\n",
    "name = input(\"Enter your name\")\n",
    "email = input(\"Enter your email\")\n",
    "password = input(\"Enter the password\")\n",
    "if name ==\"\":\n",
    "    print(\"Please enter your valid name, empty cells are not allowed\")\n",
    "else:\n",
    "    if \"@\" not in email:\n",
    "        print(\"Please enter your valid email\")\n",
    "    else:\n",
    "            if len(password) < 4:\n",
    "                print(\"Your password should be atleast 5 length long\")\n",
    "            else:\n",
    "                print(\"Login/Registration is successful\")\n",
    "            "
   ]
  },
  {
   "cell_type": "code",
   "execution_count": null,
   "id": "9a5ed04a",
   "metadata": {},
   "outputs": [],
   "source": []
  }
 ],
 "metadata": {
  "kernelspec": {
   "display_name": "Python 3 (ipykernel)",
   "language": "python",
   "name": "python3"
  },
  "language_info": {
   "codemirror_mode": {
    "name": "ipython",
    "version": 3
   },
   "file_extension": ".py",
   "mimetype": "text/x-python",
   "name": "python",
   "nbconvert_exporter": "python",
   "pygments_lexer": "ipython3",
   "version": "3.11.5"
  }
 },
 "nbformat": 4,
 "nbformat_minor": 5
}
