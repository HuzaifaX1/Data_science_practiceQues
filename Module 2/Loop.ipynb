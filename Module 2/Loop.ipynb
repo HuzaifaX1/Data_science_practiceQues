{
 "cells": [
  {
   "cell_type": "code",
   "execution_count": 7,
   "id": "cb02839b",
   "metadata": {},
   "outputs": [
    {
     "name": "stdout",
     "output_type": "stream",
     "text": [
      "1\n",
      "2\n",
      "3\n",
      "4\n",
      "5\n",
      "6\n",
      "The loop is executed successfully without any break\n"
     ]
    }
   ],
   "source": [
    "# loop>> execute repeatedly until the condition is met\n",
    "# Now start with while loop\n",
    "# Syntex\n",
    "n = 7 \n",
    "i = 1\n",
    "while i < n:\n",
    "    print(i)\n",
    "    i = i+1\n",
    "else:\n",
    "    print(\"The loop is executed successfully without any break\")"
   ]
  },
  {
   "cell_type": "code",
   "execution_count": 6,
   "id": "af29010f",
   "metadata": {},
   "outputs": [
    {
     "name": "stdout",
     "output_type": "stream",
     "text": [
      "5\n",
      "4\n",
      "3\n",
      "2\n",
      "1\n"
     ]
    }
   ],
   "source": [
    "count = 5\n",
    "while count > 0:\n",
    "    print(count)\n",
    "    count = count - 1"
   ]
  },
  {
   "cell_type": "code",
   "execution_count": 10,
   "id": "5ca093bc",
   "metadata": {},
   "outputs": [
    {
     "name": "stdout",
     "output_type": "stream",
     "text": [
      "1\n",
      "2\n"
     ]
    }
   ],
   "source": [
    "# break>> Terminate or exit from the loop,,,,, The condition is met it will break the loop\n",
    "# break means come out of the loop, beech se hi loop break krke bahar aa jayega\n",
    "\n",
    "n = 7 \n",
    "i = 1\n",
    "while i < n:\n",
    "    print(i)\n",
    "    i = i+1\n",
    "    if i==3:\n",
    "        break\n",
    "else:\n",
    "    print(\"The loop is executed successfully without any break\")"
   ]
  },
  {
   "cell_type": "code",
   "execution_count": 12,
   "id": "f233f7f2",
   "metadata": {},
   "outputs": [
    {
     "name": "stdout",
     "output_type": "stream",
     "text": [
      "2\n",
      "4\n",
      "5\n",
      "6\n",
      "7\n",
      "This loop is executed successfully without any break\n"
     ]
    }
   ],
   "source": [
    "# Continue>> Skip the iteration\n",
    "n = 7\n",
    "i = 1\n",
    "while i < n:\n",
    "    i = i + 1\n",
    "    if i == 3:\n",
    "        continue\n",
    "    print(i)\n",
    "else:\n",
    "    print(\"This loop is executed successfully without any break\")"
   ]
  },
  {
   "cell_type": "code",
   "execution_count": 14,
   "id": "2b983583",
   "metadata": {},
   "outputs": [
    {
     "name": "stdout",
     "output_type": "stream",
     "text": [
      "H\n",
      "u\n",
      "z\n",
      "a\n",
      "i\n",
      "f\n",
      "a\n"
     ]
    }
   ],
   "source": [
    "# for loop>> Iterate over a sequence of element >> string, list\n",
    "a = \"Huzaifa\"\n",
    "for i in a:\n",
    "    print(i)"
   ]
  },
  {
   "cell_type": "code",
   "execution_count": 23,
   "id": "b34ed577",
   "metadata": {},
   "outputs": [
    {
     "name": "stdout",
     "output_type": "stream",
     "text": [
      "1\n",
      "2\n",
      "Huzaifa\n",
      "3\n",
      "4\n",
      "5\n",
      "This will be executed when for loop ends without any break \n"
     ]
    }
   ],
   "source": [
    "a = [1, 2, \"Huzaifa\", 3, 4, 5]\n",
    "for i in a:\n",
    "    print(i)\n",
    "else:\n",
    "    print(\"This will be executed when for loop ends without any break \")"
   ]
  },
  {
   "cell_type": "code",
   "execution_count": 25,
   "id": "3c3954df",
   "metadata": {},
   "outputs": [
    {
     "name": "stdout",
     "output_type": "stream",
     "text": [
      "1\n",
      "2\n"
     ]
    }
   ],
   "source": [
    "# break statement i for loop\n",
    "for i in a:\n",
    "    if i == \"Huzaifa\":\n",
    "        break\n",
    "    print(i)\n",
    "else:\n",
    "    print(\"This will be executed when for loop ends without any break \")"
   ]
  },
  {
   "cell_type": "code",
   "execution_count": 28,
   "id": "d787ae11",
   "metadata": {},
   "outputs": [
    {
     "name": "stdout",
     "output_type": "stream",
     "text": [
      "1\n",
      "2\n",
      "3\n",
      "4\n",
      "5\n",
      "This will be executed when for loop ends without any break\n"
     ]
    }
   ],
   "source": [
    "for i in a:\n",
    "    if i == \"Huzaifa\":\n",
    "        continue\n",
    "    print(i)\n",
    "else:\n",
    "    print(\"This will be executed when for loop ends without any break\")"
   ]
  },
  {
   "cell_type": "code",
   "execution_count": 31,
   "id": "d7a426c7",
   "metadata": {},
   "outputs": [
    {
     "data": {
      "text/plain": [
       "[0, 1, 2, 3, 4, 5, 6, 7, 8, 9]"
      ]
     },
     "execution_count": 31,
     "metadata": {},
     "output_type": "execute_result"
    }
   ],
   "source": [
    "# range>> it will give value from 0 to as you want\n",
    "list(range(0, 10))"
   ]
  },
  {
   "cell_type": "code",
   "execution_count": 34,
   "id": "5f299fad",
   "metadata": {},
   "outputs": [
    {
     "name": "stdout",
     "output_type": "stream",
     "text": [
      "0\n",
      "1\n",
      "2\n",
      "3\n",
      "4\n",
      "5\n",
      "6\n",
      "7\n",
      "8\n",
      "9\n"
     ]
    }
   ],
   "source": [
    "for i in range(10):\n",
    "    print(i)"
   ]
  },
  {
   "cell_type": "code",
   "execution_count": 35,
   "id": "092c41cf",
   "metadata": {},
   "outputs": [
    {
     "name": "stdout",
     "output_type": "stream",
     "text": [
      "0 1 2 3 4 5 6 7 8 9 "
     ]
    }
   ],
   "source": [
    "for i in range(10):\n",
    "    print(i, end=\" \")"
   ]
  },
  {
   "cell_type": "code",
   "execution_count": 41,
   "id": "a1c396c7",
   "metadata": {},
   "outputs": [
    {
     "data": {
      "text/plain": [
       "[0, 2, 4, 6, 8]"
      ]
     },
     "execution_count": 41,
     "metadata": {},
     "output_type": "execute_result"
    }
   ],
   "source": [
    "# syntax of range statement\n",
    "list(range(0, 10, 2))"
   ]
  },
  {
   "cell_type": "code",
   "execution_count": null,
   "id": "7f13c61b",
   "metadata": {},
   "outputs": [],
   "source": [
    "\n"
   ]
  },
  {
   "cell_type": "code",
   "execution_count": 52,
   "id": "85500f1f",
   "metadata": {},
   "outputs": [
    {
     "name": "stdout",
     "output_type": "stream",
     "text": [
      "*\n",
      "**\n",
      "***\n",
      "****\n"
     ]
    }
   ],
   "source": [
    "# Problem statement\n",
    "# Print right angle triangle with * pattern using while loop\n",
    "row = 1\n",
    "while row <=4:\n",
    "    col = 1\n",
    "    while col <= row:\n",
    "        print(\"*\", end=\"\")\n",
    "        col = col + 1\n",
    "    print()\n",
    "    row =  row +1\n",
    "        "
   ]
  },
  {
   "cell_type": "code",
   "execution_count": null,
   "id": "85931ba5",
   "metadata": {},
   "outputs": [],
   "source": [
    "#  Problem statement\n",
    "# Print right angle triangle with * pattern using for loop"
   ]
  },
  {
   "cell_type": "code",
   "execution_count": 53,
   "id": "2e74f211",
   "metadata": {},
   "outputs": [
    {
     "name": "stdout",
     "output_type": "stream",
     "text": [
      "*\n",
      "**\n",
      "***\n",
      "****\n"
     ]
    }
   ],
   "source": [
    "for i in range(4):\n",
    "    for j in range(i+1):\n",
    "        print(\"*\", end = \"\")\n",
    "    print()"
   ]
  },
  {
   "cell_type": "code",
   "execution_count": null,
   "id": "d2ad9089",
   "metadata": {},
   "outputs": [],
   "source": []
  }
 ],
 "metadata": {
  "kernelspec": {
   "display_name": "Python 3 (ipykernel)",
   "language": "python",
   "name": "python3"
  },
  "language_info": {
   "codemirror_mode": {
    "name": "ipython",
    "version": 3
   },
   "file_extension": ".py",
   "mimetype": "text/x-python",
   "name": "python",
   "nbconvert_exporter": "python",
   "pygments_lexer": "ipython3",
   "version": "3.11.5"
  }
 },
 "nbformat": 4,
 "nbformat_minor": 5
}
