{
 "cells": [
  {
   "cell_type": "markdown",
   "id": "af1c314d",
   "metadata": {},
   "source": [
    "##### Ques1: Explain the key features of python that make it a popular choice for programming."
   ]
  },
  {
   "cell_type": "raw",
   "id": "18d45d59",
   "metadata": {},
   "source": [
    "Python is a dynamic, high level, open source and interpreted programming languafe, It is versatile, readable and ease of use. It support both Object-Oriented Programming as well as Procedural-Oriented Programming.\n",
    "Don't need to declare the  type of variable because it is dynamically typed language."
   ]
  },
  {
   "cell_type": "code",
   "execution_count": null,
   "id": "75b00814",
   "metadata": {},
   "outputs": [],
   "source": []
  }
 ],
 "metadata": {
  "kernelspec": {
   "display_name": "Python 3 (ipykernel)",
   "language": "python",
   "name": "python3"
  },
  "language_info": {
   "codemirror_mode": {
    "name": "ipython",
    "version": 3
   },
   "file_extension": ".py",
   "mimetype": "text/x-python",
   "name": "python",
   "nbconvert_exporter": "python",
   "pygments_lexer": "ipython3",
   "version": "3.11.5"
  }
 },
 "nbformat": 4,
 "nbformat_minor": 5
}
