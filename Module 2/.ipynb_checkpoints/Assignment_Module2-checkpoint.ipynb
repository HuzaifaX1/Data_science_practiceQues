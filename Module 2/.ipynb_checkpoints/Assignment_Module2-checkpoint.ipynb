{
 "cells": [
  {
   "cell_type": "markdown",
   "id": "0cf15b08",
   "metadata": {},
   "source": [
    "##### Ques1: Explain the key features of python that make it a popular choice for programming."
   ]
  },
  {
   "cell_type": "raw",
   "id": "c1510534",
   "metadata": {},
   "source": [
    "Python is a dynamic, high level, open source and interpreted programming languafe, It is versatile, readable and ease of use. It support both Object-Oriented Programming as well as Procedural-Oriented Programming.\n",
    "Don't need to declare the  type of variable because it is dynamically typed language."
   ]
  },
  {
   "cell_type": "code",
   "execution_count": null,
   "id": "2d3dfb17",
   "metadata": {},
   "outputs": [],
   "source": []
  }
 ],
 "metadata": {
  "kernelspec": {
   "display_name": "Python 3 (ipykernel)",
   "language": "python",
   "name": "python3"
  },
  "language_info": {
   "codemirror_mode": {
    "name": "ipython",
    "version": 3
   },
   "file_extension": ".py",
   "mimetype": "text/x-python",
   "name": "python",
   "nbconvert_exporter": "python",
   "pygments_lexer": "ipython3",
   "version": "3.11.5"
  }
 },
 "nbformat": 4,
 "nbformat_minor": 5
}
